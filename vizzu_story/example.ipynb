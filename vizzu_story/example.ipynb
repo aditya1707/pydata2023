{
 "cells": [
  {
   "cell_type": "code",
   "execution_count": 1,
   "id": "732443a9",
   "metadata": {},
   "outputs": [],
   "source": [
    "from ipyvizzu import Data, Config\n",
    "from ipyvizzustory import Slide, Step\n",
    " \n",
    "from ipyvizzustory import Story"
   ]
  },
  {
   "cell_type": "code",
   "execution_count": 2,
   "id": "20b9c549",
   "metadata": {},
   "outputs": [],
   "source": [
    "data = Data()\n",
    "data.add_series(\"Foo\", [\"Alice\", \"Bob\", \"Ted\"])\n",
    "data.add_series(\"Bar\", [15, 32, 12])\n",
    "data.add_series(\"Baz\", [5, 3, 2])"
   ]
  },
  {
   "cell_type": "code",
   "execution_count": 3,
   "id": "3dba08d7",
   "metadata": {},
   "outputs": [],
   "source": [
    "story = Story(data=data)"
   ]
  },
  {
   "cell_type": "code",
   "execution_count": 4,
   "id": "6338d04e",
   "metadata": {},
   "outputs": [],
   "source": [
    "slide1 = Slide(\n",
    "    Step(\n",
    "        Config({\"x\": \"Foo\", \"y\": \"Bar\"}),\n",
    "    )\n",
    ")\n",
    "story.add_slide(slide1)\n",
    " \n",
    "slide2 = Slide(\n",
    "    Step(\n",
    "        Config({\"color\": \"Foo\", \"x\": \"Baz\", \"geometry\": \"circle\"}),\n",
    "    )\n",
    ")\n",
    "story.add_slide(slide2)"
   ]
  },
  {
   "cell_type": "code",
   "execution_count": 5,
   "id": "5b24f19c",
   "metadata": {},
   "outputs": [],
   "source": [
    "story.set_size(width=\"800px\", height=\"480px\")"
   ]
  },
  {
   "cell_type": "code",
   "execution_count": 6,
   "id": "80cb71cc",
   "metadata": {},
   "outputs": [],
   "source": [
    "story.export_to_html(filename=\"mystory.html\")"
   ]
  },
  {
   "cell_type": "code",
   "execution_count": 7,
   "id": "58f16c03",
   "metadata": {},
   "outputs": [
    {
     "name": "stdout",
     "output_type": "stream",
     "text": [
      "\n",
      "<div>\n",
      "    <vizzu-player id=\"aa3e356\"  controller></vizzu-player>\n",
      "    <script type=\"module\">\n",
      "        import VizzuPlayer from \"https://cdn.jsdelivr.net/npm/vizzu-story@0.3/dist/vizzu-story.min.js\";\n",
      "\n",
      "        const vp = document.getElementById(\"aa3e356\");\n",
      "        import(vp.vizzuUrl).then(vizzuLoaded => {\n",
      "            const lib = vizzuLoaded.default;\n",
      "            const vizzuPlayerData = {\"data\": {\"series\": [{\"name\": \"Foo\", \"values\": [\"Alice\", \"Bob\", \"Ted\"]}, {\"name\": \"Bar\", \"values\": [15, 32, 12]}, {\"name\": \"Baz\", \"values\": [5, 3, 2]}]}, \"slides\": [[{\"config\": {\"x\": \"Foo\", \"y\": \"Bar\"}}], [{\"config\": {\"color\": \"Foo\", \"x\": \"Baz\", \"geometry\": \"circle\"}}]]};\n",
      "            // story.set_size()\n",
      "            vp.style.cssText = 'width: 800px;height: 480px;'\n",
      "            vp.slides = vizzuPlayerData;\n",
      "            vp.initializing.then(chart => {\n",
      "                // story.set_feature()\n",
      "                \n",
      "                // story.add_event()\n",
      "                \n",
      "            });\n",
      "        });\n",
      "    </script>\n",
      "</div>\n",
      "\n"
     ]
    }
   ],
   "source": [
    "html = story.to_html()\n",
    "print(html)"
   ]
  },
  {
   "cell_type": "code",
   "execution_count": 8,
   "id": "9c553b0e",
   "metadata": {},
   "outputs": [
    {
     "data": {
      "text/html": [
       "\n",
       "<div>\n",
       "    <vizzu-player id=\"9e33c4c\"  controller></vizzu-player>\n",
       "    <script type=\"module\">\n",
       "        import VizzuPlayer from \"https://cdn.jsdelivr.net/npm/vizzu-story@0.3/dist/vizzu-story.min.js\";\n",
       "\n",
       "        const vp = document.getElementById(\"9e33c4c\");\n",
       "        import(vp.vizzuUrl).then(vizzuLoaded => {\n",
       "            const lib = vizzuLoaded.default;\n",
       "            const vizzuPlayerData = {\"data\": {\"series\": [{\"name\": \"Foo\", \"values\": [\"Alice\", \"Bob\", \"Ted\"]}, {\"name\": \"Bar\", \"values\": [15, 32, 12]}, {\"name\": \"Baz\", \"values\": [5, 3, 2]}]}, \"slides\": [[{\"config\": {\"x\": \"Foo\", \"y\": \"Bar\"}}], [{\"config\": {\"color\": \"Foo\", \"x\": \"Baz\", \"geometry\": \"circle\"}}]]};\n",
       "            // story.set_size()\n",
       "            vp.style.cssText = 'width: 800px;height: 480px;'\n",
       "            vp.slides = vizzuPlayerData;\n",
       "            vp.initializing.then(chart => {\n",
       "                // story.set_feature()\n",
       "                \n",
       "                // story.add_event()\n",
       "                \n",
       "            });\n",
       "        });\n",
       "    </script>\n",
       "</div>\n"
      ],
      "text/plain": [
       "<IPython.core.display.HTML object>"
      ]
     },
     "metadata": {},
     "output_type": "display_data"
    }
   ],
   "source": [
    "story.play()"
   ]
  },
  {
   "cell_type": "code",
   "execution_count": null,
   "id": "ca2c696a",
   "metadata": {},
   "outputs": [],
   "source": []
  }
 ],
 "metadata": {
  "kernelspec": {
   "display_name": "vizzu",
   "language": "python",
   "name": "vizzu"
  },
  "language_info": {
   "codemirror_mode": {
    "name": "ipython",
    "version": 3
   },
   "file_extension": ".py",
   "mimetype": "text/x-python",
   "name": "python",
   "nbconvert_exporter": "python",
   "pygments_lexer": "ipython3",
   "version": "3.11.3"
  }
 },
 "nbformat": 4,
 "nbformat_minor": 5
}
