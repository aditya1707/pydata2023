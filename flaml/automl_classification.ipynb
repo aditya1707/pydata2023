{
 "cells": [
  {
   "cell_type": "markdown",
   "metadata": {
    "slideshow": {
     "slide_type": "slide"
    }
   },
   "source": [
    "Copyright (c) Microsoft Corporation. All rights reserved. \n",
    "\n",
    "Licensed under the MIT License.\n",
    "\n",
    "# AutoML with FLAML Library\n",
    "\n",
    "\n",
    "## 1. Introduction\n",
    "\n",
    "FLAML is a Python library (https://github.com/microsoft/FLAML) designed to automatically produce accurate machine learning models \n",
    "with low computational cost. It is fast and economical. The simple and lightweight design makes it easy to use and extend, such as adding new learners. FLAML can \n",
    "- serve as an economical AutoML engine,\n",
    "- be used as a fast hyperparameter tuning tool, or \n",
    "- be embedded in self-tuning software that requires low latency & resource in repetitive\n",
    "   tuning tasks.\n",
    "\n",
    "In this notebook, we use one real data example (binary classification) to showcase how to use FLAML library.\n",
    "\n",
    "FLAML requires `Python>=3.7`. To run this notebook example, please install flaml with the `notebook` option:\n",
    "```bash\n",
    "pip install flaml[notebook]\n",
    "```"
   ]
  },
  {
   "cell_type": "code",
   "execution_count": 1,
   "metadata": {},
   "outputs": [],
   "source": [
    "# %pip install flaml[notebook]==1.0.10\n",
    "# from v0.6.6, catboost is made an optional dependency to build conda package.\n",
    "# to install catboost without installing the notebook option, you can run:\n",
    "# %pip install flaml[catboost]"
   ]
  },
  {
   "cell_type": "markdown",
   "metadata": {
    "slideshow": {
     "slide_type": "slide"
    }
   },
   "source": [
    "## 2. Classification Example\n",
    "### Load data and preprocess\n",
    "\n",
    "Download [Airlines dataset](https://www.openml.org/d/1169) from OpenML. The task is to predict whether a given flight will be delayed, given the information of the scheduled departure."
   ]
  },
  {
   "cell_type": "code",
   "execution_count": 1,
   "metadata": {
    "slideshow": {
     "slide_type": "subslide"
    },
    "tags": []
   },
   "outputs": [
    {
     "name": "stdout",
     "output_type": "stream",
     "text": [
      "load dataset from ./openml_ds1169.pkl\n",
      "Dataset name: airlines\n",
      "X_train.shape: (404537, 7), y_train.shape: (404537,);\n",
      "X_test.shape: (134846, 7), y_test.shape: (134846,)\n",
      "Data type: <class 'pandas.core.frame.DataFrame'> <class 'pandas.core.series.Series'>\n",
      "The first 5 rows of X_train:\n",
      "       Airline  Flight AirportFrom AirportTo DayOfWeek   Time  Length\n",
      "249392      EV  5309.0         MDT       ATL         3  794.0   131.0\n",
      "166918      CO  1079.0         IAH       SAT         5  900.0    60.0\n",
      "89110       US  1636.0         CLE       CLT         1  530.0   103.0\n",
      "70258       WN   928.0         CMH       LAS         7  480.0   280.0\n",
      "492985      WN   729.0         GEG       LAS         3  630.0   140.0\n",
      "The first 5 rows of y_train:\n",
      "249392    1\n",
      "166918    0\n",
      "89110     0\n",
      "70258     0\n",
      "492985    1\n",
      "Name: Delay, dtype: category\n",
      "Categories (2, object): ['0' < '1']\n"
     ]
    }
   ],
   "source": [
    "from flaml.data import load_openml_dataset\n",
    "X_train, X_test, y_train, y_test = load_openml_dataset(dataset_id=1169, data_dir='./')\n",
    "print(\"Data type:\", type(X_train), type(y_train))\n",
    "print(\"The first 5 rows of X_train:\")\n",
    "print(X_train.head())\n",
    "print(\"The first 5 rows of y_train:\")\n",
    "print(y_train.head())"
   ]
  },
  {
   "cell_type": "markdown",
   "metadata": {
    "slideshow": {
     "slide_type": "slide"
    }
   },
   "source": [
    "### Run FLAML\n",
    "In the FLAML automl run configuration, users can specify the task type, time budget, error metric, learner list, whether to subsample, resampling strategy type, and so on. All these arguments have default values which will be used if users do not provide them. For example, the default classifiers are `['lgbm', 'xgboost', 'xgb_limitdepth', 'catboost', 'rf', 'extra_tree', 'lrl1']`. "
   ]
  },
  {
   "cell_type": "code",
   "execution_count": 2,
   "metadata": {
    "slideshow": {
     "slide_type": "slide"
    }
   },
   "outputs": [],
   "source": [
    "''' import AutoML class from flaml package '''\n",
    "from flaml import AutoML\n",
    "automl = AutoML()"
   ]
  },
  {
   "cell_type": "code",
   "execution_count": 3,
   "metadata": {
    "slideshow": {
     "slide_type": "slide"
    }
   },
   "outputs": [],
   "source": [
    "settings = {\n",
    "    \"time_budget\": 120,  # total running time in seconds\n",
    "    \"metric\": 'accuracy',  # can be: 'r2', 'rmse', 'mae', 'mse', 'accuracy', 'roc_auc', 'roc_auc_ovr',\n",
    "                           # 'roc_auc_ovo', 'log_loss', 'mape', 'f1', 'ap', 'ndcg', 'micro_f1', 'macro_f1'\n",
    "    \"task\": 'classification',  # task type\n",
    "    \"log_file_name\": 'airlines_experiment.log',  # flaml log file\n",
    "    \"seed\": 7654321,    # random seed\n",
    "}"
   ]
  },
  {
   "cell_type": "code",
   "execution_count": 4,
   "metadata": {
    "slideshow": {
     "slide_type": "slide"
    },
    "tags": [
     "outputPrepend"
    ]
   },
   "outputs": [
    {
     "name": "stdout",
     "output_type": "stream",
     "text": [
      "[flaml.automl.logger: 04-26 09:49:25] {1682} INFO - task = classification\n",
      "[flaml.automl.logger: 04-26 09:49:25] {1689} INFO - Data split method: stratified\n",
      "[flaml.automl.logger: 04-26 09:49:25] {1692} INFO - Evaluation method: holdout\n",
      "[flaml.automl.logger: 04-26 09:49:25] {1790} INFO - Minimizing error metric: 1-accuracy\n",
      "[flaml.automl.logger: 04-26 09:49:25] {1900} INFO - List of ML learners in AutoML Run: ['lgbm', 'rf', 'xgboost', 'extra_tree', 'xgb_limitdepth', 'lrl1']\n",
      "[flaml.automl.logger: 04-26 09:49:25] {2210} INFO - iteration 0, current learner lgbm\n",
      "[flaml.automl.logger: 04-26 09:49:25] {2336} INFO - Estimated sufficient time budget=19610s. Estimated necessary time budget=452s.\n",
      "[flaml.automl.logger: 04-26 09:49:25] {2383} INFO -  at 0.5s,\testimator lgbm's best error=0.3777,\tbest estimator lgbm's best error=0.3777\n",
      "[flaml.automl.logger: 04-26 09:49:25] {2210} INFO - iteration 1, current learner lgbm\n",
      "[flaml.automl.logger: 04-26 09:49:25] {2383} INFO -  at 0.5s,\testimator lgbm's best error=0.3777,\tbest estimator lgbm's best error=0.3777\n",
      "[flaml.automl.logger: 04-26 09:49:25] {2210} INFO - iteration 2, current learner lgbm\n",
      "[flaml.automl.logger: 04-26 09:49:25] {2383} INFO -  at 0.6s,\testimator lgbm's best error=0.3614,\tbest estimator lgbm's best error=0.3614\n",
      "[flaml.automl.logger: 04-26 09:49:25] {2210} INFO - iteration 3, current learner lgbm\n",
      "[flaml.automl.logger: 04-26 09:49:25] {2383} INFO -  at 0.7s,\testimator lgbm's best error=0.3614,\tbest estimator lgbm's best error=0.3614\n",
      "[flaml.automl.logger: 04-26 09:49:25] {2210} INFO - iteration 4, current learner xgboost\n",
      "[flaml.automl.logger: 04-26 09:49:25] {2383} INFO -  at 0.7s,\testimator xgboost's best error=0.3787,\tbest estimator lgbm's best error=0.3614\n",
      "[flaml.automl.logger: 04-26 09:49:25] {2210} INFO - iteration 5, current learner xgboost\n",
      "[flaml.automl.logger: 04-26 09:49:25] {2383} INFO -  at 0.8s,\testimator xgboost's best error=0.3746,\tbest estimator lgbm's best error=0.3614\n",
      "[flaml.automl.logger: 04-26 09:49:25] {2210} INFO - iteration 6, current learner lgbm\n",
      "[flaml.automl.logger: 04-26 09:49:25] {2383} INFO -  at 0.8s,\testimator lgbm's best error=0.3614,\tbest estimator lgbm's best error=0.3614\n",
      "[flaml.automl.logger: 04-26 09:49:25] {2210} INFO - iteration 7, current learner extra_tree\n",
      "[flaml.automl.logger: 04-26 09:49:25] {2383} INFO -  at 0.9s,\testimator extra_tree's best error=0.3787,\tbest estimator lgbm's best error=0.3614\n",
      "[flaml.automl.logger: 04-26 09:49:25] {2210} INFO - iteration 8, current learner lgbm\n"
     ]
    },
    {
     "name": "stderr",
     "output_type": "stream",
     "text": [
      "/opt/homebrew/anaconda3/envs/flaml/lib/python3.11/site-packages/xgboost/sklearn.py:1395: UserWarning: `use_label_encoder` is deprecated in 1.7.0.\n",
      "  warnings.warn(\"`use_label_encoder` is deprecated in 1.7.0.\")\n",
      "/opt/homebrew/anaconda3/envs/flaml/lib/python3.11/site-packages/xgboost/sklearn.py:1395: UserWarning: `use_label_encoder` is deprecated in 1.7.0.\n",
      "  warnings.warn(\"`use_label_encoder` is deprecated in 1.7.0.\")\n"
     ]
    },
    {
     "name": "stdout",
     "output_type": "stream",
     "text": [
      "[flaml.automl.logger: 04-26 09:49:26] {2383} INFO -  at 1.0s,\testimator lgbm's best error=0.3614,\tbest estimator lgbm's best error=0.3614\n",
      "[flaml.automl.logger: 04-26 09:49:26] {2210} INFO - iteration 9, current learner lgbm\n",
      "[flaml.automl.logger: 04-26 09:49:26] {2383} INFO -  at 1.1s,\testimator lgbm's best error=0.3614,\tbest estimator lgbm's best error=0.3614\n",
      "[flaml.automl.logger: 04-26 09:49:26] {2210} INFO - iteration 10, current learner xgboost\n",
      "[flaml.automl.logger: 04-26 09:49:26] {2383} INFO -  at 1.1s,\testimator xgboost's best error=0.3743,\tbest estimator lgbm's best error=0.3614\n",
      "[flaml.automl.logger: 04-26 09:49:26] {2210} INFO - iteration 11, current learner extra_tree\n",
      "[flaml.automl.logger: 04-26 09:49:26] {2383} INFO -  at 1.2s,\testimator extra_tree's best error=0.3787,\tbest estimator lgbm's best error=0.3614\n",
      "[flaml.automl.logger: 04-26 09:49:26] {2210} INFO - iteration 12, current learner extra_tree\n",
      "[flaml.automl.logger: 04-26 09:49:26] {2383} INFO -  at 1.2s,\testimator extra_tree's best error=0.3787,\tbest estimator lgbm's best error=0.3614\n",
      "[flaml.automl.logger: 04-26 09:49:26] {2210} INFO - iteration 13, current learner rf\n",
      "[flaml.automl.logger: 04-26 09:49:26] {2383} INFO -  at 1.2s,\testimator rf's best error=0.3816,\tbest estimator lgbm's best error=0.3614\n",
      "[flaml.automl.logger: 04-26 09:49:26] {2210} INFO - iteration 14, current learner rf\n",
      "[flaml.automl.logger: 04-26 09:49:26] {2383} INFO -  at 1.3s,\testimator rf's best error=0.3791,\tbest estimator lgbm's best error=0.3614\n",
      "[flaml.automl.logger: 04-26 09:49:26] {2210} INFO - iteration 15, current learner rf\n"
     ]
    },
    {
     "name": "stderr",
     "output_type": "stream",
     "text": [
      "/opt/homebrew/anaconda3/envs/flaml/lib/python3.11/site-packages/xgboost/sklearn.py:1395: UserWarning: `use_label_encoder` is deprecated in 1.7.0.\n",
      "  warnings.warn(\"`use_label_encoder` is deprecated in 1.7.0.\")\n"
     ]
    },
    {
     "name": "stdout",
     "output_type": "stream",
     "text": [
      "[flaml.automl.logger: 04-26 09:49:26] {2383} INFO -  at 1.3s,\testimator rf's best error=0.3791,\tbest estimator lgbm's best error=0.3614\n",
      "[flaml.automl.logger: 04-26 09:49:26] {2210} INFO - iteration 16, current learner lgbm\n",
      "[flaml.automl.logger: 04-26 09:49:26] {2383} INFO -  at 1.4s,\testimator lgbm's best error=0.3614,\tbest estimator lgbm's best error=0.3614\n",
      "[flaml.automl.logger: 04-26 09:49:26] {2210} INFO - iteration 17, current learner rf\n",
      "[flaml.automl.logger: 04-26 09:49:26] {2383} INFO -  at 1.4s,\testimator rf's best error=0.3791,\tbest estimator lgbm's best error=0.3614\n",
      "[flaml.automl.logger: 04-26 09:49:26] {2210} INFO - iteration 18, current learner lgbm\n",
      "[flaml.automl.logger: 04-26 09:49:26] {2383} INFO -  at 1.5s,\testimator lgbm's best error=0.3550,\tbest estimator lgbm's best error=0.3550\n",
      "[flaml.automl.logger: 04-26 09:49:26] {2210} INFO - iteration 19, current learner lgbm\n",
      "[flaml.automl.logger: 04-26 09:49:26] {2383} INFO -  at 1.6s,\testimator lgbm's best error=0.3550,\tbest estimator lgbm's best error=0.3550\n",
      "[flaml.automl.logger: 04-26 09:49:26] {2210} INFO - iteration 20, current learner lgbm\n",
      "[flaml.automl.logger: 04-26 09:49:26] {2383} INFO -  at 1.8s,\testimator lgbm's best error=0.3545,\tbest estimator lgbm's best error=0.3545\n",
      "[flaml.automl.logger: 04-26 09:49:26] {2210} INFO - iteration 21, current learner lgbm\n",
      "[flaml.automl.logger: 04-26 09:49:27] {2383} INFO -  at 1.9s,\testimator lgbm's best error=0.3545,\tbest estimator lgbm's best error=0.3545\n",
      "[flaml.automl.logger: 04-26 09:49:27] {2210} INFO - iteration 22, current learner lgbm\n",
      "[flaml.automl.logger: 04-26 09:49:27] {2383} INFO -  at 2.5s,\testimator lgbm's best error=0.3545,\tbest estimator lgbm's best error=0.3545\n",
      "[flaml.automl.logger: 04-26 09:49:27] {2210} INFO - iteration 23, current learner lgbm\n",
      "[flaml.automl.logger: 04-26 09:49:27] {2383} INFO -  at 2.7s,\testimator lgbm's best error=0.3536,\tbest estimator lgbm's best error=0.3536\n",
      "[flaml.automl.logger: 04-26 09:49:27] {2210} INFO - iteration 24, current learner rf\n",
      "[flaml.automl.logger: 04-26 09:49:27] {2383} INFO -  at 2.7s,\testimator rf's best error=0.3789,\tbest estimator lgbm's best error=0.3536\n",
      "[flaml.automl.logger: 04-26 09:49:27] {2210} INFO - iteration 25, current learner xgboost\n",
      "[flaml.automl.logger: 04-26 09:49:27] {2383} INFO -  at 2.8s,\testimator xgboost's best error=0.3577,\tbest estimator lgbm's best error=0.3536\n",
      "[flaml.automl.logger: 04-26 09:49:27] {2210} INFO - iteration 26, current learner xgboost\n",
      "[flaml.automl.logger: 04-26 09:49:27] {2383} INFO -  at 2.8s,\testimator xgboost's best error=0.3577,\tbest estimator lgbm's best error=0.3536\n",
      "[flaml.automl.logger: 04-26 09:49:27] {2210} INFO - iteration 27, current learner xgboost\n",
      "[flaml.automl.logger: 04-26 09:49:28] {2383} INFO -  at 2.9s,\testimator xgboost's best error=0.3577,\tbest estimator lgbm's best error=0.3536\n",
      "[flaml.automl.logger: 04-26 09:49:28] {2210} INFO - iteration 28, current learner xgboost\n"
     ]
    },
    {
     "name": "stderr",
     "output_type": "stream",
     "text": [
      "/opt/homebrew/anaconda3/envs/flaml/lib/python3.11/site-packages/xgboost/sklearn.py:1395: UserWarning: `use_label_encoder` is deprecated in 1.7.0.\n",
      "  warnings.warn(\"`use_label_encoder` is deprecated in 1.7.0.\")\n",
      "/opt/homebrew/anaconda3/envs/flaml/lib/python3.11/site-packages/xgboost/sklearn.py:1395: UserWarning: `use_label_encoder` is deprecated in 1.7.0.\n",
      "  warnings.warn(\"`use_label_encoder` is deprecated in 1.7.0.\")\n",
      "/opt/homebrew/anaconda3/envs/flaml/lib/python3.11/site-packages/xgboost/sklearn.py:1395: UserWarning: `use_label_encoder` is deprecated in 1.7.0.\n",
      "  warnings.warn(\"`use_label_encoder` is deprecated in 1.7.0.\")\n",
      "/opt/homebrew/anaconda3/envs/flaml/lib/python3.11/site-packages/xgboost/sklearn.py:1395: UserWarning: `use_label_encoder` is deprecated in 1.7.0.\n",
      "  warnings.warn(\"`use_label_encoder` is deprecated in 1.7.0.\")\n"
     ]
    },
    {
     "name": "stdout",
     "output_type": "stream",
     "text": [
      "[flaml.automl.logger: 04-26 09:49:28] {2383} INFO -  at 3.1s,\testimator xgboost's best error=0.3574,\tbest estimator lgbm's best error=0.3536\n",
      "[flaml.automl.logger: 04-26 09:49:28] {2210} INFO - iteration 29, current learner lgbm\n",
      "[flaml.automl.logger: 04-26 09:49:28] {2383} INFO -  at 3.3s,\testimator lgbm's best error=0.3536,\tbest estimator lgbm's best error=0.3536\n",
      "[flaml.automl.logger: 04-26 09:49:28] {2210} INFO - iteration 30, current learner lgbm\n",
      "[flaml.automl.logger: 04-26 09:49:28] {2383} INFO -  at 3.7s,\testimator lgbm's best error=0.3536,\tbest estimator lgbm's best error=0.3536\n",
      "[flaml.automl.logger: 04-26 09:49:28] {2210} INFO - iteration 31, current learner lgbm\n",
      "[flaml.automl.logger: 04-26 09:49:29] {2383} INFO -  at 4.2s,\testimator lgbm's best error=0.3528,\tbest estimator lgbm's best error=0.3528\n",
      "[flaml.automl.logger: 04-26 09:49:29] {2210} INFO - iteration 32, current learner lgbm\n",
      "[flaml.automl.logger: 04-26 09:49:30] {2383} INFO -  at 5.6s,\testimator lgbm's best error=0.3405,\tbest estimator lgbm's best error=0.3405\n",
      "[flaml.automl.logger: 04-26 09:49:30] {2210} INFO - iteration 33, current learner lgbm\n",
      "[flaml.automl.logger: 04-26 09:49:31] {2383} INFO -  at 6.1s,\testimator lgbm's best error=0.3405,\tbest estimator lgbm's best error=0.3405\n",
      "[flaml.automl.logger: 04-26 09:49:31] {2210} INFO - iteration 34, current learner lgbm\n",
      "[flaml.automl.logger: 04-26 09:49:32] {2383} INFO -  at 7.4s,\testimator lgbm's best error=0.3370,\tbest estimator lgbm's best error=0.3370\n",
      "[flaml.automl.logger: 04-26 09:49:32] {2210} INFO - iteration 35, current learner lgbm\n",
      "[flaml.automl.logger: 04-26 09:49:33] {2383} INFO -  at 8.8s,\testimator lgbm's best error=0.3370,\tbest estimator lgbm's best error=0.3370\n",
      "[flaml.automl.logger: 04-26 09:49:33] {2210} INFO - iteration 36, current learner xgboost\n",
      "[flaml.automl.logger: 04-26 09:49:33] {2383} INFO -  at 8.9s,\testimator xgboost's best error=0.3574,\tbest estimator lgbm's best error=0.3370\n",
      "[flaml.automl.logger: 04-26 09:49:33] {2210} INFO - iteration 37, current learner lgbm\n"
     ]
    },
    {
     "name": "stderr",
     "output_type": "stream",
     "text": [
      "/opt/homebrew/anaconda3/envs/flaml/lib/python3.11/site-packages/xgboost/sklearn.py:1395: UserWarning: `use_label_encoder` is deprecated in 1.7.0.\n",
      "  warnings.warn(\"`use_label_encoder` is deprecated in 1.7.0.\")\n"
     ]
    },
    {
     "name": "stdout",
     "output_type": "stream",
     "text": [
      "[flaml.automl.logger: 04-26 09:49:35] {2383} INFO -  at 10.0s,\testimator lgbm's best error=0.3370,\tbest estimator lgbm's best error=0.3370\n",
      "[flaml.automl.logger: 04-26 09:49:35] {2210} INFO - iteration 38, current learner lgbm\n",
      "[flaml.automl.logger: 04-26 09:49:36] {2383} INFO -  at 11.7s,\testimator lgbm's best error=0.3318,\tbest estimator lgbm's best error=0.3318\n",
      "[flaml.automl.logger: 04-26 09:49:36] {2210} INFO - iteration 39, current learner xgb_limitdepth\n",
      "[flaml.automl.logger: 04-26 09:49:36] {2383} INFO -  at 11.8s,\testimator xgb_limitdepth's best error=0.3630,\tbest estimator lgbm's best error=0.3318\n",
      "[flaml.automl.logger: 04-26 09:49:36] {2210} INFO - iteration 40, current learner xgb_limitdepth\n",
      "[flaml.automl.logger: 04-26 09:49:36] {2383} INFO -  at 11.8s,\testimator xgb_limitdepth's best error=0.3630,\tbest estimator lgbm's best error=0.3318\n",
      "[flaml.automl.logger: 04-26 09:49:36] {2210} INFO - iteration 41, current learner xgb_limitdepth\n"
     ]
    },
    {
     "name": "stderr",
     "output_type": "stream",
     "text": [
      "/opt/homebrew/anaconda3/envs/flaml/lib/python3.11/site-packages/xgboost/sklearn.py:1395: UserWarning: `use_label_encoder` is deprecated in 1.7.0.\n",
      "  warnings.warn(\"`use_label_encoder` is deprecated in 1.7.0.\")\n",
      "/opt/homebrew/anaconda3/envs/flaml/lib/python3.11/site-packages/xgboost/sklearn.py:1395: UserWarning: `use_label_encoder` is deprecated in 1.7.0.\n",
      "  warnings.warn(\"`use_label_encoder` is deprecated in 1.7.0.\")\n",
      "/opt/homebrew/anaconda3/envs/flaml/lib/python3.11/site-packages/xgboost/sklearn.py:1395: UserWarning: `use_label_encoder` is deprecated in 1.7.0.\n",
      "  warnings.warn(\"`use_label_encoder` is deprecated in 1.7.0.\")\n"
     ]
    },
    {
     "name": "stdout",
     "output_type": "stream",
     "text": [
      "[flaml.automl.logger: 04-26 09:49:37] {2383} INFO -  at 12.0s,\testimator xgb_limitdepth's best error=0.3630,\tbest estimator lgbm's best error=0.3318\n",
      "[flaml.automl.logger: 04-26 09:49:37] {2210} INFO - iteration 42, current learner xgb_limitdepth\n",
      "[flaml.automl.logger: 04-26 09:49:37] {2383} INFO -  at 12.2s,\testimator xgb_limitdepth's best error=0.3572,\tbest estimator lgbm's best error=0.3318\n",
      "[flaml.automl.logger: 04-26 09:49:37] {2210} INFO - iteration 43, current learner lgbm\n"
     ]
    },
    {
     "name": "stderr",
     "output_type": "stream",
     "text": [
      "/opt/homebrew/anaconda3/envs/flaml/lib/python3.11/site-packages/xgboost/sklearn.py:1395: UserWarning: `use_label_encoder` is deprecated in 1.7.0.\n",
      "  warnings.warn(\"`use_label_encoder` is deprecated in 1.7.0.\")\n"
     ]
    },
    {
     "name": "stdout",
     "output_type": "stream",
     "text": [
      "[flaml.automl.logger: 04-26 09:49:39] {2383} INFO -  at 14.0s,\testimator lgbm's best error=0.3282,\tbest estimator lgbm's best error=0.3282\n",
      "[flaml.automl.logger: 04-26 09:49:39] {2210} INFO - iteration 44, current learner xgb_limitdepth\n"
     ]
    },
    {
     "name": "stderr",
     "output_type": "stream",
     "text": [
      "/opt/homebrew/anaconda3/envs/flaml/lib/python3.11/site-packages/xgboost/sklearn.py:1395: UserWarning: `use_label_encoder` is deprecated in 1.7.0.\n",
      "  warnings.warn(\"`use_label_encoder` is deprecated in 1.7.0.\")\n"
     ]
    },
    {
     "name": "stdout",
     "output_type": "stream",
     "text": [
      "[flaml.automl.logger: 04-26 09:49:39] {2383} INFO -  at 14.4s,\testimator xgb_limitdepth's best error=0.3544,\tbest estimator lgbm's best error=0.3282\n",
      "[flaml.automl.logger: 04-26 09:49:39] {2210} INFO - iteration 45, current learner xgb_limitdepth\n",
      "[flaml.automl.logger: 04-26 09:49:39] {2383} INFO -  at 14.5s,\testimator xgb_limitdepth's best error=0.3544,\tbest estimator lgbm's best error=0.3282\n",
      "[flaml.automl.logger: 04-26 09:49:39] {2210} INFO - iteration 46, current learner lgbm\n"
     ]
    },
    {
     "name": "stderr",
     "output_type": "stream",
     "text": [
      "/opt/homebrew/anaconda3/envs/flaml/lib/python3.11/site-packages/xgboost/sklearn.py:1395: UserWarning: `use_label_encoder` is deprecated in 1.7.0.\n",
      "  warnings.warn(\"`use_label_encoder` is deprecated in 1.7.0.\")\n"
     ]
    },
    {
     "name": "stdout",
     "output_type": "stream",
     "text": [
      "[flaml.automl.logger: 04-26 09:49:41] {2383} INFO -  at 16.2s,\testimator lgbm's best error=0.3282,\tbest estimator lgbm's best error=0.3282\n",
      "[flaml.automl.logger: 04-26 09:49:41] {2210} INFO - iteration 47, current learner lgbm\n",
      "[flaml.automl.logger: 04-26 09:49:42] {2383} INFO -  at 17.8s,\testimator lgbm's best error=0.3282,\tbest estimator lgbm's best error=0.3282\n",
      "[flaml.automl.logger: 04-26 09:49:42] {2210} INFO - iteration 48, current learner extra_tree\n",
      "[flaml.automl.logger: 04-26 09:49:42] {2383} INFO -  at 17.8s,\testimator extra_tree's best error=0.3787,\tbest estimator lgbm's best error=0.3282\n",
      "[flaml.automl.logger: 04-26 09:49:42] {2210} INFO - iteration 49, current learner lgbm\n",
      "[flaml.automl.logger: 04-26 09:49:45] {2383} INFO -  at 20.4s,\testimator lgbm's best error=0.3282,\tbest estimator lgbm's best error=0.3282\n",
      "[flaml.automl.logger: 04-26 09:49:45] {2210} INFO - iteration 50, current learner lgbm\n",
      "[flaml.automl.logger: 04-26 09:49:47] {2383} INFO -  at 22.6s,\testimator lgbm's best error=0.3282,\tbest estimator lgbm's best error=0.3282\n",
      "[flaml.automl.logger: 04-26 09:49:47] {2210} INFO - iteration 51, current learner xgb_limitdepth\n"
     ]
    },
    {
     "name": "stderr",
     "output_type": "stream",
     "text": [
      "/opt/homebrew/anaconda3/envs/flaml/lib/python3.11/site-packages/xgboost/sklearn.py:1395: UserWarning: `use_label_encoder` is deprecated in 1.7.0.\n",
      "  warnings.warn(\"`use_label_encoder` is deprecated in 1.7.0.\")\n"
     ]
    },
    {
     "name": "stdout",
     "output_type": "stream",
     "text": [
      "[flaml.automl.logger: 04-26 09:49:47] {2383} INFO -  at 22.8s,\testimator xgb_limitdepth's best error=0.3544,\tbest estimator lgbm's best error=0.3282\n",
      "[flaml.automl.logger: 04-26 09:49:47] {2210} INFO - iteration 52, current learner lgbm\n",
      "[flaml.automl.logger: 04-26 09:49:49] {2383} INFO -  at 24.6s,\testimator lgbm's best error=0.3282,\tbest estimator lgbm's best error=0.3282\n",
      "[flaml.automl.logger: 04-26 09:49:49] {2210} INFO - iteration 53, current learner lrl1\n",
      "[flaml.automl.logger: 04-26 09:49:49] {2383} INFO -  at 24.8s,\testimator lrl1's best error=0.4338,\tbest estimator lgbm's best error=0.3282\n",
      "[flaml.automl.logger: 04-26 09:49:49] {2210} INFO - iteration 54, current learner lrl1\n",
      "[flaml.automl.logger: 04-26 09:49:49] {2383} INFO -  at 24.9s,\testimator lrl1's best error=0.4338,\tbest estimator lgbm's best error=0.3282\n",
      "[flaml.automl.logger: 04-26 09:49:49] {2210} INFO - iteration 55, current learner lgbm\n"
     ]
    },
    {
     "name": "stderr",
     "output_type": "stream",
     "text": [
      "/opt/homebrew/anaconda3/envs/flaml/lib/python3.11/site-packages/sklearn/linear_model/_sag.py:350: ConvergenceWarning: The max_iter was reached which means the coef_ did not converge\n",
      "  warnings.warn(\n",
      "/opt/homebrew/anaconda3/envs/flaml/lib/python3.11/site-packages/sklearn/linear_model/_sag.py:350: ConvergenceWarning: The max_iter was reached which means the coef_ did not converge\n",
      "  warnings.warn(\n"
     ]
    },
    {
     "name": "stdout",
     "output_type": "stream",
     "text": [
      "[flaml.automl.logger: 04-26 09:49:51] {2383} INFO -  at 26.3s,\testimator lgbm's best error=0.3282,\tbest estimator lgbm's best error=0.3282\n",
      "[flaml.automl.logger: 04-26 09:49:51] {2210} INFO - iteration 56, current learner lgbm\n",
      "[flaml.automl.logger: 04-26 09:49:54] {2383} INFO -  at 29.1s,\testimator lgbm's best error=0.3282,\tbest estimator lgbm's best error=0.3282\n",
      "[flaml.automl.logger: 04-26 09:49:54] {2210} INFO - iteration 57, current learner xgb_limitdepth\n"
     ]
    },
    {
     "name": "stderr",
     "output_type": "stream",
     "text": [
      "/opt/homebrew/anaconda3/envs/flaml/lib/python3.11/site-packages/xgboost/sklearn.py:1395: UserWarning: `use_label_encoder` is deprecated in 1.7.0.\n",
      "  warnings.warn(\"`use_label_encoder` is deprecated in 1.7.0.\")\n"
     ]
    },
    {
     "name": "stdout",
     "output_type": "stream",
     "text": [
      "[flaml.automl.logger: 04-26 09:49:55] {2383} INFO -  at 30.0s,\testimator xgb_limitdepth's best error=0.3490,\tbest estimator lgbm's best error=0.3282\n",
      "[flaml.automl.logger: 04-26 09:49:55] {2210} INFO - iteration 58, current learner lgbm\n",
      "[flaml.automl.logger: 04-26 09:50:02] {2383} INFO -  at 37.0s,\testimator lgbm's best error=0.3282,\tbest estimator lgbm's best error=0.3282\n",
      "[flaml.automl.logger: 04-26 09:50:02] {2210} INFO - iteration 59, current learner rf\n",
      "[flaml.automl.logger: 04-26 09:50:02] {2383} INFO -  at 37.0s,\testimator rf's best error=0.3781,\tbest estimator lgbm's best error=0.3282\n",
      "[flaml.automl.logger: 04-26 09:50:02] {2210} INFO - iteration 60, current learner rf\n",
      "[flaml.automl.logger: 04-26 09:50:02] {2383} INFO -  at 37.1s,\testimator rf's best error=0.3781,\tbest estimator lgbm's best error=0.3282\n",
      "[flaml.automl.logger: 04-26 09:50:02] {2210} INFO - iteration 61, current learner lgbm\n",
      "[flaml.automl.logger: 04-26 09:50:02] {2383} INFO -  at 37.7s,\testimator lgbm's best error=0.3282,\tbest estimator lgbm's best error=0.3282\n",
      "[flaml.automl.logger: 04-26 09:50:02] {2210} INFO - iteration 62, current learner xgb_limitdepth\n"
     ]
    },
    {
     "name": "stderr",
     "output_type": "stream",
     "text": [
      "/opt/homebrew/anaconda3/envs/flaml/lib/python3.11/site-packages/xgboost/sklearn.py:1395: UserWarning: `use_label_encoder` is deprecated in 1.7.0.\n",
      "  warnings.warn(\"`use_label_encoder` is deprecated in 1.7.0.\")\n"
     ]
    },
    {
     "name": "stdout",
     "output_type": "stream",
     "text": [
      "[flaml.automl.logger: 04-26 09:50:03] {2383} INFO -  at 38.1s,\testimator xgb_limitdepth's best error=0.3490,\tbest estimator lgbm's best error=0.3282\n",
      "[flaml.automl.logger: 04-26 09:50:03] {2210} INFO - iteration 63, current learner lgbm\n",
      "[flaml.automl.logger: 04-26 09:50:17] {2383} INFO -  at 52.0s,\testimator lgbm's best error=0.3282,\tbest estimator lgbm's best error=0.3282\n",
      "[flaml.automl.logger: 04-26 09:50:17] {2210} INFO - iteration 64, current learner extra_tree\n",
      "[flaml.automl.logger: 04-26 09:50:17] {2383} INFO -  at 52.0s,\testimator extra_tree's best error=0.3787,\tbest estimator lgbm's best error=0.3282\n",
      "[flaml.automl.logger: 04-26 09:50:17] {2210} INFO - iteration 65, current learner xgb_limitdepth\n"
     ]
    },
    {
     "name": "stderr",
     "output_type": "stream",
     "text": [
      "/opt/homebrew/anaconda3/envs/flaml/lib/python3.11/site-packages/xgboost/sklearn.py:1395: UserWarning: `use_label_encoder` is deprecated in 1.7.0.\n",
      "  warnings.warn(\"`use_label_encoder` is deprecated in 1.7.0.\")\n"
     ]
    },
    {
     "name": "stdout",
     "output_type": "stream",
     "text": [
      "[flaml.automl.logger: 04-26 09:50:20] {2383} INFO -  at 55.0s,\testimator xgb_limitdepth's best error=0.3490,\tbest estimator lgbm's best error=0.3282\n",
      "[flaml.automl.logger: 04-26 09:50:20] {2210} INFO - iteration 66, current learner lgbm\n",
      "[flaml.automl.logger: 04-26 09:50:20] {2383} INFO -  at 55.5s,\testimator lgbm's best error=0.3282,\tbest estimator lgbm's best error=0.3282\n",
      "[flaml.automl.logger: 04-26 09:50:20] {2210} INFO - iteration 67, current learner rf\n",
      "[flaml.automl.logger: 04-26 09:50:20] {2383} INFO -  at 55.5s,\testimator rf's best error=0.3725,\tbest estimator lgbm's best error=0.3282\n",
      "[flaml.automl.logger: 04-26 09:50:20] {2210} INFO - iteration 68, current learner rf\n",
      "[flaml.automl.logger: 04-26 09:50:20] {2383} INFO -  at 55.6s,\testimator rf's best error=0.3725,\tbest estimator lgbm's best error=0.3282\n",
      "[flaml.automl.logger: 04-26 09:50:20] {2210} INFO - iteration 69, current learner rf\n",
      "[flaml.automl.logger: 04-26 09:50:20] {2383} INFO -  at 55.7s,\testimator rf's best error=0.3725,\tbest estimator lgbm's best error=0.3282\n",
      "[flaml.automl.logger: 04-26 09:50:20] {2210} INFO - iteration 70, current learner lgbm\n",
      "[flaml.automl.logger: 04-26 09:50:23] {2383} INFO -  at 58.2s,\testimator lgbm's best error=0.3282,\tbest estimator lgbm's best error=0.3282\n",
      "[flaml.automl.logger: 04-26 09:50:23] {2210} INFO - iteration 71, current learner rf\n",
      "[flaml.automl.logger: 04-26 09:50:23] {2383} INFO -  at 58.3s,\testimator rf's best error=0.3706,\tbest estimator lgbm's best error=0.3282\n",
      "[flaml.automl.logger: 04-26 09:50:23] {2210} INFO - iteration 72, current learner rf\n",
      "[flaml.automl.logger: 04-26 09:50:23] {2383} INFO -  at 58.3s,\testimator rf's best error=0.3706,\tbest estimator lgbm's best error=0.3282\n",
      "[flaml.automl.logger: 04-26 09:50:23] {2210} INFO - iteration 73, current learner rf\n",
      "[flaml.automl.logger: 04-26 09:50:23] {2383} INFO -  at 58.4s,\testimator rf's best error=0.3706,\tbest estimator lgbm's best error=0.3282\n",
      "[flaml.automl.logger: 04-26 09:50:23] {2210} INFO - iteration 74, current learner xgb_limitdepth\n"
     ]
    },
    {
     "name": "stderr",
     "output_type": "stream",
     "text": [
      "/opt/homebrew/anaconda3/envs/flaml/lib/python3.11/site-packages/xgboost/sklearn.py:1395: UserWarning: `use_label_encoder` is deprecated in 1.7.0.\n",
      "  warnings.warn(\"`use_label_encoder` is deprecated in 1.7.0.\")\n"
     ]
    },
    {
     "name": "stdout",
     "output_type": "stream",
     "text": [
      "[flaml.automl.logger: 04-26 09:50:24] {2383} INFO -  at 58.9s,\testimator xgb_limitdepth's best error=0.3490,\tbest estimator lgbm's best error=0.3282\n",
      "[flaml.automl.logger: 04-26 09:50:24] {2210} INFO - iteration 75, current learner rf\n",
      "[flaml.automl.logger: 04-26 09:50:24] {2383} INFO -  at 59.0s,\testimator rf's best error=0.3706,\tbest estimator lgbm's best error=0.3282\n",
      "[flaml.automl.logger: 04-26 09:50:24] {2210} INFO - iteration 76, current learner xgb_limitdepth\n"
     ]
    },
    {
     "name": "stderr",
     "output_type": "stream",
     "text": [
      "/opt/homebrew/anaconda3/envs/flaml/lib/python3.11/site-packages/xgboost/sklearn.py:1395: UserWarning: `use_label_encoder` is deprecated in 1.7.0.\n",
      "  warnings.warn(\"`use_label_encoder` is deprecated in 1.7.0.\")\n"
     ]
    },
    {
     "name": "stdout",
     "output_type": "stream",
     "text": [
      "[flaml.automl.logger: 04-26 09:50:30] {2383} INFO -  at 65.2s,\testimator xgb_limitdepth's best error=0.3438,\tbest estimator lgbm's best error=0.3282\n",
      "[flaml.automl.logger: 04-26 09:50:30] {2210} INFO - iteration 77, current learner lgbm\n",
      "[flaml.automl.logger: 04-26 09:50:31] {2383} INFO -  at 66.7s,\testimator lgbm's best error=0.3282,\tbest estimator lgbm's best error=0.3282\n",
      "[flaml.automl.logger: 04-26 09:50:31] {2210} INFO - iteration 78, current learner lgbm\n",
      "[flaml.automl.logger: 04-26 09:50:33] {2383} INFO -  at 68.8s,\testimator lgbm's best error=0.3274,\tbest estimator lgbm's best error=0.3274\n",
      "[flaml.automl.logger: 04-26 09:50:33] {2210} INFO - iteration 79, current learner xgboost\n"
     ]
    },
    {
     "name": "stderr",
     "output_type": "stream",
     "text": [
      "/opt/homebrew/anaconda3/envs/flaml/lib/python3.11/site-packages/xgboost/sklearn.py:1395: UserWarning: `use_label_encoder` is deprecated in 1.7.0.\n",
      "  warnings.warn(\"`use_label_encoder` is deprecated in 1.7.0.\")\n"
     ]
    },
    {
     "name": "stdout",
     "output_type": "stream",
     "text": [
      "[flaml.automl.logger: 04-26 09:50:34] {2383} INFO -  at 69.4s,\testimator xgboost's best error=0.3574,\tbest estimator lgbm's best error=0.3274\n",
      "[flaml.automl.logger: 04-26 09:50:34] {2210} INFO - iteration 80, current learner rf\n",
      "[flaml.automl.logger: 04-26 09:50:34] {2383} INFO -  at 69.4s,\testimator rf's best error=0.3706,\tbest estimator lgbm's best error=0.3274\n",
      "[flaml.automl.logger: 04-26 09:50:34] {2210} INFO - iteration 81, current learner lgbm\n",
      "[flaml.automl.logger: 04-26 09:50:36] {2383} INFO -  at 71.3s,\testimator lgbm's best error=0.3274,\tbest estimator lgbm's best error=0.3274\n",
      "[flaml.automl.logger: 04-26 09:50:36] {2210} INFO - iteration 82, current learner xgb_limitdepth\n"
     ]
    },
    {
     "name": "stderr",
     "output_type": "stream",
     "text": [
      "/opt/homebrew/anaconda3/envs/flaml/lib/python3.11/site-packages/xgboost/sklearn.py:1395: UserWarning: `use_label_encoder` is deprecated in 1.7.0.\n",
      "  warnings.warn(\"`use_label_encoder` is deprecated in 1.7.0.\")\n"
     ]
    },
    {
     "name": "stdout",
     "output_type": "stream",
     "text": [
      "[flaml.automl.logger: 04-26 09:50:42] {2383} INFO -  at 76.9s,\testimator xgb_limitdepth's best error=0.3438,\tbest estimator lgbm's best error=0.3274\n",
      "[flaml.automl.logger: 04-26 09:50:42] {2210} INFO - iteration 83, current learner rf\n",
      "[flaml.automl.logger: 04-26 09:50:42] {2383} INFO -  at 77.1s,\testimator rf's best error=0.3706,\tbest estimator lgbm's best error=0.3274\n",
      "[flaml.automl.logger: 04-26 09:50:42] {2210} INFO - iteration 84, current learner rf\n",
      "[flaml.automl.logger: 04-26 09:50:42] {2383} INFO -  at 77.2s,\testimator rf's best error=0.3678,\tbest estimator lgbm's best error=0.3274\n",
      "[flaml.automl.logger: 04-26 09:50:42] {2210} INFO - iteration 85, current learner rf\n",
      "[flaml.automl.logger: 04-26 09:50:42] {2383} INFO -  at 77.3s,\testimator rf's best error=0.3678,\tbest estimator lgbm's best error=0.3274\n",
      "[flaml.automl.logger: 04-26 09:50:42] {2210} INFO - iteration 86, current learner extra_tree\n",
      "[flaml.automl.logger: 04-26 09:50:42] {2383} INFO -  at 77.3s,\testimator extra_tree's best error=0.3787,\tbest estimator lgbm's best error=0.3274\n",
      "[flaml.automl.logger: 04-26 09:50:42] {2210} INFO - iteration 87, current learner rf\n",
      "[flaml.automl.logger: 04-26 09:50:42] {2383} INFO -  at 77.5s,\testimator rf's best error=0.3617,\tbest estimator lgbm's best error=0.3274\n",
      "[flaml.automl.logger: 04-26 09:50:42] {2210} INFO - iteration 88, current learner rf\n",
      "[flaml.automl.logger: 04-26 09:50:42] {2383} INFO -  at 77.6s,\testimator rf's best error=0.3593,\tbest estimator lgbm's best error=0.3274\n",
      "[flaml.automl.logger: 04-26 09:50:42] {2210} INFO - iteration 89, current learner rf\n",
      "[flaml.automl.logger: 04-26 09:50:42] {2383} INFO -  at 77.8s,\testimator rf's best error=0.3593,\tbest estimator lgbm's best error=0.3274\n",
      "[flaml.automl.logger: 04-26 09:50:42] {2210} INFO - iteration 90, current learner rf\n",
      "[flaml.automl.logger: 04-26 09:50:42] {2383} INFO -  at 77.9s,\testimator rf's best error=0.3593,\tbest estimator lgbm's best error=0.3274\n",
      "[flaml.automl.logger: 04-26 09:50:42] {2210} INFO - iteration 91, current learner extra_tree\n",
      "[flaml.automl.logger: 04-26 09:50:43] {2383} INFO -  at 77.9s,\testimator extra_tree's best error=0.3787,\tbest estimator lgbm's best error=0.3274\n",
      "[flaml.automl.logger: 04-26 09:50:43] {2210} INFO - iteration 92, current learner rf\n",
      "[flaml.automl.logger: 04-26 09:50:43] {2383} INFO -  at 78.1s,\testimator rf's best error=0.3593,\tbest estimator lgbm's best error=0.3274\n",
      "[flaml.automl.logger: 04-26 09:50:43] {2210} INFO - iteration 93, current learner xgb_limitdepth\n"
     ]
    },
    {
     "name": "stderr",
     "output_type": "stream",
     "text": [
      "/opt/homebrew/anaconda3/envs/flaml/lib/python3.11/site-packages/xgboost/sklearn.py:1395: UserWarning: `use_label_encoder` is deprecated in 1.7.0.\n",
      "  warnings.warn(\"`use_label_encoder` is deprecated in 1.7.0.\")\n"
     ]
    },
    {
     "name": "stdout",
     "output_type": "stream",
     "text": [
      "[flaml.automl.logger: 04-26 09:50:49] {2383} INFO -  at 84.2s,\testimator xgb_limitdepth's best error=0.3372,\tbest estimator lgbm's best error=0.3274\n",
      "[flaml.automl.logger: 04-26 09:50:49] {2210} INFO - iteration 94, current learner rf\n",
      "[flaml.automl.logger: 04-26 09:50:49] {2383} INFO -  at 84.3s,\testimator rf's best error=0.3593,\tbest estimator lgbm's best error=0.3274\n",
      "[flaml.automl.logger: 04-26 09:50:49] {2210} INFO - iteration 95, current learner rf\n",
      "[flaml.automl.logger: 04-26 09:50:49] {2383} INFO -  at 84.5s,\testimator rf's best error=0.3565,\tbest estimator lgbm's best error=0.3274\n",
      "[flaml.automl.logger: 04-26 09:50:49] {2210} INFO - iteration 96, current learner lgbm\n",
      "[flaml.automl.logger: 04-26 09:50:50] {2383} INFO -  at 85.7s,\testimator lgbm's best error=0.3274,\tbest estimator lgbm's best error=0.3274\n",
      "[flaml.automl.logger: 04-26 09:50:50] {2210} INFO - iteration 97, current learner xgb_limitdepth\n"
     ]
    },
    {
     "name": "stderr",
     "output_type": "stream",
     "text": [
      "/opt/homebrew/anaconda3/envs/flaml/lib/python3.11/site-packages/xgboost/sklearn.py:1395: UserWarning: `use_label_encoder` is deprecated in 1.7.0.\n",
      "  warnings.warn(\"`use_label_encoder` is deprecated in 1.7.0.\")\n"
     ]
    },
    {
     "name": "stdout",
     "output_type": "stream",
     "text": [
      "[flaml.automl.logger: 04-26 09:50:57] {2383} INFO -  at 92.4s,\testimator xgb_limitdepth's best error=0.3372,\tbest estimator lgbm's best error=0.3274\n",
      "[flaml.automl.logger: 04-26 09:50:57] {2210} INFO - iteration 98, current learner rf\n",
      "[flaml.automl.logger: 04-26 09:50:57] {2383} INFO -  at 92.6s,\testimator rf's best error=0.3565,\tbest estimator lgbm's best error=0.3274\n",
      "[flaml.automl.logger: 04-26 09:50:57] {2210} INFO - iteration 99, current learner rf\n",
      "[flaml.automl.logger: 04-26 09:50:57] {2383} INFO -  at 92.9s,\testimator rf's best error=0.3565,\tbest estimator lgbm's best error=0.3274\n",
      "[flaml.automl.logger: 04-26 09:50:57] {2210} INFO - iteration 100, current learner rf\n",
      "[flaml.automl.logger: 04-26 09:50:58] {2383} INFO -  at 93.3s,\testimator rf's best error=0.3512,\tbest estimator lgbm's best error=0.3274\n",
      "[flaml.automl.logger: 04-26 09:50:58] {2210} INFO - iteration 101, current learner rf\n",
      "[flaml.automl.logger: 04-26 09:50:58] {2383} INFO -  at 93.5s,\testimator rf's best error=0.3512,\tbest estimator lgbm's best error=0.3274\n",
      "[flaml.automl.logger: 04-26 09:50:58] {2210} INFO - iteration 102, current learner xgb_limitdepth\n"
     ]
    },
    {
     "name": "stderr",
     "output_type": "stream",
     "text": [
      "/opt/homebrew/anaconda3/envs/flaml/lib/python3.11/site-packages/xgboost/sklearn.py:1395: UserWarning: `use_label_encoder` is deprecated in 1.7.0.\n",
      "  warnings.warn(\"`use_label_encoder` is deprecated in 1.7.0.\")\n"
     ]
    },
    {
     "name": "stdout",
     "output_type": "stream",
     "text": [
      "[flaml.automl.logger: 04-26 09:51:04] {2383} INFO -  at 99.1s,\testimator xgb_limitdepth's best error=0.3355,\tbest estimator lgbm's best error=0.3274\n",
      "[flaml.automl.logger: 04-26 09:51:04] {2210} INFO - iteration 103, current learner rf\n",
      "[flaml.automl.logger: 04-26 09:51:04] {2383} INFO -  at 99.9s,\testimator rf's best error=0.3512,\tbest estimator lgbm's best error=0.3274\n",
      "[flaml.automl.logger: 04-26 09:51:04] {2210} INFO - iteration 104, current learner lgbm\n",
      "[flaml.automl.logger: 04-26 09:51:12] {2383} INFO -  at 107.5s,\testimator lgbm's best error=0.3268,\tbest estimator lgbm's best error=0.3268\n",
      "[flaml.automl.logger: 04-26 09:51:12] {2210} INFO - iteration 105, current learner rf\n",
      "[flaml.automl.logger: 04-26 09:51:12] {2383} INFO -  at 107.7s,\testimator rf's best error=0.3512,\tbest estimator lgbm's best error=0.3268\n",
      "[flaml.automl.logger: 04-26 09:51:12] {2210} INFO - iteration 106, current learner lgbm\n",
      "[flaml.automl.logger: 04-26 09:51:16] {2383} INFO -  at 111.8s,\testimator lgbm's best error=0.3268,\tbest estimator lgbm's best error=0.3268\n",
      "[flaml.automl.logger: 04-26 09:51:16] {2210} INFO - iteration 107, current learner lgbm\n",
      "[flaml.automl.logger: 04-26 09:51:25] {2383} INFO -  at 120.5s,\testimator lgbm's best error=0.3248,\tbest estimator lgbm's best error=0.3248\n",
      "[flaml.automl.logger: 04-26 09:51:32] {2619} INFO - retrain lgbm for 7.4s\n",
      "[flaml.automl.logger: 04-26 09:51:33] {2622} INFO - retrained model: LGBMClassifier(colsample_bytree=0.763983850698587,\n",
      "               learning_rate=0.08749366799403727, max_bin=127,\n",
      "               min_child_samples=128, n_estimators=302, num_leaves=466,\n",
      "               reg_alpha=0.09968008477303378, reg_lambda=23.22741934331899,\n",
      "               verbose=-1)\n",
      "[flaml.automl.logger: 04-26 09:51:33] {1930} INFO - fit succeeded\n",
      "[flaml.automl.logger: 04-26 09:51:33] {1931} INFO - Time taken to find the best model: 120.46825885772705\n"
     ]
    }
   ],
   "source": [
    "'''The main flaml automl API'''\n",
    "automl.fit(X_train=X_train, y_train=y_train, **settings)"
   ]
  },
  {
   "cell_type": "markdown",
   "metadata": {
    "slideshow": {
     "slide_type": "slide"
    }
   },
   "source": [
    "### Best model and metric"
   ]
  },
  {
   "cell_type": "code",
   "execution_count": 5,
   "metadata": {
    "slideshow": {
     "slide_type": "slide"
    },
    "tags": []
   },
   "outputs": [
    {
     "name": "stdout",
     "output_type": "stream",
     "text": [
      "Best ML leaner: lgbm\n",
      "Best hyperparmeter config: {'n_estimators': 302, 'num_leaves': 466, 'min_child_samples': 128, 'learning_rate': 0.08749366799403727, 'log_max_bin': 7, 'colsample_bytree': 0.763983850698587, 'reg_alpha': 0.09968008477303378, 'reg_lambda': 23.22741934331899}\n",
      "Best accuracy on validation data: 0.6752\n",
      "Training duration of best run: 7.431 s\n"
     ]
    }
   ],
   "source": [
    "'''retrieve best config and best learner'''\n",
    "print('Best ML leaner:', automl.best_estimator)\n",
    "print('Best hyperparmeter config:', automl.best_config)\n",
    "print('Best accuracy on validation data: {0:.4g}'.format(1-automl.best_loss))\n",
    "print('Training duration of best run: {0:.4g} s'.format(automl.best_config_train_time))"
   ]
  },
  {
   "cell_type": "code",
   "execution_count": 6,
   "metadata": {
    "slideshow": {
     "slide_type": "slide"
    }
   },
   "outputs": [
    {
     "data": {
      "text/html": [
       "<style>#sk-container-id-1 {color: black;background-color: white;}#sk-container-id-1 pre{padding: 0;}#sk-container-id-1 div.sk-toggleable {background-color: white;}#sk-container-id-1 label.sk-toggleable__label {cursor: pointer;display: block;width: 100%;margin-bottom: 0;padding: 0.3em;box-sizing: border-box;text-align: center;}#sk-container-id-1 label.sk-toggleable__label-arrow:before {content: \"▸\";float: left;margin-right: 0.25em;color: #696969;}#sk-container-id-1 label.sk-toggleable__label-arrow:hover:before {color: black;}#sk-container-id-1 div.sk-estimator:hover label.sk-toggleable__label-arrow:before {color: black;}#sk-container-id-1 div.sk-toggleable__content {max-height: 0;max-width: 0;overflow: hidden;text-align: left;background-color: #f0f8ff;}#sk-container-id-1 div.sk-toggleable__content pre {margin: 0.2em;color: black;border-radius: 0.25em;background-color: #f0f8ff;}#sk-container-id-1 input.sk-toggleable__control:checked~div.sk-toggleable__content {max-height: 200px;max-width: 100%;overflow: auto;}#sk-container-id-1 input.sk-toggleable__control:checked~label.sk-toggleable__label-arrow:before {content: \"▾\";}#sk-container-id-1 div.sk-estimator input.sk-toggleable__control:checked~label.sk-toggleable__label {background-color: #d4ebff;}#sk-container-id-1 div.sk-label input.sk-toggleable__control:checked~label.sk-toggleable__label {background-color: #d4ebff;}#sk-container-id-1 input.sk-hidden--visually {border: 0;clip: rect(1px 1px 1px 1px);clip: rect(1px, 1px, 1px, 1px);height: 1px;margin: -1px;overflow: hidden;padding: 0;position: absolute;width: 1px;}#sk-container-id-1 div.sk-estimator {font-family: monospace;background-color: #f0f8ff;border: 1px dotted black;border-radius: 0.25em;box-sizing: border-box;margin-bottom: 0.5em;}#sk-container-id-1 div.sk-estimator:hover {background-color: #d4ebff;}#sk-container-id-1 div.sk-parallel-item::after {content: \"\";width: 100%;border-bottom: 1px solid gray;flex-grow: 1;}#sk-container-id-1 div.sk-label:hover label.sk-toggleable__label {background-color: #d4ebff;}#sk-container-id-1 div.sk-serial::before {content: \"\";position: absolute;border-left: 1px solid gray;box-sizing: border-box;top: 0;bottom: 0;left: 50%;z-index: 0;}#sk-container-id-1 div.sk-serial {display: flex;flex-direction: column;align-items: center;background-color: white;padding-right: 0.2em;padding-left: 0.2em;position: relative;}#sk-container-id-1 div.sk-item {position: relative;z-index: 1;}#sk-container-id-1 div.sk-parallel {display: flex;align-items: stretch;justify-content: center;background-color: white;position: relative;}#sk-container-id-1 div.sk-item::before, #sk-container-id-1 div.sk-parallel-item::before {content: \"\";position: absolute;border-left: 1px solid gray;box-sizing: border-box;top: 0;bottom: 0;left: 50%;z-index: -1;}#sk-container-id-1 div.sk-parallel-item {display: flex;flex-direction: column;z-index: 1;position: relative;background-color: white;}#sk-container-id-1 div.sk-parallel-item:first-child::after {align-self: flex-end;width: 50%;}#sk-container-id-1 div.sk-parallel-item:last-child::after {align-self: flex-start;width: 50%;}#sk-container-id-1 div.sk-parallel-item:only-child::after {width: 0;}#sk-container-id-1 div.sk-dashed-wrapped {border: 1px dashed gray;margin: 0 0.4em 0.5em 0.4em;box-sizing: border-box;padding-bottom: 0.4em;background-color: white;}#sk-container-id-1 div.sk-label label {font-family: monospace;font-weight: bold;display: inline-block;line-height: 1.2em;}#sk-container-id-1 div.sk-label-container {text-align: center;}#sk-container-id-1 div.sk-container {/* jupyter's `normalize.less` sets `[hidden] { display: none; }` but bootstrap.min.css set `[hidden] { display: none !important; }` so we also need the `!important` here to be able to override the default hidden behavior on the sphinx rendered scikit-learn.org. See: https://github.com/scikit-learn/scikit-learn/issues/21755 */display: inline-block !important;position: relative;}#sk-container-id-1 div.sk-text-repr-fallback {display: none;}</style><div id=\"sk-container-id-1\" class=\"sk-top-container\"><div class=\"sk-text-repr-fallback\"><pre>LGBMClassifier(colsample_bytree=0.763983850698587,\n",
       "               learning_rate=0.08749366799403727, max_bin=127,\n",
       "               min_child_samples=128, n_estimators=302, num_leaves=466,\n",
       "               reg_alpha=0.09968008477303378, reg_lambda=23.22741934331899,\n",
       "               verbose=-1)</pre><b>In a Jupyter environment, please rerun this cell to show the HTML representation or trust the notebook. <br />On GitHub, the HTML representation is unable to render, please try loading this page with nbviewer.org.</b></div><div class=\"sk-container\" hidden><div class=\"sk-item\"><div class=\"sk-estimator sk-toggleable\"><input class=\"sk-toggleable__control sk-hidden--visually\" id=\"sk-estimator-id-1\" type=\"checkbox\" checked><label for=\"sk-estimator-id-1\" class=\"sk-toggleable__label sk-toggleable__label-arrow\">LGBMClassifier</label><div class=\"sk-toggleable__content\"><pre>LGBMClassifier(colsample_bytree=0.763983850698587,\n",
       "               learning_rate=0.08749366799403727, max_bin=127,\n",
       "               min_child_samples=128, n_estimators=302, num_leaves=466,\n",
       "               reg_alpha=0.09968008477303378, reg_lambda=23.22741934331899,\n",
       "               verbose=-1)</pre></div></div></div></div></div>"
      ],
      "text/plain": [
       "LGBMClassifier(colsample_bytree=0.763983850698587,\n",
       "               learning_rate=0.08749366799403727, max_bin=127,\n",
       "               min_child_samples=128, n_estimators=302, num_leaves=466,\n",
       "               reg_alpha=0.09968008477303378, reg_lambda=23.22741934331899,\n",
       "               verbose=-1)"
      ]
     },
     "execution_count": 6,
     "metadata": {},
     "output_type": "execute_result"
    }
   ],
   "source": [
    "automl.model.estimator"
   ]
  },
  {
   "cell_type": "code",
   "execution_count": 7,
   "metadata": {
    "slideshow": {
     "slide_type": "slide"
    }
   },
   "outputs": [],
   "source": [
    "'''pickle and save the automl object'''\n",
    "import pickle\n",
    "with open('automl.pkl', 'wb') as f:\n",
    "    pickle.dump(automl, f, pickle.HIGHEST_PROTOCOL)\n",
    "'''load pickled automl object'''\n",
    "with open('automl.pkl', 'rb') as f:\n",
    "    automl = pickle.load(f)"
   ]
  },
  {
   "cell_type": "code",
   "execution_count": 8,
   "metadata": {
    "slideshow": {
     "slide_type": "slide"
    },
    "tags": []
   },
   "outputs": [
    {
     "name": "stdout",
     "output_type": "stream",
     "text": [
      "Predicted labels ['1' '0' '1' ... '1' '0' '0']\n",
      "True labels 118331    0\n",
      "328182    0\n",
      "335454    0\n",
      "520591    1\n",
      "344651    0\n",
      "         ..\n",
      "367080    0\n",
      "203510    1\n",
      "254894    0\n",
      "296512    1\n",
      "362444    0\n",
      "Name: Delay, Length: 134846, dtype: category\n",
      "Categories (2, object): ['0' < '1']\n"
     ]
    }
   ],
   "source": [
    "'''compute predictions of testing dataset''' \n",
    "y_pred = automl.predict(X_test)\n",
    "print('Predicted labels', y_pred)\n",
    "print('True labels', y_test)\n",
    "y_pred_proba = automl.predict_proba(X_test)[:,1]"
   ]
  },
  {
   "cell_type": "code",
   "execution_count": 9,
   "metadata": {
    "slideshow": {
     "slide_type": "slide"
    },
    "tags": []
   },
   "outputs": [
    {
     "name": "stdout",
     "output_type": "stream",
     "text": [
      "accuracy = 0.6732939797991784\n",
      "roc_auc = 0.7276250346550404\n",
      "log_loss = 0.6014655432027879\n"
     ]
    }
   ],
   "source": [
    "''' compute different metric values on testing dataset'''\n",
    "from flaml.ml import sklearn_metric_loss_score\n",
    "print('accuracy', '=', 1 - sklearn_metric_loss_score('accuracy', y_pred, y_test))\n",
    "print('roc_auc', '=', 1 - sklearn_metric_loss_score('roc_auc', y_pred_proba, y_test))\n",
    "print('log_loss', '=', sklearn_metric_loss_score('log_loss', y_pred_proba, y_test))"
   ]
  },
  {
   "cell_type": "markdown",
   "metadata": {
    "slideshow": {
     "slide_type": "slide"
    }
   },
   "source": [
    "See Section 4 for an accuracy comparison with default LightGBM and XGBoost.\n",
    "\n",
    "### Log history"
   ]
  },
  {
   "cell_type": "code",
   "execution_count": 10,
   "metadata": {
    "slideshow": {
     "slide_type": "subslide"
    },
    "tags": []
   },
   "outputs": [
    {
     "name": "stdout",
     "output_type": "stream",
     "text": [
      "{'Current Learner': 'lgbm', 'Current Sample': 10000, 'Current Hyper-parameters': {'n_estimators': 4, 'num_leaves': 4, 'min_child_samples': 20, 'learning_rate': 0.09999999999999995, 'log_max_bin': 8, 'colsample_bytree': 1.0, 'reg_alpha': 0.0009765625, 'reg_lambda': 1.0, 'FLAML_sample_size': 10000}, 'Best Learner': 'lgbm', 'Best Hyper-parameters': {'n_estimators': 4, 'num_leaves': 4, 'min_child_samples': 20, 'learning_rate': 0.09999999999999995, 'log_max_bin': 8, 'colsample_bytree': 1.0, 'reg_alpha': 0.0009765625, 'reg_lambda': 1.0, 'FLAML_sample_size': 10000}}\n",
      "{'Current Learner': 'lgbm', 'Current Sample': 10000, 'Current Hyper-parameters': {'n_estimators': 26, 'num_leaves': 4, 'min_child_samples': 18, 'learning_rate': 0.2293009676418639, 'log_max_bin': 9, 'colsample_bytree': 0.9086551727646448, 'reg_alpha': 0.0015561782752413472, 'reg_lambda': 0.33127416269768944, 'FLAML_sample_size': 10000}, 'Best Learner': 'lgbm', 'Best Hyper-parameters': {'n_estimators': 26, 'num_leaves': 4, 'min_child_samples': 18, 'learning_rate': 0.2293009676418639, 'log_max_bin': 9, 'colsample_bytree': 0.9086551727646448, 'reg_alpha': 0.0015561782752413472, 'reg_lambda': 0.33127416269768944, 'FLAML_sample_size': 10000}}\n",
      "{'Current Learner': 'lgbm', 'Current Sample': 40000, 'Current Hyper-parameters': {'n_estimators': 55, 'num_leaves': 4, 'min_child_samples': 20, 'learning_rate': 0.43653962213332903, 'log_max_bin': 10, 'colsample_bytree': 0.8048558760626646, 'reg_alpha': 0.0009765625, 'reg_lambda': 0.23010605579846408, 'FLAML_sample_size': 40000}, 'Best Learner': 'lgbm', 'Best Hyper-parameters': {'n_estimators': 55, 'num_leaves': 4, 'min_child_samples': 20, 'learning_rate': 0.43653962213332903, 'log_max_bin': 10, 'colsample_bytree': 0.8048558760626646, 'reg_alpha': 0.0009765625, 'reg_lambda': 0.23010605579846408, 'FLAML_sample_size': 40000}}\n",
      "{'Current Learner': 'lgbm', 'Current Sample': 40000, 'Current Hyper-parameters': {'n_estimators': 90, 'num_leaves': 18, 'min_child_samples': 34, 'learning_rate': 0.35726266205297247, 'log_max_bin': 10, 'colsample_bytree': 0.9295656128173544, 'reg_alpha': 0.0009765625, 'reg_lambda': 0.1981463604305675, 'FLAML_sample_size': 40000}, 'Best Learner': 'lgbm', 'Best Hyper-parameters': {'n_estimators': 90, 'num_leaves': 18, 'min_child_samples': 34, 'learning_rate': 0.35726266205297247, 'log_max_bin': 10, 'colsample_bytree': 0.9295656128173544, 'reg_alpha': 0.0009765625, 'reg_lambda': 0.1981463604305675, 'FLAML_sample_size': 40000}}\n",
      "{'Current Learner': 'lgbm', 'Current Sample': 40000, 'Current Hyper-parameters': {'n_estimators': 56, 'num_leaves': 7, 'min_child_samples': 92, 'learning_rate': 0.23536463281405448, 'log_max_bin': 10, 'colsample_bytree': 0.9898009552962395, 'reg_alpha': 0.0009765625, 'reg_lambda': 0.14329426172643311, 'FLAML_sample_size': 40000}, 'Best Learner': 'lgbm', 'Best Hyper-parameters': {'n_estimators': 56, 'num_leaves': 7, 'min_child_samples': 92, 'learning_rate': 0.23536463281405448, 'log_max_bin': 10, 'colsample_bytree': 0.9898009552962395, 'reg_alpha': 0.0009765625, 'reg_lambda': 0.14329426172643311, 'FLAML_sample_size': 40000}}\n",
      "{'Current Learner': 'lgbm', 'Current Sample': 364083, 'Current Hyper-parameters': {'n_estimators': 56, 'num_leaves': 7, 'min_child_samples': 92, 'learning_rate': 0.23536463281405448, 'log_max_bin': 10, 'colsample_bytree': 0.9898009552962395, 'reg_alpha': 0.0009765625, 'reg_lambda': 0.14329426172643311, 'FLAML_sample_size': 364083}, 'Best Learner': 'lgbm', 'Best Hyper-parameters': {'n_estimators': 56, 'num_leaves': 7, 'min_child_samples': 92, 'learning_rate': 0.23536463281405448, 'log_max_bin': 10, 'colsample_bytree': 0.9898009552962395, 'reg_alpha': 0.0009765625, 'reg_lambda': 0.14329426172643311, 'FLAML_sample_size': 364083}}\n",
      "{'Current Learner': 'lgbm', 'Current Sample': 364083, 'Current Hyper-parameters': {'n_estimators': 179, 'num_leaves': 27, 'min_child_samples': 75, 'learning_rate': 0.09744966359309036, 'log_max_bin': 10, 'colsample_bytree': 1.0, 'reg_alpha': 0.002826104794043855, 'reg_lambda': 0.1457318237156161, 'FLAML_sample_size': 364083}, 'Best Learner': 'lgbm', 'Best Hyper-parameters': {'n_estimators': 179, 'num_leaves': 27, 'min_child_samples': 75, 'learning_rate': 0.09744966359309036, 'log_max_bin': 10, 'colsample_bytree': 1.0, 'reg_alpha': 0.002826104794043855, 'reg_lambda': 0.1457318237156161, 'FLAML_sample_size': 364083}}\n",
      "{'Current Learner': 'lgbm', 'Current Sample': 364083, 'Current Hyper-parameters': {'n_estimators': 180, 'num_leaves': 31, 'min_child_samples': 112, 'learning_rate': 0.14172261747380896, 'log_max_bin': 8, 'colsample_bytree': 0.9882716197099741, 'reg_alpha': 0.004676080321450302, 'reg_lambda': 2.704862827036818, 'FLAML_sample_size': 364083}, 'Best Learner': 'lgbm', 'Best Hyper-parameters': {'n_estimators': 180, 'num_leaves': 31, 'min_child_samples': 112, 'learning_rate': 0.14172261747380896, 'log_max_bin': 8, 'colsample_bytree': 0.9882716197099741, 'reg_alpha': 0.004676080321450302, 'reg_lambda': 2.704862827036818, 'FLAML_sample_size': 364083}}\n",
      "{'Current Learner': 'lgbm', 'Current Sample': 364083, 'Current Hyper-parameters': {'n_estimators': 284, 'num_leaves': 24, 'min_child_samples': 57, 'learning_rate': 0.34506374431782694, 'log_max_bin': 8, 'colsample_bytree': 0.9661606582789269, 'reg_alpha': 0.05708594148438563, 'reg_lambda': 3.0806435484123478, 'FLAML_sample_size': 364083}, 'Best Learner': 'lgbm', 'Best Hyper-parameters': {'n_estimators': 284, 'num_leaves': 24, 'min_child_samples': 57, 'learning_rate': 0.34506374431782694, 'log_max_bin': 8, 'colsample_bytree': 0.9661606582789269, 'reg_alpha': 0.05708594148438563, 'reg_lambda': 3.0806435484123478, 'FLAML_sample_size': 364083}}\n",
      "{'Current Learner': 'lgbm', 'Current Sample': 364083, 'Current Hyper-parameters': {'n_estimators': 150, 'num_leaves': 176, 'min_child_samples': 62, 'learning_rate': 0.2607939951456869, 'log_max_bin': 8, 'colsample_bytree': 1.0, 'reg_alpha': 0.015973158305354472, 'reg_lambda': 1.1581244082992255, 'FLAML_sample_size': 364083}, 'Best Learner': 'lgbm', 'Best Hyper-parameters': {'n_estimators': 150, 'num_leaves': 176, 'min_child_samples': 62, 'learning_rate': 0.2607939951456869, 'log_max_bin': 8, 'colsample_bytree': 1.0, 'reg_alpha': 0.015973158305354472, 'reg_lambda': 1.1581244082992255, 'FLAML_sample_size': 364083}}\n",
      "{'Current Learner': 'lgbm', 'Current Sample': 364083, 'Current Hyper-parameters': {'n_estimators': 100, 'num_leaves': 380, 'min_child_samples': 83, 'learning_rate': 0.14396881822179283, 'log_max_bin': 7, 'colsample_bytree': 0.9365250834556608, 'reg_alpha': 0.07492795084698504, 'reg_lambda': 10.854898771631584, 'FLAML_sample_size': 364083}, 'Best Learner': 'lgbm', 'Best Hyper-parameters': {'n_estimators': 100, 'num_leaves': 380, 'min_child_samples': 83, 'learning_rate': 0.14396881822179283, 'log_max_bin': 7, 'colsample_bytree': 0.9365250834556608, 'reg_alpha': 0.07492795084698504, 'reg_lambda': 10.854898771631584, 'FLAML_sample_size': 364083}}\n",
      "{'Current Learner': 'lgbm', 'Current Sample': 364083, 'Current Hyper-parameters': {'n_estimators': 157, 'num_leaves': 985, 'min_child_samples': 115, 'learning_rate': 0.1598685354048624, 'log_max_bin': 6, 'colsample_bytree': 0.8905312088154893, 'reg_alpha': 0.17376372850615002, 'reg_lambda': 196.88994398476, 'FLAML_sample_size': 364083}, 'Best Learner': 'lgbm', 'Best Hyper-parameters': {'n_estimators': 157, 'num_leaves': 985, 'min_child_samples': 115, 'learning_rate': 0.1598685354048624, 'log_max_bin': 6, 'colsample_bytree': 0.8905312088154893, 'reg_alpha': 0.17376372850615002, 'reg_lambda': 196.88994398476, 'FLAML_sample_size': 364083}}\n",
      "{'Current Learner': 'lgbm', 'Current Sample': 364083, 'Current Hyper-parameters': {'n_estimators': 302, 'num_leaves': 466, 'min_child_samples': 128, 'learning_rate': 0.08749366799403727, 'log_max_bin': 7, 'colsample_bytree': 0.763983850698587, 'reg_alpha': 0.09968008477303378, 'reg_lambda': 23.22741934331899, 'FLAML_sample_size': 364083}, 'Best Learner': 'lgbm', 'Best Hyper-parameters': {'n_estimators': 302, 'num_leaves': 466, 'min_child_samples': 128, 'learning_rate': 0.08749366799403727, 'log_max_bin': 7, 'colsample_bytree': 0.763983850698587, 'reg_alpha': 0.09968008477303378, 'reg_lambda': 23.22741934331899, 'FLAML_sample_size': 364083}}\n"
     ]
    }
   ],
   "source": [
    "from flaml.data import get_output_from_log\n",
    "time_history, best_valid_loss_history, valid_loss_history, config_history, metric_history = \\\n",
    "    get_output_from_log(filename=settings['log_file_name'], time_budget=240)\n",
    "for config in config_history:\n",
    "    print(config)"
   ]
  },
  {
   "cell_type": "code",
   "execution_count": 11,
   "metadata": {
    "slideshow": {
     "slide_type": "slide"
    }
   },
   "outputs": [
    {
     "data": {
      "image/png": "[encoded data removed]",
      "text/plain": [
       "<Figure size 640x480 with 1 Axes>"
      ]
     },
     "metadata": {},
     "output_type": "display_data"
    }
   ],
   "source": [
    "import matplotlib.pyplot as plt\n",
    "import numpy as np\n",
    "\n",
    "plt.title('Learning Curve')\n",
    "plt.xlabel('Wall Clock Time (s)')\n",
    "plt.ylabel('Validation Accuracy')\n",
    "plt.scatter(time_history, 1 - np.array(valid_loss_history))\n",
    "plt.step(time_history, 1 - np.array(best_valid_loss_history), where='post')\n",
    "plt.show()"
   ]
  },
  {
   "cell_type": "markdown",
   "metadata": {},
   "source": [
    "## 3. Comparison with alternatives\n"
   ]
  },
  {
   "cell_type": "markdown",
   "metadata": {},
   "source": [
    "### Default LightGBM"
   ]
  },
  {
   "cell_type": "code",
   "execution_count": 12,
   "metadata": {},
   "outputs": [],
   "source": [
    "from lightgbm import LGBMClassifier\n",
    "lgbm = LGBMClassifier()"
   ]
  },
  {
   "cell_type": "code",
   "execution_count": 13,
   "metadata": {},
   "outputs": [
    {
     "data": {
      "text/html": [
       "<style>#sk-container-id-2 {color: black;background-color: white;}#sk-container-id-2 pre{padding: 0;}#sk-container-id-2 div.sk-toggleable {background-color: white;}#sk-container-id-2 label.sk-toggleable__label {cursor: pointer;display: block;width: 100%;margin-bottom: 0;padding: 0.3em;box-sizing: border-box;text-align: center;}#sk-container-id-2 label.sk-toggleable__label-arrow:before {content: \"▸\";float: left;margin-right: 0.25em;color: #696969;}#sk-container-id-2 label.sk-toggleable__label-arrow:hover:before {color: black;}#sk-container-id-2 div.sk-estimator:hover label.sk-toggleable__label-arrow:before {color: black;}#sk-container-id-2 div.sk-toggleable__content {max-height: 0;max-width: 0;overflow: hidden;text-align: left;background-color: #f0f8ff;}#sk-container-id-2 div.sk-toggleable__content pre {margin: 0.2em;color: black;border-radius: 0.25em;background-color: #f0f8ff;}#sk-container-id-2 input.sk-toggleable__control:checked~div.sk-toggleable__content {max-height: 200px;max-width: 100%;overflow: auto;}#sk-container-id-2 input.sk-toggleable__control:checked~label.sk-toggleable__label-arrow:before {content: \"▾\";}#sk-container-id-2 div.sk-estimator input.sk-toggleable__control:checked~label.sk-toggleable__label {background-color: #d4ebff;}#sk-container-id-2 div.sk-label input.sk-toggleable__control:checked~label.sk-toggleable__label {background-color: #d4ebff;}#sk-container-id-2 input.sk-hidden--visually {border: 0;clip: rect(1px 1px 1px 1px);clip: rect(1px, 1px, 1px, 1px);height: 1px;margin: -1px;overflow: hidden;padding: 0;position: absolute;width: 1px;}#sk-container-id-2 div.sk-estimator {font-family: monospace;background-color: #f0f8ff;border: 1px dotted black;border-radius: 0.25em;box-sizing: border-box;margin-bottom: 0.5em;}#sk-container-id-2 div.sk-estimator:hover {background-color: #d4ebff;}#sk-container-id-2 div.sk-parallel-item::after {content: \"\";width: 100%;border-bottom: 1px solid gray;flex-grow: 1;}#sk-container-id-2 div.sk-label:hover label.sk-toggleable__label {background-color: #d4ebff;}#sk-container-id-2 div.sk-serial::before {content: \"\";position: absolute;border-left: 1px solid gray;box-sizing: border-box;top: 0;bottom: 0;left: 50%;z-index: 0;}#sk-container-id-2 div.sk-serial {display: flex;flex-direction: column;align-items: center;background-color: white;padding-right: 0.2em;padding-left: 0.2em;position: relative;}#sk-container-id-2 div.sk-item {position: relative;z-index: 1;}#sk-container-id-2 div.sk-parallel {display: flex;align-items: stretch;justify-content: center;background-color: white;position: relative;}#sk-container-id-2 div.sk-item::before, #sk-container-id-2 div.sk-parallel-item::before {content: \"\";position: absolute;border-left: 1px solid gray;box-sizing: border-box;top: 0;bottom: 0;left: 50%;z-index: -1;}#sk-container-id-2 div.sk-parallel-item {display: flex;flex-direction: column;z-index: 1;position: relative;background-color: white;}#sk-container-id-2 div.sk-parallel-item:first-child::after {align-self: flex-end;width: 50%;}#sk-container-id-2 div.sk-parallel-item:last-child::after {align-self: flex-start;width: 50%;}#sk-container-id-2 div.sk-parallel-item:only-child::after {width: 0;}#sk-container-id-2 div.sk-dashed-wrapped {border: 1px dashed gray;margin: 0 0.4em 0.5em 0.4em;box-sizing: border-box;padding-bottom: 0.4em;background-color: white;}#sk-container-id-2 div.sk-label label {font-family: monospace;font-weight: bold;display: inline-block;line-height: 1.2em;}#sk-container-id-2 div.sk-label-container {text-align: center;}#sk-container-id-2 div.sk-container {/* jupyter's `normalize.less` sets `[hidden] { display: none; }` but bootstrap.min.css set `[hidden] { display: none !important; }` so we also need the `!important` here to be able to override the default hidden behavior on the sphinx rendered scikit-learn.org. See: https://github.com/scikit-learn/scikit-learn/issues/21755 */display: inline-block !important;position: relative;}#sk-container-id-2 div.sk-text-repr-fallback {display: none;}</style><div id=\"sk-container-id-2\" class=\"sk-top-container\"><div class=\"sk-text-repr-fallback\"><pre>LGBMClassifier()</pre><b>In a Jupyter environment, please rerun this cell to show the HTML representation or trust the notebook. <br />On GitHub, the HTML representation is unable to render, please try loading this page with nbviewer.org.</b></div><div class=\"sk-container\" hidden><div class=\"sk-item\"><div class=\"sk-estimator sk-toggleable\"><input class=\"sk-toggleable__control sk-hidden--visually\" id=\"sk-estimator-id-2\" type=\"checkbox\" checked><label for=\"sk-estimator-id-2\" class=\"sk-toggleable__label sk-toggleable__label-arrow\">LGBMClassifier</label><div class=\"sk-toggleable__content\"><pre>LGBMClassifier()</pre></div></div></div></div></div>"
      ],
      "text/plain": [
       "LGBMClassifier()"
      ]
     },
     "execution_count": 13,
     "metadata": {},
     "output_type": "execute_result"
    }
   ],
   "source": [
    "lgbm.fit(X_train, y_train)"
   ]
  },
  {
   "cell_type": "code",
   "execution_count": 14,
   "metadata": {},
   "outputs": [],
   "source": [
    "y_pred_lgbm = lgbm.predict(X_test)"
   ]
  },
  {
   "cell_type": "markdown",
   "metadata": {},
   "source": [
    "### Default XGBoost"
   ]
  },
  {
   "cell_type": "code",
   "execution_count": 15,
   "metadata": {},
   "outputs": [],
   "source": [
    "from xgboost import XGBClassifier\n",
    "xgb = XGBClassifier()\n",
    "cat_columns = X_train.select_dtypes(include=['category']).columns\n",
    "X = X_train.copy()\n",
    "X[cat_columns] = X[cat_columns].apply(lambda x: x.cat.codes)\n"
   ]
  },
  {
   "cell_type": "code",
   "execution_count": 17,
   "metadata": {},
   "outputs": [
    {
     "ename": "ValueError",
     "evalue": "Invalid classes inferred from unique values of `y`.  Expected: [0 1], got ['0' '1']",
     "output_type": "error",
     "traceback": [
      "\u001b[0;31m---------------------------------------------------------------------------\u001b[0m",
      "\u001b[0;31mValueError\u001b[0m                                Traceback (most recent call last)",
      "Cell \u001b[0;32mIn[17], line 1\u001b[0m\n\u001b[0;32m----> 1\u001b[0m xgb\u001b[39m.\u001b[39mfit(X, y_train)\n",
      "File \u001b[0;32m/opt/homebrew/anaconda3/envs/flaml/lib/python3.11/site-packages/xgboost/core.py:620\u001b[0m, in \u001b[0;36mrequire_keyword_args.<locals>.throw_if.<locals>.inner_f\u001b[0;34m(*args, **kwargs)\u001b[0m\n\u001b[1;32m    618\u001b[0m \u001b[39mfor\u001b[39;00m k, arg \u001b[39min\u001b[39;00m \u001b[39mzip\u001b[39m(sig\u001b[39m.\u001b[39mparameters, args):\n\u001b[1;32m    619\u001b[0m     kwargs[k] \u001b[39m=\u001b[39m arg\n\u001b[0;32m--> 620\u001b[0m \u001b[39mreturn\u001b[39;00m func(\u001b[39m*\u001b[39m\u001b[39m*\u001b[39mkwargs)\n",
      "File \u001b[0;32m/opt/homebrew/anaconda3/envs/flaml/lib/python3.11/site-packages/xgboost/sklearn.py:1440\u001b[0m, in \u001b[0;36mXGBClassifier.fit\u001b[0;34m(self, X, y, sample_weight, base_margin, eval_set, eval_metric, early_stopping_rounds, verbose, xgb_model, sample_weight_eval_set, base_margin_eval_set, feature_weights, callbacks)\u001b[0m\n\u001b[1;32m   1435\u001b[0m     expected_classes \u001b[39m=\u001b[39m np\u001b[39m.\u001b[39marange(\u001b[39mself\u001b[39m\u001b[39m.\u001b[39mn_classes_)\n\u001b[1;32m   1436\u001b[0m \u001b[39mif\u001b[39;00m (\n\u001b[1;32m   1437\u001b[0m     \u001b[39mself\u001b[39m\u001b[39m.\u001b[39mclasses_\u001b[39m.\u001b[39mshape \u001b[39m!=\u001b[39m expected_classes\u001b[39m.\u001b[39mshape\n\u001b[1;32m   1438\u001b[0m     \u001b[39mor\u001b[39;00m \u001b[39mnot\u001b[39;00m (\u001b[39mself\u001b[39m\u001b[39m.\u001b[39mclasses_ \u001b[39m==\u001b[39m expected_classes)\u001b[39m.\u001b[39mall()\n\u001b[1;32m   1439\u001b[0m ):\n\u001b[0;32m-> 1440\u001b[0m     \u001b[39mraise\u001b[39;00m \u001b[39mValueError\u001b[39;00m(\n\u001b[1;32m   1441\u001b[0m         \u001b[39mf\u001b[39m\u001b[39m\"\u001b[39m\u001b[39mInvalid classes inferred from unique values of `y`.  \u001b[39m\u001b[39m\"\u001b[39m\n\u001b[1;32m   1442\u001b[0m         \u001b[39mf\u001b[39m\u001b[39m\"\u001b[39m\u001b[39mExpected: \u001b[39m\u001b[39m{\u001b[39;00mexpected_classes\u001b[39m}\u001b[39;00m\u001b[39m, got \u001b[39m\u001b[39m{\u001b[39;00m\u001b[39mself\u001b[39m\u001b[39m.\u001b[39mclasses_\u001b[39m}\u001b[39;00m\u001b[39m\"\u001b[39m\n\u001b[1;32m   1443\u001b[0m     )\n\u001b[1;32m   1445\u001b[0m params \u001b[39m=\u001b[39m \u001b[39mself\u001b[39m\u001b[39m.\u001b[39mget_xgb_params()\n\u001b[1;32m   1447\u001b[0m \u001b[39mif\u001b[39;00m callable(\u001b[39mself\u001b[39m\u001b[39m.\u001b[39mobjective):\n",
      "\u001b[0;31mValueError\u001b[0m: Invalid classes inferred from unique values of `y`.  Expected: [0 1], got ['0' '1']"
     ]
    }
   ],
   "source": [
    "xgb.fit(X, y_train)"
   ]
  },
  {
   "cell_type": "code",
   "execution_count": 44,
   "metadata": {},
   "outputs": [],
   "source": [
    "X = X_test.copy()\n",
    "X[cat_columns] = X[cat_columns].apply(lambda x: x.cat.codes)\n",
    "y_pred_xgb = xgb.predict(X)"
   ]
  },
  {
   "cell_type": "code",
   "execution_count": 45,
   "metadata": {},
   "outputs": [
    {
     "name": "stdout",
     "output_type": "stream",
     "text": [
      "default xgboost accuracy = 0.6492369072868309\n",
      "default lgbm accuracy = 0.6602123904305652\n",
      "flaml (10 min) accuracy = 0.6685849042611571\n"
     ]
    }
   ],
   "source": [
    "print('default xgboost accuracy', '=', 1 - sklearn_metric_loss_score('accuracy', y_pred_xgb, y_test))\n",
    "print('default lgbm accuracy', '=', 1 - sklearn_metric_loss_score('accuracy', y_pred_lgbm, y_test))\n",
    "print('flaml (10 min) accuracy', '=', 1 - sklearn_metric_loss_score('accuracy', y_pred, y_test))"
   ]
  },
  {
   "cell_type": "markdown",
   "metadata": {
    "slideshow": {
     "slide_type": "slide"
    }
   },
   "source": [
    "## 4. Customized Learner"
   ]
  },
  {
   "cell_type": "markdown",
   "metadata": {
    "slideshow": {
     "slide_type": "slide"
    }
   },
   "source": [
    "Some experienced automl users may have a preferred model to tune or may already have a reasonably by-hand-tuned model before launching the automl experiment. They need to select optimal configurations for the customized model mixed with standard built-in learners. \n",
    "\n",
    "FLAML can easily incorporate customized/new learners (preferably with sklearn API) provided by users in a real-time manner, as demonstrated below."
   ]
  },
  {
   "cell_type": "markdown",
   "metadata": {
    "slideshow": {
     "slide_type": "slide"
    }
   },
   "source": [
    "### Example of Regularized Greedy Forest\n",
    "\n",
    "[Regularized Greedy Forest](https://arxiv.org/abs/1109.0887) (RGF) is a machine learning method currently not included in FLAML. The RGF has many tuning parameters, the most critical of which are: `[max_leaf, n_iter, n_tree_search, opt_interval, min_samples_leaf]`. To run a customized/new learner, the user needs to provide the following information:\n",
    "* an implementation of the customized/new learner\n",
    "* a list of hyperparameter names and types\n",
    "* rough ranges of hyperparameters (i.e., upper/lower bounds)\n",
    "* choose initial value corresponding to low cost for cost-related hyperparameters (e.g., initial value for max_leaf and n_iter should be small)\n",
    "\n",
    "In this example, the above information for RGF is wrapped in a python class called *MyRegularizedGreedyForest* that exposes the hyperparameters."
   ]
  },
  {
   "cell_type": "code",
   "execution_count": 18,
   "metadata": {
    "slideshow": {
     "slide_type": "slide"
    }
   },
   "outputs": [
    {
     "ename": "ImportError",
     "evalue": "cannot import name 'CLASSIFICATION' from 'flaml.data' (/opt/homebrew/anaconda3/envs/flaml/lib/python3.11/site-packages/flaml/data.py)",
     "output_type": "error",
     "traceback": [
      "\u001b[0;31m---------------------------------------------------------------------------\u001b[0m",
      "\u001b[0;31mImportError\u001b[0m                               Traceback (most recent call last)",
      "Cell \u001b[0;32mIn[18], line 4\u001b[0m\n\u001b[1;32m      2\u001b[0m \u001b[39mfrom\u001b[39;00m \u001b[39mflaml\u001b[39;00m\u001b[39m.\u001b[39;00m\u001b[39mmodel\u001b[39;00m \u001b[39mimport\u001b[39;00m SKLearnEstimator\n\u001b[1;32m      3\u001b[0m \u001b[39mfrom\u001b[39;00m \u001b[39mflaml\u001b[39;00m \u001b[39mimport\u001b[39;00m tune\n\u001b[0;32m----> 4\u001b[0m \u001b[39mfrom\u001b[39;00m \u001b[39mflaml\u001b[39;00m\u001b[39m.\u001b[39;00m\u001b[39mdata\u001b[39;00m \u001b[39mimport\u001b[39;00m CLASSIFICATION\n\u001b[1;32m      7\u001b[0m \u001b[39mclass\u001b[39;00m \u001b[39mMyRegularizedGreedyForest\u001b[39;00m(SKLearnEstimator):\n\u001b[1;32m      8\u001b[0m     \u001b[39mdef\u001b[39;00m \u001b[39m__init__\u001b[39m(\u001b[39mself\u001b[39m, task\u001b[39m=\u001b[39m\u001b[39m'\u001b[39m\u001b[39mbinary\u001b[39m\u001b[39m'\u001b[39m, \u001b[39m*\u001b[39m\u001b[39m*\u001b[39mconfig):\n",
      "\u001b[0;31mImportError\u001b[0m: cannot import name 'CLASSIFICATION' from 'flaml.data' (/opt/homebrew/anaconda3/envs/flaml/lib/python3.11/site-packages/flaml/data.py)"
     ]
    }
   ],
   "source": [
    "''' SKLearnEstimator is the super class for a sklearn learner '''\n",
    "from flaml.model import SKLearnEstimator\n",
    "from flaml import tune\n",
    "from flaml.data import CLASSIFICATION\n",
    "\n",
    "\n",
    "class MyRegularizedGreedyForest(SKLearnEstimator):\n",
    "    def __init__(self, task='binary', **config):\n",
    "        '''Constructor\n",
    "        \n",
    "        Args:\n",
    "            task: A string of the task type, one of\n",
    "                'binary', 'multiclass', 'regression'\n",
    "            config: A dictionary containing the hyperparameter names\n",
    "                and 'n_jobs' as keys. n_jobs is the number of parallel threads.\n",
    "        '''\n",
    "\n",
    "        super().__init__(task, **config)\n",
    "\n",
    "        '''task=binary or multi for classification task'''\n",
    "        if task in CLASSIFICATION:\n",
    "            from rgf.sklearn import RGFClassifier\n",
    "\n",
    "            self.estimator_class = RGFClassifier\n",
    "        else:\n",
    "            from rgf.sklearn import RGFRegressor\n",
    "            \n",
    "            self.estimator_class = RGFRegressor\n",
    "\n",
    "    @classmethod\n",
    "    def search_space(cls, data_size, task):\n",
    "        '''[required method] search space\n",
    "\n",
    "        Returns:\n",
    "            A dictionary of the search space. \n",
    "            Each key is the name of a hyperparameter, and value is a dict with\n",
    "                its domain (required) and low_cost_init_value, init_value,\n",
    "                cat_hp_cost (if applicable).\n",
    "                e.g.,\n",
    "                {'domain': tune.randint(lower=1, upper=10), 'init_value': 1}.\n",
    "        '''\n",
    "        space = {        \n",
    "            'max_leaf': {'domain': tune.lograndint(lower=4, upper=data_size[0]), 'init_value': 4, 'low_cost_init_value': 4},\n",
    "            'n_iter': {'domain': tune.lograndint(lower=1, upper=data_size[0]), 'init_value': 1, 'low_cost_init_value': 1},\n",
    "            'n_tree_search': {'domain': tune.lograndint(lower=1, upper=32768), 'init_value': 1, 'low_cost_init_value': 1},\n",
    "            'opt_interval': {'domain': tune.lograndint(lower=1, upper=10000), 'init_value': 100},\n",
    "            'learning_rate': {'domain': tune.loguniform(lower=0.01, upper=20.0)},\n",
    "            'min_samples_leaf': {'domain': tune.lograndint(lower=1, upper=20), 'init_value': 20},\n",
    "        }\n",
    "        return space\n",
    "\n",
    "    @classmethod\n",
    "    def size(cls, config):\n",
    "        '''[optional method] memory size of the estimator in bytes\n",
    "        \n",
    "        Args:\n",
    "            config - the dict of the hyperparameter config\n",
    "\n",
    "        Returns:\n",
    "            A float of the memory size required by the estimator to train the\n",
    "            given config\n",
    "        '''\n",
    "        max_leaves = int(round(config['max_leaf']))\n",
    "        n_estimators = int(round(config['n_iter']))\n",
    "        return (max_leaves * 3 + (max_leaves - 1) * 4 + 1.0) * n_estimators * 8\n",
    "\n",
    "    @classmethod\n",
    "    def cost_relative2lgbm(cls):\n",
    "        '''[optional method] relative cost compared to lightgbm\n",
    "        '''\n",
    "        return 1.0\n"
   ]
  },
  {
   "cell_type": "markdown",
   "metadata": {
    "slideshow": {
     "slide_type": "slide"
    }
   },
   "source": [
    "### Add Customized Learner and Run FLAML AutoML\n",
    "\n",
    "After adding RGF into the list of learners, we run automl by tuning hyperpameters of RGF as well as the default learners. "
   ]
  },
  {
   "cell_type": "code",
   "execution_count": 47,
   "metadata": {
    "slideshow": {
     "slide_type": "slide"
    }
   },
   "outputs": [],
   "source": [
    "automl = AutoML()\n",
    "automl.add_learner(learner_name='RGF', learner_class=MyRegularizedGreedyForest)"
   ]
  },
  {
   "cell_type": "code",
   "execution_count": 48,
   "metadata": {
    "slideshow": {
     "slide_type": "slide"
    },
    "tags": []
   },
   "outputs": [
    {
     "name": "stderr",
     "output_type": "stream",
     "text": [
      "[flaml.automl: 08-19 14:19:25] {2447} INFO - task = classification\n",
      "[flaml.automl: 08-19 14:19:25] {2449} INFO - Data split method: stratified\n",
      "[flaml.automl: 08-19 14:19:25] {2452} INFO - Evaluation method: holdout\n",
      "[flaml.automl: 08-19 14:19:26] {2571} INFO - Minimizing error metric: 1-accuracy\n",
      "[flaml.automl: 08-19 14:19:26] {2711} INFO - List of ML learners in AutoML Run: ['RGF', 'lgbm', 'rf', 'xgboost']\n",
      "[flaml.automl: 08-19 14:19:26] {3013} INFO - iteration 0, current learner RGF\n",
      "[flaml.automl: 08-19 14:19:27] {3146} INFO - Estimated sufficient time budget=283078s. Estimated necessary time budget=283s.\n",
      "[flaml.automl: 08-19 14:19:27] {3193} INFO -  at 1.5s,\testimator RGF's best error=0.3840,\tbest estimator RGF's best error=0.3840\n",
      "[flaml.automl: 08-19 14:19:27] {3013} INFO - iteration 1, current learner RGF\n",
      "[flaml.automl: 08-19 14:19:27] {3193} INFO -  at 2.2s,\testimator RGF's best error=0.3840,\tbest estimator RGF's best error=0.3840\n",
      "[flaml.automl: 08-19 14:19:27] {3013} INFO - iteration 2, current learner RGF\n",
      "[flaml.automl: 08-19 14:19:28] {3193} INFO -  at 2.8s,\testimator RGF's best error=0.3840,\tbest estimator RGF's best error=0.3840\n",
      "[flaml.automl: 08-19 14:19:28] {3013} INFO - iteration 3, current learner lgbm\n",
      "[flaml.automl: 08-19 14:19:28] {3193} INFO -  at 2.9s,\testimator lgbm's best error=0.3777,\tbest estimator lgbm's best error=0.3777\n",
      "[flaml.automl: 08-19 14:19:28] {3013} INFO - iteration 4, current learner RGF\n",
      "[flaml.automl: 08-19 14:19:29] {3193} INFO -  at 3.6s,\testimator RGF's best error=0.3840,\tbest estimator lgbm's best error=0.3777\n",
      "[flaml.automl: 08-19 14:19:29] {3013} INFO - iteration 5, current learner lgbm\n",
      "[flaml.automl: 08-19 14:19:29] {3193} INFO -  at 3.7s,\testimator lgbm's best error=0.3777,\tbest estimator lgbm's best error=0.3777\n",
      "[flaml.automl: 08-19 14:19:29] {3013} INFO - iteration 6, current learner lgbm\n",
      "[flaml.automl: 08-19 14:19:29] {3193} INFO -  at 3.8s,\testimator lgbm's best error=0.3777,\tbest estimator lgbm's best error=0.3777\n",
      "[flaml.automl: 08-19 14:19:29] {3013} INFO - iteration 7, current learner lgbm\n",
      "[flaml.automl: 08-19 14:19:29] {3193} INFO -  at 3.8s,\testimator lgbm's best error=0.3657,\tbest estimator lgbm's best error=0.3657\n",
      "[flaml.automl: 08-19 14:19:29] {3013} INFO - iteration 8, current learner lgbm\n",
      "[flaml.automl: 08-19 14:19:29] {3193} INFO -  at 3.9s,\testimator lgbm's best error=0.3626,\tbest estimator lgbm's best error=0.3626\n",
      "[flaml.automl: 08-19 14:19:29] {3013} INFO - iteration 9, current learner lgbm\n",
      "[flaml.automl: 08-19 14:19:29] {3193} INFO -  at 4.1s,\testimator lgbm's best error=0.3626,\tbest estimator lgbm's best error=0.3626\n",
      "[flaml.automl: 08-19 14:19:29] {3013} INFO - iteration 10, current learner lgbm\n",
      "[flaml.automl: 08-19 14:19:29] {3193} INFO -  at 4.2s,\testimator lgbm's best error=0.3626,\tbest estimator lgbm's best error=0.3626\n",
      "[flaml.automl: 08-19 14:19:29] {3013} INFO - iteration 11, current learner lgbm\n",
      "[flaml.automl: 08-19 14:19:29] {3193} INFO -  at 4.3s,\testimator lgbm's best error=0.3626,\tbest estimator lgbm's best error=0.3626\n",
      "[flaml.automl: 08-19 14:19:29] {3013} INFO - iteration 12, current learner lgbm\n",
      "[flaml.automl: 08-19 14:19:29] {3193} INFO -  at 4.3s,\testimator lgbm's best error=0.3626,\tbest estimator lgbm's best error=0.3626\n",
      "[flaml.automl: 08-19 14:19:29] {3013} INFO - iteration 13, current learner lgbm\n",
      "[flaml.automl: 08-19 14:19:30] {3193} INFO -  at 4.5s,\testimator lgbm's best error=0.3614,\tbest estimator lgbm's best error=0.3614\n",
      "[flaml.automl: 08-19 14:19:30] {3013} INFO - iteration 14, current learner RGF\n",
      "[flaml.automl: 08-19 14:19:30] {3193} INFO -  at 5.2s,\testimator RGF's best error=0.3840,\tbest estimator lgbm's best error=0.3614\n",
      "[flaml.automl: 08-19 14:19:30] {3013} INFO - iteration 15, current learner lgbm\n",
      "[flaml.automl: 08-19 14:19:30] {3193} INFO -  at 5.4s,\testimator lgbm's best error=0.3562,\tbest estimator lgbm's best error=0.3562\n",
      "[flaml.automl: 08-19 14:19:30] {3013} INFO - iteration 16, current learner RGF\n",
      "[flaml.automl: 08-19 14:19:31] {3193} INFO -  at 6.2s,\testimator RGF's best error=0.3766,\tbest estimator lgbm's best error=0.3562\n",
      "[flaml.automl: 08-19 14:19:31] {3013} INFO - iteration 17, current learner lgbm\n",
      "[flaml.automl: 08-19 14:19:31] {3193} INFO -  at 6.4s,\testimator lgbm's best error=0.3562,\tbest estimator lgbm's best error=0.3562\n",
      "[flaml.automl: 08-19 14:19:31] {3013} INFO - iteration 18, current learner lgbm\n",
      "[flaml.automl: 08-19 14:19:32] {3193} INFO -  at 6.6s,\testimator lgbm's best error=0.3562,\tbest estimator lgbm's best error=0.3562\n",
      "[flaml.automl: 08-19 14:19:32] {3013} INFO - iteration 19, current learner lgbm\n",
      "[flaml.automl: 08-19 14:19:32] {3193} INFO -  at 6.8s,\testimator lgbm's best error=0.3562,\tbest estimator lgbm's best error=0.3562\n",
      "[flaml.automl: 08-19 14:19:32] {3013} INFO - iteration 20, current learner lgbm\n",
      "[flaml.automl: 08-19 14:19:32] {3193} INFO -  at 7.0s,\testimator lgbm's best error=0.3562,\tbest estimator lgbm's best error=0.3562\n",
      "[flaml.automl: 08-19 14:19:32] {3013} INFO - iteration 21, current learner lgbm\n",
      "[flaml.automl: 08-19 14:19:32] {3193} INFO -  at 7.1s,\testimator lgbm's best error=0.3562,\tbest estimator lgbm's best error=0.3562\n",
      "[flaml.automl: 08-19 14:19:32] {3013} INFO - iteration 22, current learner lgbm\n",
      "[flaml.automl: 08-19 14:19:34] {3193} INFO -  at 8.5s,\testimator lgbm's best error=0.3539,\tbest estimator lgbm's best error=0.3539\n",
      "[flaml.automl: 08-19 14:19:34] {3013} INFO - iteration 23, current learner xgboost\n",
      "[flaml.automl: 08-19 14:19:34] {3193} INFO -  at 8.5s,\testimator xgboost's best error=0.3800,\tbest estimator lgbm's best error=0.3539\n",
      "[flaml.automl: 08-19 14:19:34] {3013} INFO - iteration 24, current learner xgboost\n",
      "[flaml.automl: 08-19 14:19:34] {3193} INFO -  at 8.6s,\testimator xgboost's best error=0.3800,\tbest estimator lgbm's best error=0.3539\n",
      "[flaml.automl: 08-19 14:19:34] {3013} INFO - iteration 25, current learner xgboost\n",
      "[flaml.automl: 08-19 14:19:34] {3193} INFO -  at 8.6s,\testimator xgboost's best error=0.3768,\tbest estimator lgbm's best error=0.3539\n",
      "[flaml.automl: 08-19 14:19:34] {3013} INFO - iteration 26, current learner rf\n",
      "[flaml.automl: 08-19 14:19:34] {3193} INFO -  at 8.7s,\testimator rf's best error=0.3883,\tbest estimator lgbm's best error=0.3539\n",
      "[flaml.automl: 08-19 14:19:34] {3013} INFO - iteration 27, current learner rf\n",
      "[flaml.automl: 08-19 14:19:34] {3193} INFO -  at 8.8s,\testimator rf's best error=0.3725,\tbest estimator lgbm's best error=0.3539\n",
      "[flaml.automl: 08-19 14:19:34] {3013} INFO - iteration 28, current learner rf\n",
      "[flaml.automl: 08-19 14:19:34] {3193} INFO -  at 8.9s,\testimator rf's best error=0.3725,\tbest estimator lgbm's best error=0.3539\n",
      "[flaml.automl: 08-19 14:19:34] {3013} INFO - iteration 29, current learner xgboost\n",
      "[flaml.automl: 08-19 14:19:34] {3193} INFO -  at 8.9s,\testimator xgboost's best error=0.3768,\tbest estimator lgbm's best error=0.3539\n",
      "[flaml.automl: 08-19 14:19:34] {3013} INFO - iteration 30, current learner rf\n",
      "[flaml.automl: 08-19 14:19:34] {3193} INFO -  at 9.0s,\testimator rf's best error=0.3725,\tbest estimator lgbm's best error=0.3539\n",
      "[flaml.automl: 08-19 14:19:34] {3013} INFO - iteration 31, current learner rf\n",
      "[flaml.automl: 08-19 14:19:34] {3193} INFO -  at 9.1s,\testimator rf's best error=0.3725,\tbest estimator lgbm's best error=0.3539\n",
      "[flaml.automl: 08-19 14:19:34] {3013} INFO - iteration 32, current learner rf\n",
      "[flaml.automl: 08-19 14:19:34] {3193} INFO -  at 9.2s,\testimator rf's best error=0.3725,\tbest estimator lgbm's best error=0.3539\n",
      "[flaml.automl: 08-19 14:19:34] {3013} INFO - iteration 33, current learner xgboost\n",
      "[flaml.automl: 08-19 14:19:34] {3193} INFO -  at 9.2s,\testimator xgboost's best error=0.3694,\tbest estimator lgbm's best error=0.3539\n",
      "[flaml.automl: 08-19 14:19:34] {3013} INFO - iteration 34, current learner rf\n",
      "[flaml.automl: 08-19 14:19:34] {3193} INFO -  at 9.3s,\testimator rf's best error=0.3690,\tbest estimator lgbm's best error=0.3539\n",
      "[flaml.automl: 08-19 14:19:34] {3013} INFO - iteration 35, current learner xgboost\n",
      "[flaml.automl: 08-19 14:19:34] {3193} INFO -  at 9.4s,\testimator xgboost's best error=0.3694,\tbest estimator lgbm's best error=0.3539\n",
      "[flaml.automl: 08-19 14:19:34] {3013} INFO - iteration 36, current learner xgboost\n",
      "[flaml.automl: 08-19 14:19:34] {3193} INFO -  at 9.4s,\testimator xgboost's best error=0.3694,\tbest estimator lgbm's best error=0.3539\n",
      "[flaml.automl: 08-19 14:19:34] {3013} INFO - iteration 37, current learner xgboost\n",
      "[flaml.automl: 08-19 14:19:35] {3193} INFO -  at 9.5s,\testimator xgboost's best error=0.3694,\tbest estimator lgbm's best error=0.3539\n",
      "[flaml.automl: 08-19 14:19:35] {3013} INFO - iteration 38, current learner xgboost\n",
      "[flaml.automl: 08-19 14:19:35] {3193} INFO -  at 9.6s,\testimator xgboost's best error=0.3694,\tbest estimator lgbm's best error=0.3539\n",
      "[flaml.automl: 08-19 14:19:35] {3013} INFO - iteration 39, current learner rf\n",
      "[flaml.automl: 08-19 14:19:35] {3193} INFO -  at 9.6s,\testimator rf's best error=0.3690,\tbest estimator lgbm's best error=0.3539\n",
      "[flaml.automl: 08-19 14:19:35] {3013} INFO - iteration 40, current learner xgboost\n",
      "[flaml.automl: 08-19 14:19:35] {3193} INFO -  at 9.7s,\testimator xgboost's best error=0.3694,\tbest estimator lgbm's best error=0.3539\n",
      "[flaml.automl: 08-19 14:19:35] {3013} INFO - iteration 41, current learner xgboost\n",
      "[flaml.automl: 08-19 14:19:35] {3193} INFO -  at 9.9s,\testimator xgboost's best error=0.3688,\tbest estimator lgbm's best error=0.3539\n",
      "[flaml.automl: 08-19 14:19:35] {3013} INFO - iteration 42, current learner rf\n",
      "[flaml.automl: 08-19 14:19:35] {3193} INFO -  at 9.9s,\testimator rf's best error=0.3690,\tbest estimator lgbm's best error=0.3539\n",
      "[flaml.automl: 08-19 14:19:35] {3013} INFO - iteration 43, current learner rf\n",
      "[flaml.automl: 08-19 14:19:35] {3193} INFO -  at 10.0s,\testimator rf's best error=0.3690,\tbest estimator lgbm's best error=0.3539\n",
      "[flaml.automl: 08-19 14:19:36] {3457} INFO - retrain lgbm for 1.0s\n",
      "[flaml.automl: 08-19 14:19:36] {3464} INFO - retrained model: LGBMClassifier(colsample_bytree=0.7668703701678121, learning_rate=1.0,\n",
      "               max_bin=1023, min_child_samples=7, n_estimators=19, num_leaves=6,\n",
      "               reg_alpha=0.0009765625, reg_lambda=0.006306317701121934,\n",
      "               verbose=-1)\n",
      "[flaml.automl: 08-19 14:19:36] {2742} INFO - fit succeeded\n",
      "[flaml.automl: 08-19 14:19:36] {2743} INFO - Time taken to find the best model: 8.474932193756104\n",
      "[flaml.automl: 08-19 14:19:36] {2754} WARNING - Time taken to find the best model is 85% of the provided time budget and not all estimators' hyperparameter search converged. Consider increasing the time budget.\n"
     ]
    }
   ],
   "source": [
    "settings = {\n",
    "    \"time_budget\": 10,  # total running time in seconds\n",
    "    \"metric\": 'accuracy', \n",
    "    \"estimator_list\": ['RGF', 'lgbm', 'rf', 'xgboost'],  # list of ML learners\n",
    "    \"task\": 'classification',  # task type    \n",
    "    \"log_file_name\": 'airlines_experiment_custom_learner.log',  # flaml log file \n",
    "    \"log_training_metric\": True,  # whether to log training metric\n",
    "}\n",
    "\n",
    "automl.fit(X_train=X_train, y_train=y_train, **settings)"
   ]
  },
  {
   "cell_type": "markdown",
   "metadata": {},
   "source": [
    "## 5. Customized Metric\n",
    "\n",
    "It's also easy to customize the optimization metric. As an example, we demonstrate with a custom metric function which combines training loss and validation loss as the final loss to minimize."
   ]
  },
  {
   "cell_type": "code",
   "execution_count": 49,
   "metadata": {},
   "outputs": [],
   "source": [
    "def custom_metric(X_val, y_val, estimator, labels, X_train, y_train,\n",
    "                  weight_val=None, weight_train=None, config=None,\n",
    "                  groups_val=None, groups_train=None):\n",
    "    from sklearn.metrics import log_loss\n",
    "    import time\n",
    "    start = time.time()\n",
    "    y_pred = estimator.predict_proba(X_val)\n",
    "    pred_time = (time.time() - start) / len(X_val)\n",
    "    val_loss = log_loss(y_val, y_pred, labels=labels,\n",
    "                         sample_weight=weight_val)\n",
    "    y_pred = estimator.predict_proba(X_train)\n",
    "    train_loss = log_loss(y_train, y_pred, labels=labels,\n",
    "                          sample_weight=weight_train)\n",
    "    alpha = 0.5\n",
    "    return val_loss * (1 + alpha) - alpha * train_loss, {\n",
    "        \"val_loss\": val_loss, \"train_loss\": train_loss, \"pred_time\": pred_time\n",
    "    }\n",
    "    # two elements are returned:\n",
    "    # the first element is the metric to minimize as a float number,\n",
    "    # the second element is a dictionary of the metrics to log"
   ]
  },
  {
   "cell_type": "markdown",
   "metadata": {},
   "source": [
    "We can then pass this custom metric function to automl's `fit` method."
   ]
  },
  {
   "cell_type": "code",
   "execution_count": 50,
   "metadata": {},
   "outputs": [
    {
     "name": "stderr",
     "output_type": "stream",
     "text": [
      "[flaml.automl: 08-19 14:19:37] {2447} INFO - task = classification\n",
      "[flaml.automl: 08-19 14:19:37] {2449} INFO - Data split method: stratified\n",
      "[flaml.automl: 08-19 14:19:37] {2452} INFO - Evaluation method: holdout\n",
      "[flaml.automl: 08-19 14:19:37] {2571} INFO - Minimizing error metric: customized metric\n",
      "[flaml.automl: 08-19 14:19:37] {2711} INFO - List of ML learners in AutoML Run: ['lgbm', 'rf', 'catboost', 'xgboost', 'extra_tree', 'xgb_limitdepth', 'lrl1']\n",
      "[flaml.automl: 08-19 14:19:37] {3013} INFO - iteration 0, current learner lgbm\n",
      "[flaml.automl: 08-19 14:19:37] {3146} INFO - Estimated sufficient time budget=24224s. Estimated necessary time budget=595s.\n",
      "[flaml.automl: 08-19 14:19:37] {3193} INFO -  at 0.8s,\testimator lgbm's best error=0.6647,\tbest estimator lgbm's best error=0.6647\n",
      "[flaml.automl: 08-19 14:19:37] {3013} INFO - iteration 1, current learner lgbm\n",
      "[flaml.automl: 08-19 14:19:37] {3193} INFO -  at 0.8s,\testimator lgbm's best error=0.6647,\tbest estimator lgbm's best error=0.6647\n",
      "[flaml.automl: 08-19 14:19:37] {3013} INFO - iteration 2, current learner lgbm\n",
      "[flaml.automl: 08-19 14:19:37] {3193} INFO -  at 0.9s,\testimator lgbm's best error=0.6491,\tbest estimator lgbm's best error=0.6491\n",
      "[flaml.automl: 08-19 14:19:37] {3013} INFO - iteration 3, current learner xgboost\n",
      "[flaml.automl: 08-19 14:19:37] {3193} INFO -  at 1.0s,\testimator xgboost's best error=0.6680,\tbest estimator lgbm's best error=0.6491\n",
      "[flaml.automl: 08-19 14:19:37] {3013} INFO - iteration 4, current learner lgbm\n",
      "[flaml.automl: 08-19 14:19:37] {3193} INFO -  at 1.1s,\testimator lgbm's best error=0.6408,\tbest estimator lgbm's best error=0.6408\n",
      "[flaml.automl: 08-19 14:19:37] {3013} INFO - iteration 5, current learner lgbm\n",
      "[flaml.automl: 08-19 14:19:37] {3193} INFO -  at 1.2s,\testimator lgbm's best error=0.6408,\tbest estimator lgbm's best error=0.6408\n",
      "[flaml.automl: 08-19 14:19:37] {3013} INFO - iteration 6, current learner lgbm\n",
      "[flaml.automl: 08-19 14:19:38] {3193} INFO -  at 1.3s,\testimator lgbm's best error=0.6408,\tbest estimator lgbm's best error=0.6408\n",
      "[flaml.automl: 08-19 14:19:38] {3013} INFO - iteration 7, current learner lgbm\n",
      "[flaml.automl: 08-19 14:19:38] {3193} INFO -  at 1.4s,\testimator lgbm's best error=0.6400,\tbest estimator lgbm's best error=0.6400\n",
      "[flaml.automl: 08-19 14:19:38] {3013} INFO - iteration 8, current learner lgbm\n",
      "[flaml.automl: 08-19 14:19:38] {3193} INFO -  at 1.5s,\testimator lgbm's best error=0.6400,\tbest estimator lgbm's best error=0.6400\n",
      "[flaml.automl: 08-19 14:19:38] {3013} INFO - iteration 9, current learner xgboost\n",
      "[flaml.automl: 08-19 14:19:38] {3193} INFO -  at 1.6s,\testimator xgboost's best error=0.6680,\tbest estimator lgbm's best error=0.6400\n",
      "[flaml.automl: 08-19 14:19:38] {3013} INFO - iteration 10, current learner xgboost\n",
      "[flaml.automl: 08-19 14:19:38] {3193} INFO -  at 1.7s,\testimator xgboost's best error=0.6512,\tbest estimator lgbm's best error=0.6400\n",
      "[flaml.automl: 08-19 14:19:38] {3013} INFO - iteration 11, current learner extra_tree\n",
      "[flaml.automl: 08-19 14:19:38] {3193} INFO -  at 1.8s,\testimator extra_tree's best error=0.6770,\tbest estimator lgbm's best error=0.6400\n",
      "[flaml.automl: 08-19 14:19:38] {3013} INFO - iteration 12, current learner extra_tree\n",
      "[flaml.automl: 08-19 14:19:38] {3193} INFO -  at 1.8s,\testimator extra_tree's best error=0.6619,\tbest estimator lgbm's best error=0.6400\n",
      "[flaml.automl: 08-19 14:19:38] {3013} INFO - iteration 13, current learner rf\n",
      "[flaml.automl: 08-19 14:19:38] {3193} INFO -  at 1.9s,\testimator rf's best error=0.6582,\tbest estimator lgbm's best error=0.6400\n",
      "[flaml.automl: 08-19 14:19:38] {3013} INFO - iteration 14, current learner rf\n",
      "[flaml.automl: 08-19 14:19:38] {3193} INFO -  at 2.1s,\testimator rf's best error=0.6474,\tbest estimator lgbm's best error=0.6400\n",
      "[flaml.automl: 08-19 14:19:38] {3013} INFO - iteration 15, current learner xgboost\n",
      "[flaml.automl: 08-19 14:19:38] {3193} INFO -  at 2.2s,\testimator xgboost's best error=0.6445,\tbest estimator lgbm's best error=0.6400\n",
      "[flaml.automl: 08-19 14:19:39] {3013} INFO - iteration 16, current learner rf\n",
      "[flaml.automl: 08-19 14:19:39] {3193} INFO -  at 2.3s,\testimator rf's best error=0.6474,\tbest estimator lgbm's best error=0.6400\n",
      "[flaml.automl: 08-19 14:19:39] {3013} INFO - iteration 17, current learner extra_tree\n",
      "[flaml.automl: 08-19 14:19:39] {3193} INFO -  at 2.4s,\testimator extra_tree's best error=0.6619,\tbest estimator lgbm's best error=0.6400\n",
      "[flaml.automl: 08-19 14:19:39] {3013} INFO - iteration 18, current learner lgbm\n",
      "[flaml.automl: 08-19 14:19:39] {3193} INFO -  at 2.6s,\testimator lgbm's best error=0.6400,\tbest estimator lgbm's best error=0.6400\n",
      "[flaml.automl: 08-19 14:19:39] {3013} INFO - iteration 19, current learner xgboost\n",
      "[flaml.automl: 08-19 14:19:39] {3193} INFO -  at 2.7s,\testimator xgboost's best error=0.6445,\tbest estimator lgbm's best error=0.6400\n",
      "[flaml.automl: 08-19 14:19:39] {3013} INFO - iteration 20, current learner rf\n",
      "[flaml.automl: 08-19 14:19:39] {3193} INFO -  at 2.8s,\testimator rf's best error=0.6474,\tbest estimator lgbm's best error=0.6400\n",
      "[flaml.automl: 08-19 14:19:39] {3013} INFO - iteration 21, current learner xgboost\n",
      "[flaml.automl: 08-19 14:19:39] {3193} INFO -  at 2.9s,\testimator xgboost's best error=0.6440,\tbest estimator lgbm's best error=0.6400\n",
      "[flaml.automl: 08-19 14:19:39] {3013} INFO - iteration 22, current learner lgbm\n",
      "[flaml.automl: 08-19 14:19:39] {3193} INFO -  at 3.0s,\testimator lgbm's best error=0.6400,\tbest estimator lgbm's best error=0.6400\n",
      "[flaml.automl: 08-19 14:19:39] {3013} INFO - iteration 23, current learner lgbm\n",
      "[flaml.automl: 08-19 14:19:39] {3193} INFO -  at 3.2s,\testimator lgbm's best error=0.6400,\tbest estimator lgbm's best error=0.6400\n",
      "[flaml.automl: 08-19 14:19:39] {3013} INFO - iteration 24, current learner extra_tree\n",
      "[flaml.automl: 08-19 14:19:40] {3193} INFO -  at 3.3s,\testimator extra_tree's best error=0.6619,\tbest estimator lgbm's best error=0.6400\n",
      "[flaml.automl: 08-19 14:19:40] {3013} INFO - iteration 25, current learner extra_tree\n",
      "[flaml.automl: 08-19 14:19:40] {3193} INFO -  at 3.4s,\testimator extra_tree's best error=0.6593,\tbest estimator lgbm's best error=0.6400\n",
      "[flaml.automl: 08-19 14:19:40] {3013} INFO - iteration 26, current learner lgbm\n",
      "[flaml.automl: 08-19 14:19:40] {3193} INFO -  at 3.5s,\testimator lgbm's best error=0.6335,\tbest estimator lgbm's best error=0.6335\n",
      "[flaml.automl: 08-19 14:19:40] {3013} INFO - iteration 27, current learner rf\n",
      "[flaml.automl: 08-19 14:19:40] {3193} INFO -  at 3.6s,\testimator rf's best error=0.6474,\tbest estimator lgbm's best error=0.6335\n",
      "[flaml.automl: 08-19 14:19:40] {3013} INFO - iteration 28, current learner rf\n",
      "[flaml.automl: 08-19 14:19:40] {3193} INFO -  at 3.8s,\testimator rf's best error=0.6474,\tbest estimator lgbm's best error=0.6335\n",
      "[flaml.automl: 08-19 14:19:40] {3013} INFO - iteration 29, current learner xgboost\n",
      "[flaml.automl: 08-19 14:19:40] {3193} INFO -  at 3.9s,\testimator xgboost's best error=0.6440,\tbest estimator lgbm's best error=0.6335\n",
      "[flaml.automl: 08-19 14:19:40] {3013} INFO - iteration 30, current learner lgbm\n",
      "[flaml.automl: 08-19 14:19:40] {3193} INFO -  at 4.2s,\testimator lgbm's best error=0.6335,\tbest estimator lgbm's best error=0.6335\n",
      "[flaml.automl: 08-19 14:19:40] {3013} INFO - iteration 31, current learner lgbm\n",
      "[flaml.automl: 08-19 14:19:41] {3193} INFO -  at 4.3s,\testimator lgbm's best error=0.6335,\tbest estimator lgbm's best error=0.6335\n",
      "[flaml.automl: 08-19 14:19:41] {3013} INFO - iteration 32, current learner lgbm\n",
      "[flaml.automl: 08-19 14:19:41] {3193} INFO -  at 4.5s,\testimator lgbm's best error=0.6335,\tbest estimator lgbm's best error=0.6335\n",
      "[flaml.automl: 08-19 14:19:41] {3013} INFO - iteration 33, current learner rf\n",
      "[flaml.automl: 08-19 14:19:41] {3193} INFO -  at 4.6s,\testimator rf's best error=0.6474,\tbest estimator lgbm's best error=0.6335\n",
      "[flaml.automl: 08-19 14:19:41] {3013} INFO - iteration 34, current learner lgbm\n",
      "[flaml.automl: 08-19 14:19:41] {3193} INFO -  at 4.8s,\testimator lgbm's best error=0.6335,\tbest estimator lgbm's best error=0.6335\n",
      "[flaml.automl: 08-19 14:19:41] {3013} INFO - iteration 35, current learner lgbm\n",
      "[flaml.automl: 08-19 14:19:42] {3193} INFO -  at 5.7s,\testimator lgbm's best error=0.6328,\tbest estimator lgbm's best error=0.6328\n",
      "[flaml.automl: 08-19 14:19:42] {3013} INFO - iteration 36, current learner catboost\n",
      "[flaml.automl: 08-19 14:19:42] {3193} INFO -  at 5.8s,\testimator catboost's best error=0.6828,\tbest estimator lgbm's best error=0.6328\n",
      "[flaml.automl: 08-19 14:19:42] {3013} INFO - iteration 37, current learner catboost\n",
      "[flaml.automl: 08-19 14:19:42] {3193} INFO -  at 5.9s,\testimator catboost's best error=0.6828,\tbest estimator lgbm's best error=0.6328\n",
      "[flaml.automl: 08-19 14:19:42] {3013} INFO - iteration 38, current learner catboost\n",
      "[flaml.automl: 08-19 14:19:42] {3193} INFO -  at 6.0s,\testimator catboost's best error=0.6738,\tbest estimator lgbm's best error=0.6328\n",
      "[flaml.automl: 08-19 14:19:42] {3013} INFO - iteration 39, current learner catboost\n",
      "[flaml.automl: 08-19 14:19:42] {3193} INFO -  at 6.2s,\testimator catboost's best error=0.6738,\tbest estimator lgbm's best error=0.6328\n",
      "[flaml.automl: 08-19 14:19:42] {3013} INFO - iteration 40, current learner lgbm\n",
      "[flaml.automl: 08-19 14:19:44] {3193} INFO -  at 7.3s,\testimator lgbm's best error=0.6241,\tbest estimator lgbm's best error=0.6241\n",
      "[flaml.automl: 08-19 14:19:44] {3013} INFO - iteration 41, current learner rf\n",
      "[flaml.automl: 08-19 14:19:44] {3193} INFO -  at 7.5s,\testimator rf's best error=0.6459,\tbest estimator lgbm's best error=0.6241\n",
      "[flaml.automl: 08-19 14:19:44] {3013} INFO - iteration 42, current learner catboost\n",
      "[flaml.automl: 08-19 14:19:44] {3193} INFO -  at 7.6s,\testimator catboost's best error=0.6738,\tbest estimator lgbm's best error=0.6241\n",
      "[flaml.automl: 08-19 14:19:44] {3013} INFO - iteration 43, current learner lgbm\n",
      "[flaml.automl: 08-19 14:19:45] {3193} INFO -  at 8.6s,\testimator lgbm's best error=0.6241,\tbest estimator lgbm's best error=0.6241\n",
      "[flaml.automl: 08-19 14:19:45] {3013} INFO - iteration 44, current learner catboost\n",
      "[flaml.automl: 08-19 14:19:45] {3193} INFO -  at 8.7s,\testimator catboost's best error=0.6727,\tbest estimator lgbm's best error=0.6241\n",
      "[flaml.automl: 08-19 14:19:45] {3013} INFO - iteration 45, current learner extra_tree\n",
      "[flaml.automl: 08-19 14:19:45] {3193} INFO -  at 8.8s,\testimator extra_tree's best error=0.6593,\tbest estimator lgbm's best error=0.6241\n",
      "[flaml.automl: 08-19 14:19:45] {3013} INFO - iteration 46, current learner lgbm\n",
      "[flaml.automl: 08-19 14:19:46] {3193} INFO -  at 9.8s,\testimator lgbm's best error=0.6220,\tbest estimator lgbm's best error=0.6220\n",
      "[flaml.automl: 08-19 14:19:46] {3013} INFO - iteration 47, current learner xgb_limitdepth\n",
      "[flaml.automl: 08-19 14:19:46] {3193} INFO -  at 9.8s,\testimator xgb_limitdepth's best error=0.6682,\tbest estimator lgbm's best error=0.6220\n",
      "[flaml.automl: 08-19 14:19:46] {3013} INFO - iteration 48, current learner xgb_limitdepth\n",
      "[flaml.automl: 08-19 14:19:46] {3193} INFO -  at 9.9s,\testimator xgb_limitdepth's best error=0.6682,\tbest estimator lgbm's best error=0.6220\n",
      "[flaml.automl: 08-19 14:19:46] {3013} INFO - iteration 49, current learner xgb_limitdepth\n",
      "[flaml.automl: 08-19 14:19:46] {3193} INFO -  at 10.0s,\testimator xgb_limitdepth's best error=0.6542,\tbest estimator lgbm's best error=0.6220\n",
      "[flaml.automl: 08-19 14:19:46] {3013} INFO - iteration 50, current learner lrl1\n",
      "/home/ec2-user/miniconda3/envs/myflaml/lib/python3.8/site-packages/sklearn/linear_model/_sag.py:328: ConvergenceWarning: The max_iter was reached which means the coef_ did not converge\n",
      "  warnings.warn(\"The max_iter was reached which means \"\n",
      "[flaml.automl: 08-19 14:19:47] {3193} INFO -  at 10.3s,\testimator lrl1's best error=0.6817,\tbest estimator lgbm's best error=0.6220\n",
      "[flaml.automl: 08-19 14:19:47] {3457} INFO - retrain lgbm for 0.8s\n",
      "[flaml.automl: 08-19 14:19:47] {3464} INFO - retrained model: LGBMClassifier(learning_rate=0.8795579359736123, max_bin=1023,\n",
      "               min_child_samples=10, n_estimators=5, num_leaves=67,\n",
      "               reg_alpha=0.0020664375232232334, reg_lambda=11.42182869316027,\n",
      "               verbose=-1)\n",
      "[flaml.automl: 08-19 14:19:47] {2742} INFO - fit succeeded\n",
      "[flaml.automl: 08-19 14:19:47] {2743} INFO - Time taken to find the best model: 9.775469541549683\n",
      "[flaml.automl: 08-19 14:19:47] {2754} WARNING - Time taken to find the best model is 98% of the provided time budget and not all estimators' hyperparameter search converged. Consider increasing the time budget.\n"
     ]
    }
   ],
   "source": [
    "automl = AutoML()\n",
    "settings = {\n",
    "    \"time_budget\": 10,  # total running time in seconds\n",
    "    \"metric\": custom_metric,  # pass the custom metric funtion here\n",
    "    \"task\": 'classification',  # task type\n",
    "    \"log_file_name\": 'airlines_experiment_custom_metric.log',  # flaml log file\n",
    "}\n",
    "\n",
    "automl.fit(X_train=X_train, y_train=y_train, **settings)"
   ]
  },
  {
   "cell_type": "markdown",
   "metadata": {},
   "source": [
    "## 6. Constraints\n",
    "\n",
    "There are several types of constraints you can impose.\n",
    "\n",
    "(1) Constraints on the AutoML process via `time_budget` and/or `max_iter`.\n",
    "\n",
    "(2) Constraints on the constructor arguments of the estimators.\n",
    "Some constraints on the estimator can be implemented via the custom learner. The following example adds a monotonicity constraint to XGBoost. This approach can be used to set any constraint that is an argument in the underlying estimator's constructor."
   ]
  },
  {
   "cell_type": "code",
   "execution_count": 51,
   "metadata": {},
   "outputs": [
    {
     "name": "stderr",
     "output_type": "stream",
     "text": [
      "[flaml.automl: 08-19 14:19:48] {2447} INFO - task = classification\n",
      "[flaml.automl: 08-19 14:19:48] {2449} INFO - Data split method: stratified\n",
      "[flaml.automl: 08-19 14:19:48] {2452} INFO - Evaluation method: holdout\n",
      "[flaml.automl: 08-19 14:19:48] {2571} INFO - Minimizing error metric: 1-roc_auc\n",
      "[flaml.automl: 08-19 14:19:48] {2711} INFO - List of ML learners in AutoML Run: ['monoton_xgb']\n",
      "[flaml.automl: 08-19 14:19:48] {3013} INFO - iteration 0, current learner monoton_xgb\n",
      "[flaml.automl: 08-19 14:19:48] {3146} INFO - Estimated sufficient time budget=27941s. Estimated necessary time budget=28s.\n",
      "[flaml.automl: 08-19 14:19:48] {3193} INFO -  at 0.7s,\testimator monoton_xgb's best error=0.3586,\tbest estimator monoton_xgb's best error=0.3586\n",
      "[flaml.automl: 08-19 14:19:48] {3013} INFO - iteration 1, current learner monoton_xgb\n",
      "[flaml.automl: 08-19 14:19:48] {3193} INFO -  at 0.8s,\testimator monoton_xgb's best error=0.3521,\tbest estimator monoton_xgb's best error=0.3521\n",
      "[flaml.automl: 08-19 14:19:48] {3013} INFO - iteration 2, current learner monoton_xgb\n",
      "[flaml.automl: 08-19 14:19:48] {3193} INFO -  at 0.9s,\testimator monoton_xgb's best error=0.3521,\tbest estimator monoton_xgb's best error=0.3521\n",
      "[flaml.automl: 08-19 14:19:48] {3013} INFO - iteration 3, current learner monoton_xgb\n",
      "[flaml.automl: 08-19 14:19:49] {3193} INFO -  at 1.1s,\testimator monoton_xgb's best error=0.3493,\tbest estimator monoton_xgb's best error=0.3493\n",
      "[flaml.automl: 08-19 14:19:49] {3013} INFO - iteration 4, current learner monoton_xgb\n",
      "[flaml.automl: 08-19 14:19:49] {3193} INFO -  at 1.2s,\testimator monoton_xgb's best error=0.3442,\tbest estimator monoton_xgb's best error=0.3442\n",
      "[flaml.automl: 08-19 14:19:49] {3013} INFO - iteration 5, current learner monoton_xgb\n",
      "[flaml.automl: 08-19 14:19:49] {3193} INFO -  at 1.3s,\testimator monoton_xgb's best error=0.3442,\tbest estimator monoton_xgb's best error=0.3442\n",
      "[flaml.automl: 08-19 14:19:49] {3013} INFO - iteration 6, current learner monoton_xgb\n",
      "[flaml.automl: 08-19 14:19:49] {3193} INFO -  at 1.4s,\testimator monoton_xgb's best error=0.3408,\tbest estimator monoton_xgb's best error=0.3408\n",
      "[flaml.automl: 08-19 14:19:49] {3013} INFO - iteration 7, current learner monoton_xgb\n",
      "[flaml.automl: 08-19 14:19:49] {3193} INFO -  at 1.6s,\testimator monoton_xgb's best error=0.3347,\tbest estimator monoton_xgb's best error=0.3347\n",
      "[flaml.automl: 08-19 14:19:49] {3013} INFO - iteration 8, current learner monoton_xgb\n",
      "[flaml.automl: 08-19 14:19:49] {3193} INFO -  at 1.7s,\testimator monoton_xgb's best error=0.3347,\tbest estimator monoton_xgb's best error=0.3347\n",
      "[flaml.automl: 08-19 14:19:49] {3013} INFO - iteration 9, current learner monoton_xgb\n",
      "[flaml.automl: 08-19 14:19:49] {3193} INFO -  at 1.8s,\testimator monoton_xgb's best error=0.3347,\tbest estimator monoton_xgb's best error=0.3347\n",
      "[flaml.automl: 08-19 14:19:49] {3013} INFO - iteration 10, current learner monoton_xgb\n",
      "[flaml.automl: 08-19 14:19:50] {3193} INFO -  at 2.0s,\testimator monoton_xgb's best error=0.3347,\tbest estimator monoton_xgb's best error=0.3347\n",
      "[flaml.automl: 08-19 14:19:50] {3013} INFO - iteration 11, current learner monoton_xgb\n",
      "[flaml.automl: 08-19 14:19:50] {3193} INFO -  at 2.1s,\testimator monoton_xgb's best error=0.3347,\tbest estimator monoton_xgb's best error=0.3347\n",
      "[flaml.automl: 08-19 14:19:50] {3013} INFO - iteration 12, current learner monoton_xgb\n",
      "[flaml.automl: 08-19 14:19:50] {3193} INFO -  at 2.3s,\testimator monoton_xgb's best error=0.3347,\tbest estimator monoton_xgb's best error=0.3347\n",
      "[flaml.automl: 08-19 14:19:50] {3013} INFO - iteration 13, current learner monoton_xgb\n",
      "[flaml.automl: 08-19 14:19:50] {3193} INFO -  at 2.6s,\testimator monoton_xgb's best error=0.3314,\tbest estimator monoton_xgb's best error=0.3314\n",
      "[flaml.automl: 08-19 14:19:50] {3013} INFO - iteration 14, current learner monoton_xgb\n",
      "[flaml.automl: 08-19 14:19:51] {3193} INFO -  at 3.0s,\testimator monoton_xgb's best error=0.3299,\tbest estimator monoton_xgb's best error=0.3299\n",
      "[flaml.automl: 08-19 14:19:51] {3013} INFO - iteration 15, current learner monoton_xgb\n",
      "[flaml.automl: 08-19 14:19:51] {3193} INFO -  at 3.4s,\testimator monoton_xgb's best error=0.3299,\tbest estimator monoton_xgb's best error=0.3299\n",
      "[flaml.automl: 08-19 14:19:51] {3013} INFO - iteration 16, current learner monoton_xgb\n",
      "[flaml.automl: 08-19 14:19:51] {3193} INFO -  at 3.5s,\testimator monoton_xgb's best error=0.3299,\tbest estimator monoton_xgb's best error=0.3299\n",
      "[flaml.automl: 08-19 14:19:51] {3013} INFO - iteration 17, current learner monoton_xgb\n",
      "[flaml.automl: 08-19 14:19:52] {3193} INFO -  at 3.9s,\testimator monoton_xgb's best error=0.3252,\tbest estimator monoton_xgb's best error=0.3252\n",
      "[flaml.automl: 08-19 14:19:52] {3013} INFO - iteration 18, current learner monoton_xgb\n",
      "[flaml.automl: 08-19 14:19:52] {3193} INFO -  at 4.3s,\testimator monoton_xgb's best error=0.3252,\tbest estimator monoton_xgb's best error=0.3252\n",
      "[flaml.automl: 08-19 14:19:52] {3013} INFO - iteration 19, current learner monoton_xgb\n",
      "[flaml.automl: 08-19 14:19:52] {3193} INFO -  at 4.5s,\testimator monoton_xgb's best error=0.3252,\tbest estimator monoton_xgb's best error=0.3252\n",
      "[flaml.automl: 08-19 14:19:52] {3013} INFO - iteration 20, current learner monoton_xgb\n",
      "[flaml.automl: 08-19 14:19:52] {3193} INFO -  at 4.8s,\testimator monoton_xgb's best error=0.3252,\tbest estimator monoton_xgb's best error=0.3252\n",
      "[flaml.automl: 08-19 14:19:52] {3013} INFO - iteration 21, current learner monoton_xgb\n",
      "[flaml.automl: 08-19 14:19:53] {3193} INFO -  at 5.1s,\testimator monoton_xgb's best error=0.3252,\tbest estimator monoton_xgb's best error=0.3252\n",
      "[flaml.automl: 08-19 14:19:53] {3013} INFO - iteration 22, current learner monoton_xgb\n",
      "[flaml.automl: 08-19 14:19:53] {3193} INFO -  at 5.4s,\testimator monoton_xgb's best error=0.3252,\tbest estimator monoton_xgb's best error=0.3252\n",
      "[flaml.automl: 08-19 14:19:53] {3013} INFO - iteration 23, current learner monoton_xgb\n",
      "[flaml.automl: 08-19 14:19:53] {3193} INFO -  at 5.6s,\testimator monoton_xgb's best error=0.3252,\tbest estimator monoton_xgb's best error=0.3252\n",
      "[flaml.automl: 08-19 14:19:53] {3013} INFO - iteration 24, current learner monoton_xgb\n",
      "[flaml.automl: 08-19 14:19:57] {3193} INFO -  at 9.1s,\testimator monoton_xgb's best error=0.3138,\tbest estimator monoton_xgb's best error=0.3138\n",
      "[flaml.automl: 08-19 14:20:00] {3457} INFO - retrain monoton_xgb for 3.8s\n",
      "[flaml.automl: 08-19 14:20:00] {3464} INFO - retrained model: XGBClassifier(colsample_bylevel=0.8091595116713156,\n",
      "              colsample_bytree=0.8106495309144968, grow_policy='lossguide',\n",
      "              learning_rate=0.849899659322434, max_depth=0, max_leaves=23,\n",
      "              min_child_weight=2.9777470177748997,\n",
      "              monotone_constraints='(1, -1)', n_estimators=13, n_jobs=-1,\n",
      "              reg_alpha=0.008872926269443306, reg_lambda=3.109795217221906,\n",
      "              subsample=0.9900375639180253, tree_method='hist',\n",
      "              use_label_encoder=False, verbosity=0)\n",
      "[flaml.automl: 08-19 14:20:00] {2742} INFO - fit succeeded\n",
      "[flaml.automl: 08-19 14:20:00] {2743} INFO - Time taken to find the best model: 9.069811820983887\n",
      "[flaml.automl: 08-19 14:20:00] {2754} WARNING - Time taken to find the best model is 91% of the provided time budget and not all estimators' hyperparameter search converged. Consider increasing the time budget.\n"
     ]
    }
   ],
   "source": [
    "from flaml.model import XGBoostSklearnEstimator\n",
    "class MonotonicXGBoostEstimator(XGBoostSklearnEstimator):\n",
    "    @classmethod\n",
    "    def search_space(cls, data_size, task):\n",
    "        space = super().search_space(data_size)\n",
    "        space.update({\"monotone_constraints\": {\"domain\": \"(1, -1)\"}})\n",
    "        return space\n",
    "\n",
    "automl = AutoML()\n",
    "automl.add_learner(learner_name=\"monoton_xgb\", learner_class=MonotonicXGBoostEstimator)\n",
    "settings = {\n",
    "    \"time_budget\": 10,  # total running time in seconds\n",
    "    \"task\": 'classification',  # task type\n",
    "    \"estimator_list\": ['monoton_xgb']\n",
    "}\n",
    "automl.fit(X_train, y_train, **settings)"
   ]
  },
  {
   "cell_type": "markdown",
   "metadata": {},
   "source": [
    "(3) Constraints on the models tried in AutoML.\n",
    "Users can set constraints such as the maximal number of models to try, limit on training time and prediction time per model.\n",
    "* `train_time_limit`: training time in seconds.\n",
    "* `pred_time_limit`: prediction time per instance in seconds.\n",
    "\n",
    "(4) Constraints on the metrics of the ML model tried in AutoML."
   ]
  },
  {
   "cell_type": "code",
   "execution_count": 52,
   "metadata": {},
   "outputs": [
    {
     "name": "stderr",
     "output_type": "stream",
     "text": [
      "[flaml.automl: 08-19 14:20:01] {2447} INFO - task = classification\n",
      "[flaml.automl: 08-19 14:20:01] {2449} INFO - Data split method: stratified\n",
      "[flaml.automl: 08-19 14:20:01] {2452} INFO - Evaluation method: holdout\n",
      "[flaml.automl: 08-19 14:20:01] {2571} INFO - Minimizing error metric: customized metric\n",
      "[flaml.automl: 08-19 14:20:01] {2711} INFO - List of ML learners in AutoML Run: ['lgbm', 'rf', 'catboost', 'xgboost', 'extra_tree', 'xgb_limitdepth', 'lrl1']\n",
      "[flaml.automl: 08-19 14:20:01] {3013} INFO - iteration 0, current learner lgbm\n",
      "[flaml.automl: 08-19 14:20:01] {3146} INFO - Estimated sufficient time budget=23750s. Estimated necessary time budget=583s.\n",
      "[flaml.automl: 08-19 14:20:01] {3193} INFO -  at 0.7s,\testimator lgbm's best error=0.6647,\tbest estimator lgbm's best error=0.6647\n",
      "[flaml.automl: 08-19 14:20:01] {3013} INFO - iteration 1, current learner lgbm\n",
      "[flaml.automl: 08-19 14:20:01] {3193} INFO -  at 0.8s,\testimator lgbm's best error=0.6647,\tbest estimator lgbm's best error=0.6647\n",
      "[flaml.automl: 08-19 14:20:01] {3013} INFO - iteration 2, current learner lgbm\n",
      "[flaml.automl: 08-19 14:20:01] {3193} INFO -  at 0.9s,\testimator lgbm's best error=0.6647,\tbest estimator lgbm's best error=0.6647\n",
      "[flaml.automl: 08-19 14:20:01] {3013} INFO - iteration 3, current learner xgboost\n",
      "[flaml.automl: 08-19 14:20:02] {3193} INFO -  at 1.0s,\testimator xgboost's best error=0.6680,\tbest estimator lgbm's best error=0.6647\n",
      "[flaml.automl: 08-19 14:20:02] {3013} INFO - iteration 4, current learner lgbm\n",
      "[flaml.automl: 08-19 14:20:02] {3193} INFO -  at 1.1s,\testimator lgbm's best error=0.6647,\tbest estimator lgbm's best error=0.6647\n",
      "[flaml.automl: 08-19 14:20:02] {3013} INFO - iteration 5, current learner xgboost\n",
      "[flaml.automl: 08-19 14:20:02] {3193} INFO -  at 1.2s,\testimator xgboost's best error=0.6680,\tbest estimator lgbm's best error=0.6647\n",
      "[flaml.automl: 08-19 14:20:02] {3013} INFO - iteration 6, current learner lgbm\n",
      "[flaml.automl: 08-19 14:20:02] {3193} INFO -  at 1.3s,\testimator lgbm's best error=0.6647,\tbest estimator lgbm's best error=0.6647\n",
      "[flaml.automl: 08-19 14:20:02] {3013} INFO - iteration 7, current learner lgbm\n",
      "[flaml.automl: 08-19 14:20:02] {3193} INFO -  at 1.4s,\testimator lgbm's best error=0.6647,\tbest estimator lgbm's best error=0.6647\n",
      "[flaml.automl: 08-19 14:20:02] {3013} INFO - iteration 8, current learner lgbm\n",
      "[flaml.automl: 08-19 14:20:02] {3193} INFO -  at 1.4s,\testimator lgbm's best error=0.6393,\tbest estimator lgbm's best error=0.6393\n",
      "[flaml.automl: 08-19 14:20:02] {3013} INFO - iteration 9, current learner xgboost\n",
      "[flaml.automl: 08-19 14:20:02] {3193} INFO -  at 1.6s,\testimator xgboost's best error=0.6653,\tbest estimator lgbm's best error=0.6393\n",
      "[flaml.automl: 08-19 14:20:02] {3013} INFO - iteration 10, current learner extra_tree\n",
      "[flaml.automl: 08-19 14:20:02] {3193} INFO -  at 1.7s,\testimator extra_tree's best error=0.6763,\tbest estimator lgbm's best error=0.6393\n",
      "[flaml.automl: 08-19 14:20:02] {3013} INFO - iteration 11, current learner extra_tree\n",
      "[flaml.automl: 08-19 14:20:02] {3193} INFO -  at 1.8s,\testimator extra_tree's best error=0.6637,\tbest estimator lgbm's best error=0.6393\n",
      "[flaml.automl: 08-19 14:20:02] {3013} INFO - iteration 12, current learner rf\n",
      "[flaml.automl: 08-19 14:20:02] {3193} INFO -  at 1.9s,\testimator rf's best error=0.6612,\tbest estimator lgbm's best error=0.6393\n",
      "[flaml.automl: 08-19 14:20:02] {3013} INFO - iteration 13, current learner rf\n",
      "[flaml.automl: 08-19 14:20:03] {3193} INFO -  at 2.0s,\testimator rf's best error=0.6482,\tbest estimator lgbm's best error=0.6393\n",
      "[flaml.automl: 08-19 14:20:03] {3013} INFO - iteration 14, current learner rf\n",
      "[flaml.automl: 08-19 14:20:03] {3193} INFO -  at 2.1s,\testimator rf's best error=0.6482,\tbest estimator lgbm's best error=0.6393\n",
      "[flaml.automl: 08-19 14:20:03] {3013} INFO - iteration 15, current learner rf\n",
      "[flaml.automl: 08-19 14:20:03] {3193} INFO -  at 2.3s,\testimator rf's best error=0.6482,\tbest estimator lgbm's best error=0.6393\n",
      "[flaml.automl: 08-19 14:20:03] {3013} INFO - iteration 16, current learner lgbm\n",
      "[flaml.automl: 08-19 14:20:03] {3193} INFO -  at 2.3s,\testimator lgbm's best error=0.6393,\tbest estimator lgbm's best error=0.6393\n",
      "[flaml.automl: 08-19 14:20:03] {3013} INFO - iteration 17, current learner extra_tree\n",
      "[flaml.automl: 08-19 14:20:03] {3193} INFO -  at 2.4s,\testimator extra_tree's best error=0.6637,\tbest estimator lgbm's best error=0.6393\n",
      "[flaml.automl: 08-19 14:20:03] {3013} INFO - iteration 18, current learner lgbm\n",
      "[flaml.automl: 08-19 14:20:03] {3193} INFO -  at 2.5s,\testimator lgbm's best error=0.6393,\tbest estimator lgbm's best error=0.6393\n",
      "[flaml.automl: 08-19 14:20:03] {3013} INFO - iteration 19, current learner rf\n",
      "[flaml.automl: 08-19 14:20:03] {3193} INFO -  at 2.6s,\testimator rf's best error=0.6482,\tbest estimator lgbm's best error=0.6393\n",
      "[flaml.automl: 08-19 14:20:03] {3013} INFO - iteration 20, current learner lgbm\n",
      "[flaml.automl: 08-19 14:20:03] {3193} INFO -  at 2.7s,\testimator lgbm's best error=0.6393,\tbest estimator lgbm's best error=0.6393\n",
      "[flaml.automl: 08-19 14:20:03] {3013} INFO - iteration 21, current learner rf\n",
      "[flaml.automl: 08-19 14:20:03] {3193} INFO -  at 2.8s,\testimator rf's best error=0.6482,\tbest estimator lgbm's best error=0.6393\n",
      "[flaml.automl: 08-19 14:20:03] {3013} INFO - iteration 22, current learner lgbm\n",
      "[flaml.automl: 08-19 14:20:03] {3193} INFO -  at 2.9s,\testimator lgbm's best error=0.6393,\tbest estimator lgbm's best error=0.6393\n",
      "[flaml.automl: 08-19 14:20:04] {3013} INFO - iteration 23, current learner lgbm\n",
      "[flaml.automl: 08-19 14:20:04] {3193} INFO -  at 3.0s,\testimator lgbm's best error=0.6393,\tbest estimator lgbm's best error=0.6393\n",
      "[flaml.automl: 08-19 14:20:04] {3013} INFO - iteration 24, current learner extra_tree\n",
      "[flaml.automl: 08-19 14:20:04] {3193} INFO -  at 3.1s,\testimator extra_tree's best error=0.6637,\tbest estimator lgbm's best error=0.6393\n",
      "[flaml.automl: 08-19 14:20:04] {3013} INFO - iteration 25, current learner extra_tree\n",
      "[flaml.automl: 08-19 14:20:04] {3193} INFO -  at 3.2s,\testimator extra_tree's best error=0.6637,\tbest estimator lgbm's best error=0.6393\n",
      "[flaml.automl: 08-19 14:20:04] {3013} INFO - iteration 26, current learner lgbm\n",
      "[flaml.automl: 08-19 14:20:04] {3193} INFO -  at 3.3s,\testimator lgbm's best error=0.6393,\tbest estimator lgbm's best error=0.6393\n",
      "[flaml.automl: 08-19 14:20:04] {3013} INFO - iteration 27, current learner rf\n",
      "[flaml.automl: 08-19 14:20:04] {3193} INFO -  at 3.4s,\testimator rf's best error=0.6438,\tbest estimator lgbm's best error=0.6393\n",
      "[flaml.automl: 08-19 14:20:04] {3013} INFO - iteration 28, current learner extra_tree\n",
      "[flaml.automl: 08-19 14:20:04] {3193} INFO -  at 3.5s,\testimator extra_tree's best error=0.6637,\tbest estimator lgbm's best error=0.6393\n",
      "[flaml.automl: 08-19 14:20:04] {3013} INFO - iteration 29, current learner extra_tree\n",
      "[flaml.automl: 08-19 14:20:04] {3193} INFO -  at 3.6s,\testimator extra_tree's best error=0.6587,\tbest estimator lgbm's best error=0.6393\n",
      "[flaml.automl: 08-19 14:20:04] {3013} INFO - iteration 30, current learner lgbm\n",
      "[flaml.automl: 08-19 14:20:04] {3193} INFO -  at 3.8s,\testimator lgbm's best error=0.6393,\tbest estimator lgbm's best error=0.6393\n",
      "[flaml.automl: 08-19 14:20:04] {3013} INFO - iteration 31, current learner lgbm\n",
      "[flaml.automl: 08-19 14:20:04] {3193} INFO -  at 3.8s,\testimator lgbm's best error=0.6393,\tbest estimator lgbm's best error=0.6393\n",
      "[flaml.automl: 08-19 14:20:04] {3013} INFO - iteration 32, current learner lgbm\n",
      "[flaml.automl: 08-19 14:20:04] {3193} INFO -  at 3.9s,\testimator lgbm's best error=0.6393,\tbest estimator lgbm's best error=0.6393\n",
      "[flaml.automl: 08-19 14:20:04] {3013} INFO - iteration 33, current learner rf\n",
      "[flaml.automl: 08-19 14:20:05] {3193} INFO -  at 4.0s,\testimator rf's best error=0.6438,\tbest estimator lgbm's best error=0.6393\n",
      "[flaml.automl: 08-19 14:20:05] {3013} INFO - iteration 34, current learner lgbm\n",
      "[flaml.automl: 08-19 14:20:05] {3193} INFO -  at 4.1s,\testimator lgbm's best error=0.6393,\tbest estimator lgbm's best error=0.6393\n",
      "[flaml.automl: 08-19 14:20:05] {3013} INFO - iteration 35, current learner lgbm\n",
      "[flaml.automl: 08-19 14:20:05] {3193} INFO -  at 4.2s,\testimator lgbm's best error=0.6393,\tbest estimator lgbm's best error=0.6393\n",
      "[flaml.automl: 08-19 14:20:05] {3013} INFO - iteration 36, current learner extra_tree\n",
      "[flaml.automl: 08-19 14:20:05] {3193} INFO -  at 4.3s,\testimator extra_tree's best error=0.6587,\tbest estimator lgbm's best error=0.6393\n",
      "[flaml.automl: 08-19 14:20:05] {3013} INFO - iteration 37, current learner lgbm\n",
      "[flaml.automl: 08-19 14:20:05] {3193} INFO -  at 4.4s,\testimator lgbm's best error=0.6393,\tbest estimator lgbm's best error=0.6393\n",
      "[flaml.automl: 08-19 14:20:05] {3013} INFO - iteration 38, current learner lgbm\n",
      "[flaml.automl: 08-19 14:20:05] {3193} INFO -  at 4.5s,\testimator lgbm's best error=0.6393,\tbest estimator lgbm's best error=0.6393\n",
      "[flaml.automl: 08-19 14:20:05] {3013} INFO - iteration 39, current learner lgbm\n",
      "[flaml.automl: 08-19 14:20:05] {3193} INFO -  at 4.6s,\testimator lgbm's best error=0.6393,\tbest estimator lgbm's best error=0.6393\n",
      "[flaml.automl: 08-19 14:20:05] {3013} INFO - iteration 40, current learner lgbm\n",
      "[flaml.automl: 08-19 14:20:05] {3193} INFO -  at 4.6s,\testimator lgbm's best error=0.6393,\tbest estimator lgbm's best error=0.6393\n",
      "[flaml.automl: 08-19 14:20:05] {3013} INFO - iteration 41, current learner rf\n",
      "[flaml.automl: 08-19 14:20:05] {3193} INFO -  at 4.7s,\testimator rf's best error=0.6438,\tbest estimator lgbm's best error=0.6393\n",
      "[flaml.automl: 08-19 14:20:05] {3013} INFO - iteration 42, current learner lgbm\n",
      "[flaml.automl: 08-19 14:20:05] {3193} INFO -  at 4.8s,\testimator lgbm's best error=0.6393,\tbest estimator lgbm's best error=0.6393\n",
      "[flaml.automl: 08-19 14:20:05] {3013} INFO - iteration 43, current learner rf\n",
      "[flaml.automl: 08-19 14:20:05] {3193} INFO -  at 4.9s,\testimator rf's best error=0.6438,\tbest estimator lgbm's best error=0.6393\n",
      "[flaml.automl: 08-19 14:20:05] {3013} INFO - iteration 44, current learner extra_tree\n",
      "[flaml.automl: 08-19 14:20:06] {3193} INFO -  at 5.1s,\testimator extra_tree's best error=0.6587,\tbest estimator lgbm's best error=0.6393\n",
      "[flaml.automl: 08-19 14:20:06] {3013} INFO - iteration 45, current learner lgbm\n",
      "[flaml.automl: 08-19 14:20:06] {3193} INFO -  at 5.2s,\testimator lgbm's best error=0.6393,\tbest estimator lgbm's best error=0.6393\n",
      "[flaml.automl: 08-19 14:20:06] {3013} INFO - iteration 46, current learner lgbm\n",
      "[flaml.automl: 08-19 14:20:06] {3193} INFO -  at 5.3s,\testimator lgbm's best error=0.6393,\tbest estimator lgbm's best error=0.6393\n",
      "[flaml.automl: 08-19 14:20:06] {3013} INFO - iteration 47, current learner rf\n",
      "[flaml.automl: 08-19 14:20:06] {3193} INFO -  at 5.4s,\testimator rf's best error=0.6424,\tbest estimator lgbm's best error=0.6393\n",
      "[flaml.automl: 08-19 14:20:06] {3013} INFO - iteration 48, current learner lgbm\n",
      "[flaml.automl: 08-19 14:20:06] {3193} INFO -  at 5.5s,\testimator lgbm's best error=0.6393,\tbest estimator lgbm's best error=0.6393\n",
      "[flaml.automl: 08-19 14:20:06] {3013} INFO - iteration 49, current learner lgbm\n",
      "[flaml.automl: 08-19 14:20:06] {3193} INFO -  at 5.6s,\testimator lgbm's best error=0.6393,\tbest estimator lgbm's best error=0.6393\n",
      "[flaml.automl: 08-19 14:20:06] {3013} INFO - iteration 50, current learner xgboost\n",
      "[flaml.automl: 08-19 14:20:06] {3193} INFO -  at 5.7s,\testimator xgboost's best error=0.6653,\tbest estimator lgbm's best error=0.6393\n",
      "[flaml.automl: 08-19 14:20:06] {3013} INFO - iteration 51, current learner lgbm\n",
      "[flaml.automl: 08-19 14:20:06] {3193} INFO -  at 5.7s,\testimator lgbm's best error=0.6393,\tbest estimator lgbm's best error=0.6393\n",
      "[flaml.automl: 08-19 14:20:06] {3013} INFO - iteration 52, current learner lgbm\n",
      "[flaml.automl: 08-19 14:20:06] {3193} INFO -  at 5.8s,\testimator lgbm's best error=0.6393,\tbest estimator lgbm's best error=0.6393\n",
      "[flaml.automl: 08-19 14:20:06] {3013} INFO - iteration 53, current learner lgbm\n",
      "[flaml.automl: 08-19 14:20:06] {3193} INFO -  at 5.9s,\testimator lgbm's best error=0.6393,\tbest estimator lgbm's best error=0.6393\n",
      "[flaml.automl: 08-19 14:20:06] {3013} INFO - iteration 54, current learner lgbm\n",
      "[flaml.automl: 08-19 14:20:07] {3193} INFO -  at 6.0s,\testimator lgbm's best error=0.6393,\tbest estimator lgbm's best error=0.6393\n",
      "[flaml.automl: 08-19 14:20:07] {3013} INFO - iteration 55, current learner lgbm\n",
      "[flaml.automl: 08-19 14:20:07] {3193} INFO -  at 6.1s,\testimator lgbm's best error=0.6393,\tbest estimator lgbm's best error=0.6393\n",
      "[flaml.automl: 08-19 14:20:07] {3013} INFO - iteration 56, current learner lgbm\n",
      "[flaml.automl: 08-19 14:20:07] {3193} INFO -  at 6.2s,\testimator lgbm's best error=0.6393,\tbest estimator lgbm's best error=0.6393\n",
      "[flaml.automl: 08-19 14:20:07] {3013} INFO - iteration 57, current learner lgbm\n",
      "[flaml.automl: 08-19 14:20:07] {3193} INFO -  at 6.2s,\testimator lgbm's best error=0.6393,\tbest estimator lgbm's best error=0.6393\n",
      "[flaml.automl: 08-19 14:20:07] {3013} INFO - iteration 58, current learner lgbm\n",
      "[flaml.automl: 08-19 14:20:07] {3193} INFO -  at 6.3s,\testimator lgbm's best error=0.6393,\tbest estimator lgbm's best error=0.6393\n",
      "[flaml.automl: 08-19 14:20:07] {3013} INFO - iteration 59, current learner lgbm\n",
      "[flaml.automl: 08-19 14:20:07] {3193} INFO -  at 6.4s,\testimator lgbm's best error=0.6393,\tbest estimator lgbm's best error=0.6393\n",
      "[flaml.automl: 08-19 14:20:07] {3013} INFO - iteration 60, current learner lgbm\n",
      "[flaml.automl: 08-19 14:20:07] {3193} INFO -  at 6.4s,\testimator lgbm's best error=0.6393,\tbest estimator lgbm's best error=0.6393\n",
      "[flaml.automl: 08-19 14:20:07] {3013} INFO - iteration 61, current learner lgbm\n",
      "[flaml.automl: 08-19 14:20:07] {3193} INFO -  at 6.5s,\testimator lgbm's best error=0.6393,\tbest estimator lgbm's best error=0.6393\n",
      "[flaml.automl: 08-19 14:20:07] {3013} INFO - iteration 62, current learner lgbm\n",
      "[flaml.automl: 08-19 14:20:07] {3193} INFO -  at 6.6s,\testimator lgbm's best error=0.6393,\tbest estimator lgbm's best error=0.6393\n",
      "[flaml.automl: 08-19 14:20:07] {3013} INFO - iteration 63, current learner lgbm\n",
      "[flaml.automl: 08-19 14:20:07] {3193} INFO -  at 6.7s,\testimator lgbm's best error=0.6393,\tbest estimator lgbm's best error=0.6393\n",
      "[flaml.automl: 08-19 14:20:07] {3013} INFO - iteration 64, current learner lgbm\n",
      "[flaml.automl: 08-19 14:20:07] {3193} INFO -  at 6.8s,\testimator lgbm's best error=0.6393,\tbest estimator lgbm's best error=0.6393\n",
      "[flaml.automl: 08-19 14:20:07] {3013} INFO - iteration 65, current learner lgbm\n",
      "[flaml.automl: 08-19 14:20:07] {3193} INFO -  at 6.9s,\testimator lgbm's best error=0.6393,\tbest estimator lgbm's best error=0.6393\n",
      "[flaml.automl: 08-19 14:20:07] {3013} INFO - iteration 66, current learner lgbm\n",
      "[flaml.automl: 08-19 14:20:08] {3193} INFO -  at 6.9s,\testimator lgbm's best error=0.6393,\tbest estimator lgbm's best error=0.6393\n",
      "[flaml.automl: 08-19 14:20:08] {3013} INFO - iteration 67, current learner lgbm\n",
      "[flaml.automl: 08-19 14:20:08] {3193} INFO -  at 7.0s,\testimator lgbm's best error=0.6393,\tbest estimator lgbm's best error=0.6393\n",
      "[flaml.automl: 08-19 14:20:08] {3013} INFO - iteration 68, current learner lgbm\n",
      "[flaml.automl: 08-19 14:20:08] {3193} INFO -  at 7.1s,\testimator lgbm's best error=0.6393,\tbest estimator lgbm's best error=0.6393\n",
      "[flaml.automl: 08-19 14:20:08] {3013} INFO - iteration 69, current learner lgbm\n",
      "[flaml.automl: 08-19 14:20:08] {3193} INFO -  at 7.1s,\testimator lgbm's best error=0.6393,\tbest estimator lgbm's best error=0.6393\n",
      "[flaml.automl: 08-19 14:20:08] {3013} INFO - iteration 70, current learner lgbm\n",
      "[flaml.automl: 08-19 14:20:08] {3193} INFO -  at 7.2s,\testimator lgbm's best error=0.6393,\tbest estimator lgbm's best error=0.6393\n",
      "[flaml.automl: 08-19 14:20:08] {3013} INFO - iteration 71, current learner lgbm\n",
      "[flaml.automl: 08-19 14:20:08] {3193} INFO -  at 7.3s,\testimator lgbm's best error=0.6393,\tbest estimator lgbm's best error=0.6393\n",
      "[flaml.automl: 08-19 14:20:08] {3013} INFO - iteration 72, current learner xgboost\n",
      "[flaml.automl: 08-19 14:20:08] {3193} INFO -  at 7.4s,\testimator xgboost's best error=0.6611,\tbest estimator lgbm's best error=0.6393\n",
      "[flaml.automl: 08-19 14:20:08] {3013} INFO - iteration 73, current learner lgbm\n",
      "[flaml.automl: 08-19 14:20:08] {3193} INFO -  at 7.5s,\testimator lgbm's best error=0.6393,\tbest estimator lgbm's best error=0.6393\n",
      "[flaml.automl: 08-19 14:20:08] {3013} INFO - iteration 74, current learner xgboost\n",
      "[flaml.automl: 08-19 14:20:08] {3193} INFO -  at 7.6s,\testimator xgboost's best error=0.6611,\tbest estimator lgbm's best error=0.6393\n",
      "[flaml.automl: 08-19 14:20:08] {3013} INFO - iteration 75, current learner lgbm\n",
      "[flaml.automl: 08-19 14:20:08] {3193} INFO -  at 7.7s,\testimator lgbm's best error=0.6393,\tbest estimator lgbm's best error=0.6393\n",
      "[flaml.automl: 08-19 14:20:08] {3013} INFO - iteration 76, current learner lgbm\n",
      "[flaml.automl: 08-19 14:20:08] {3193} INFO -  at 7.8s,\testimator lgbm's best error=0.6393,\tbest estimator lgbm's best error=0.6393\n",
      "[flaml.automl: 08-19 14:20:08] {3013} INFO - iteration 77, current learner rf\n",
      "[flaml.automl: 08-19 14:20:08] {3193} INFO -  at 7.9s,\testimator rf's best error=0.6424,\tbest estimator lgbm's best error=0.6393\n",
      "[flaml.automl: 08-19 14:20:08] {3013} INFO - iteration 78, current learner lgbm\n",
      "[flaml.automl: 08-19 14:20:08] {3193} INFO -  at 7.9s,\testimator lgbm's best error=0.6393,\tbest estimator lgbm's best error=0.6393\n",
      "[flaml.automl: 08-19 14:20:08] {3013} INFO - iteration 79, current learner lgbm\n",
      "[flaml.automl: 08-19 14:20:09] {3193} INFO -  at 8.0s,\testimator lgbm's best error=0.6393,\tbest estimator lgbm's best error=0.6393\n",
      "[flaml.automl: 08-19 14:20:09] {3013} INFO - iteration 80, current learner xgboost\n",
      "[flaml.automl: 08-19 14:20:09] {3193} INFO -  at 8.1s,\testimator xgboost's best error=0.6611,\tbest estimator lgbm's best error=0.6393\n",
      "[flaml.automl: 08-19 14:20:09] {3013} INFO - iteration 81, current learner lgbm\n",
      "[flaml.automl: 08-19 14:20:09] {3193} INFO -  at 8.2s,\testimator lgbm's best error=0.6393,\tbest estimator lgbm's best error=0.6393\n",
      "[flaml.automl: 08-19 14:20:09] {3013} INFO - iteration 82, current learner lgbm\n",
      "[flaml.automl: 08-19 14:20:09] {3193} INFO -  at 8.2s,\testimator lgbm's best error=0.6393,\tbest estimator lgbm's best error=0.6393\n",
      "[flaml.automl: 08-19 14:20:09] {3013} INFO - iteration 83, current learner lgbm\n",
      "[flaml.automl: 08-19 14:20:09] {3193} INFO -  at 8.3s,\testimator lgbm's best error=0.6393,\tbest estimator lgbm's best error=0.6393\n",
      "[flaml.automl: 08-19 14:20:09] {3013} INFO - iteration 84, current learner rf\n",
      "[flaml.automl: 08-19 14:20:09] {3193} INFO -  at 8.4s,\testimator rf's best error=0.6424,\tbest estimator lgbm's best error=0.6393\n",
      "[flaml.automl: 08-19 14:20:09] {3013} INFO - iteration 85, current learner lgbm\n",
      "[flaml.automl: 08-19 14:20:09] {3193} INFO -  at 8.5s,\testimator lgbm's best error=0.6393,\tbest estimator lgbm's best error=0.6393\n",
      "[flaml.automl: 08-19 14:20:09] {3013} INFO - iteration 86, current learner lgbm\n",
      "[flaml.automl: 08-19 14:20:09] {3193} INFO -  at 8.6s,\testimator lgbm's best error=0.6393,\tbest estimator lgbm's best error=0.6393\n",
      "[flaml.automl: 08-19 14:20:09] {3013} INFO - iteration 87, current learner lgbm\n",
      "[flaml.automl: 08-19 14:20:09] {3193} INFO -  at 8.7s,\testimator lgbm's best error=0.6393,\tbest estimator lgbm's best error=0.6393\n",
      "[flaml.automl: 08-19 14:20:09] {3013} INFO - iteration 88, current learner lgbm\n",
      "[flaml.automl: 08-19 14:20:09] {3193} INFO -  at 8.7s,\testimator lgbm's best error=0.6393,\tbest estimator lgbm's best error=0.6393\n",
      "[flaml.automl: 08-19 14:20:09] {3013} INFO - iteration 89, current learner xgboost\n",
      "[flaml.automl: 08-19 14:20:09] {3193} INFO -  at 8.8s,\testimator xgboost's best error=0.6611,\tbest estimator lgbm's best error=0.6393\n",
      "[flaml.automl: 08-19 14:20:09] {3013} INFO - iteration 90, current learner lgbm\n",
      "[flaml.automl: 08-19 14:20:09] {3193} INFO -  at 8.9s,\testimator lgbm's best error=0.6393,\tbest estimator lgbm's best error=0.6393\n",
      "[flaml.automl: 08-19 14:20:09] {3013} INFO - iteration 91, current learner extra_tree\n",
      "[flaml.automl: 08-19 14:20:10] {3193} INFO -  at 9.0s,\testimator extra_tree's best error=0.6587,\tbest estimator lgbm's best error=0.6393\n",
      "[flaml.automl: 08-19 14:20:10] {3013} INFO - iteration 92, current learner lgbm\n",
      "[flaml.automl: 08-19 14:20:10] {3193} INFO -  at 9.0s,\testimator lgbm's best error=0.6393,\tbest estimator lgbm's best error=0.6393\n",
      "[flaml.automl: 08-19 14:20:10] {3013} INFO - iteration 93, current learner lgbm\n",
      "[flaml.automl: 08-19 14:20:10] {3193} INFO -  at 9.1s,\testimator lgbm's best error=0.6393,\tbest estimator lgbm's best error=0.6393\n",
      "[flaml.automl: 08-19 14:20:10] {3013} INFO - iteration 94, current learner lgbm\n",
      "[flaml.automl: 08-19 14:20:10] {3193} INFO -  at 9.2s,\testimator lgbm's best error=0.6393,\tbest estimator lgbm's best error=0.6393\n",
      "[flaml.automl: 08-19 14:20:10] {3013} INFO - iteration 95, current learner xgboost\n",
      "[flaml.automl: 08-19 14:20:10] {3193} INFO -  at 9.3s,\testimator xgboost's best error=0.6611,\tbest estimator lgbm's best error=0.6393\n",
      "[flaml.automl: 08-19 14:20:10] {3013} INFO - iteration 96, current learner lgbm\n",
      "[flaml.automl: 08-19 14:20:10] {3193} INFO -  at 9.4s,\testimator lgbm's best error=0.6393,\tbest estimator lgbm's best error=0.6393\n",
      "[flaml.automl: 08-19 14:20:10] {3013} INFO - iteration 97, current learner lgbm\n",
      "[flaml.automl: 08-19 14:20:10] {3193} INFO -  at 9.4s,\testimator lgbm's best error=0.6393,\tbest estimator lgbm's best error=0.6393\n",
      "[flaml.automl: 08-19 14:20:10] {3013} INFO - iteration 98, current learner lgbm\n",
      "[flaml.automl: 08-19 14:20:10] {3193} INFO -  at 9.5s,\testimator lgbm's best error=0.6393,\tbest estimator lgbm's best error=0.6393\n",
      "[flaml.automl: 08-19 14:20:10] {3013} INFO - iteration 99, current learner lgbm\n",
      "[flaml.automl: 08-19 14:20:10] {3193} INFO -  at 9.6s,\testimator lgbm's best error=0.6393,\tbest estimator lgbm's best error=0.6393\n",
      "[flaml.automl: 08-19 14:20:10] {3013} INFO - iteration 100, current learner rf\n",
      "[flaml.automl: 08-19 14:20:10] {3193} INFO -  at 9.6s,\testimator rf's best error=0.6424,\tbest estimator lgbm's best error=0.6393\n",
      "[flaml.automl: 08-19 14:20:10] {3013} INFO - iteration 101, current learner lgbm\n",
      "[flaml.automl: 08-19 14:20:10] {3193} INFO -  at 9.7s,\testimator lgbm's best error=0.6393,\tbest estimator lgbm's best error=0.6393\n",
      "[flaml.automl: 08-19 14:20:10] {3013} INFO - iteration 102, current learner lgbm\n",
      "[flaml.automl: 08-19 14:20:10] {3193} INFO -  at 9.8s,\testimator lgbm's best error=0.6393,\tbest estimator lgbm's best error=0.6393\n",
      "[flaml.automl: 08-19 14:20:10] {3013} INFO - iteration 103, current learner lgbm\n",
      "[flaml.automl: 08-19 14:20:10] {3193} INFO -  at 9.9s,\testimator lgbm's best error=0.6393,\tbest estimator lgbm's best error=0.6393\n",
      "[flaml.automl: 08-19 14:20:10] {3013} INFO - iteration 104, current learner lgbm\n",
      "[flaml.automl: 08-19 14:20:10] {3193} INFO -  at 9.9s,\testimator lgbm's best error=0.6393,\tbest estimator lgbm's best error=0.6393\n",
      "[flaml.automl: 08-19 14:20:10] {3013} INFO - iteration 105, current learner catboost\n",
      "[flaml.automl: 08-19 14:20:11] {3193} INFO -  at 10.1s,\testimator catboost's best error=0.6828,\tbest estimator lgbm's best error=0.6393\n",
      "[flaml.automl: 08-19 14:20:11] {3457} INFO - retrain lgbm for 0.6s\n",
      "[flaml.automl: 08-19 14:20:11] {3464} INFO - retrained model: LGBMClassifier(colsample_bytree=0.9296806900350443,\n",
      "               learning_rate=0.681085689470444, max_bin=7, min_child_samples=54,\n",
      "               n_estimators=6, num_leaves=6, reg_alpha=0.003095681942146277,\n",
      "               reg_lambda=125.28594199895093, verbose=-1)\n",
      "[flaml.automl: 08-19 14:20:11] {2742} INFO - fit succeeded\n",
      "[flaml.automl: 08-19 14:20:11] {2743} INFO - Time taken to find the best model: 1.4419968128204346\n"
     ]
    }
   ],
   "source": [
    "automl = AutoML()\n",
    "metric_constraints = [(\"train_loss\", \"<=\", 0.1), (\"val_loss\", \"<=\", 0.1)]\n",
    "settings = {\n",
    "    \"time_budget\": 10,  # total running time in seconds\n",
    "    \"metric\": custom_metric,  # pass the custom metric funtion here\n",
    "    \"task\": 'classification',  # task type\n",
    "    \"train_time_limit\": 1,\n",
    "    \"pred_time_limit\": 0.1,\n",
    "    \"metric_constraints\": metric_constraints,\n",
    "}\n",
    "automl.fit(X_train, y_train, **settings)"
   ]
  },
  {
   "cell_type": "markdown",
   "metadata": {},
   "source": [
    "## 7. Warmstart\n",
    "We can warm start the AutoML by providing starting points of hyperparameter configurstions for each estimator. For example, if you have run AutoML for one hour, after checking the results, you would like to run it for another two hours, then you can use the best configurations found for each estimator as the starting points for the new run."
   ]
  },
  {
   "cell_type": "code",
   "execution_count": 53,
   "metadata": {},
   "outputs": [
    {
     "name": "stderr",
     "output_type": "stream",
     "text": [
      "[flaml.automl: 08-19 14:20:12] {2447} INFO - task = classification\n",
      "[flaml.automl: 08-19 14:20:12] {2449} INFO - Data split method: stratified\n",
      "[flaml.automl: 08-19 14:20:12] {2452} INFO - Evaluation method: holdout\n",
      "[flaml.automl: 08-19 14:20:12] {2571} INFO - Minimizing error metric: 1-roc_auc\n",
      "[flaml.automl: 08-19 14:20:12] {2711} INFO - List of ML learners in AutoML Run: ['lgbm', 'rf', 'catboost', 'xgboost', 'extra_tree', 'xgb_limitdepth', 'lrl1']\n",
      "[flaml.automl: 08-19 14:20:12] {3013} INFO - iteration 0, current learner lgbm\n",
      "[flaml.automl: 08-19 14:20:12] {3146} INFO - Estimated sufficient time budget=20617s. Estimated necessary time budget=506s.\n",
      "[flaml.automl: 08-19 14:20:12] {3193} INFO -  at 0.8s,\testimator lgbm's best error=0.3580,\tbest estimator lgbm's best error=0.3580\n",
      "[flaml.automl: 08-19 14:20:12] {3013} INFO - iteration 1, current learner lgbm\n",
      "[flaml.automl: 08-19 14:20:12] {3193} INFO -  at 0.8s,\testimator lgbm's best error=0.3580,\tbest estimator lgbm's best error=0.3580\n",
      "[flaml.automl: 08-19 14:20:12] {3013} INFO - iteration 2, current learner lgbm\n",
      "[flaml.automl: 08-19 14:20:12] {3193} INFO -  at 0.9s,\testimator lgbm's best error=0.3370,\tbest estimator lgbm's best error=0.3370\n",
      "[flaml.automl: 08-19 14:20:12] {3013} INFO - iteration 3, current learner xgboost\n",
      "[flaml.automl: 08-19 14:20:12] {3193} INFO -  at 1.0s,\testimator xgboost's best error=0.3587,\tbest estimator lgbm's best error=0.3370\n",
      "[flaml.automl: 08-19 14:20:12] {3013} INFO - iteration 4, current learner lgbm\n",
      "[flaml.automl: 08-19 14:20:13] {3193} INFO -  at 1.1s,\testimator lgbm's best error=0.3235,\tbest estimator lgbm's best error=0.3235\n",
      "[flaml.automl: 08-19 14:20:13] {3013} INFO - iteration 5, current learner lgbm\n",
      "[flaml.automl: 08-19 14:20:13] {3193} INFO -  at 1.1s,\testimator lgbm's best error=0.3235,\tbest estimator lgbm's best error=0.3235\n",
      "[flaml.automl: 08-19 14:20:13] {3013} INFO - iteration 6, current learner lgbm\n",
      "[flaml.automl: 08-19 14:20:13] {3193} INFO -  at 1.2s,\testimator lgbm's best error=0.3235,\tbest estimator lgbm's best error=0.3235\n",
      "[flaml.automl: 08-19 14:20:13] {3013} INFO - iteration 7, current learner lgbm\n",
      "[flaml.automl: 08-19 14:20:13] {3193} INFO -  at 1.3s,\testimator lgbm's best error=0.3235,\tbest estimator lgbm's best error=0.3235\n",
      "[flaml.automl: 08-19 14:20:13] {3013} INFO - iteration 8, current learner lgbm\n",
      "[flaml.automl: 08-19 14:20:13] {3193} INFO -  at 1.3s,\testimator lgbm's best error=0.3235,\tbest estimator lgbm's best error=0.3235\n",
      "[flaml.automl: 08-19 14:20:13] {3013} INFO - iteration 9, current learner xgboost\n",
      "[flaml.automl: 08-19 14:20:13] {3193} INFO -  at 1.4s,\testimator xgboost's best error=0.3529,\tbest estimator lgbm's best error=0.3235\n",
      "[flaml.automl: 08-19 14:20:13] {3013} INFO - iteration 10, current learner extra_tree\n",
      "[flaml.automl: 08-19 14:20:13] {3193} INFO -  at 1.5s,\testimator extra_tree's best error=0.3962,\tbest estimator lgbm's best error=0.3235\n",
      "[flaml.automl: 08-19 14:20:13] {3013} INFO - iteration 11, current learner extra_tree\n",
      "[flaml.automl: 08-19 14:20:13] {3193} INFO -  at 1.6s,\testimator extra_tree's best error=0.3766,\tbest estimator lgbm's best error=0.3235\n",
      "[flaml.automl: 08-19 14:20:13] {3013} INFO - iteration 12, current learner rf\n",
      "[flaml.automl: 08-19 14:20:13] {3193} INFO -  at 1.6s,\testimator rf's best error=0.3720,\tbest estimator lgbm's best error=0.3235\n",
      "[flaml.automl: 08-19 14:20:13] {3013} INFO - iteration 13, current learner rf\n",
      "[flaml.automl: 08-19 14:20:13] {3193} INFO -  at 1.7s,\testimator rf's best error=0.3394,\tbest estimator lgbm's best error=0.3235\n",
      "[flaml.automl: 08-19 14:20:13] {3013} INFO - iteration 14, current learner rf\n",
      "[flaml.automl: 08-19 14:20:13] {3193} INFO -  at 1.8s,\testimator rf's best error=0.3394,\tbest estimator lgbm's best error=0.3235\n",
      "[flaml.automl: 08-19 14:20:13] {3013} INFO - iteration 15, current learner rf\n",
      "[flaml.automl: 08-19 14:20:13] {3193} INFO -  at 1.9s,\testimator rf's best error=0.3394,\tbest estimator lgbm's best error=0.3235\n",
      "[flaml.automl: 08-19 14:20:13] {3013} INFO - iteration 16, current learner lgbm\n",
      "[flaml.automl: 08-19 14:20:14] {3193} INFO -  at 2.1s,\testimator lgbm's best error=0.3197,\tbest estimator lgbm's best error=0.3197\n",
      "[flaml.automl: 08-19 14:20:14] {3013} INFO - iteration 17, current learner extra_tree\n",
      "[flaml.automl: 08-19 14:20:14] {3193} INFO -  at 2.1s,\testimator extra_tree's best error=0.3766,\tbest estimator lgbm's best error=0.3197\n",
      "[flaml.automl: 08-19 14:20:14] {3013} INFO - iteration 18, current learner lgbm\n",
      "[flaml.automl: 08-19 14:20:14] {3193} INFO -  at 2.2s,\testimator lgbm's best error=0.3197,\tbest estimator lgbm's best error=0.3197\n",
      "[flaml.automl: 08-19 14:20:14] {3013} INFO - iteration 19, current learner rf\n",
      "[flaml.automl: 08-19 14:20:14] {3193} INFO -  at 2.3s,\testimator rf's best error=0.3337,\tbest estimator lgbm's best error=0.3197\n",
      "[flaml.automl: 08-19 14:20:14] {3013} INFO - iteration 20, current learner lgbm\n",
      "[flaml.automl: 08-19 14:20:14] {3193} INFO -  at 2.9s,\testimator lgbm's best error=0.3197,\tbest estimator lgbm's best error=0.3197\n",
      "[flaml.automl: 08-19 14:20:14] {3013} INFO - iteration 21, current learner xgboost\n",
      "[flaml.automl: 08-19 14:20:14] {3193} INFO -  at 3.0s,\testimator xgboost's best error=0.3529,\tbest estimator lgbm's best error=0.3197\n",
      "[flaml.automl: 08-19 14:20:14] {3013} INFO - iteration 22, current learner lgbm\n",
      "[flaml.automl: 08-19 14:20:15] {3193} INFO -  at 3.3s,\testimator lgbm's best error=0.3103,\tbest estimator lgbm's best error=0.3103\n",
      "[flaml.automl: 08-19 14:20:15] {3013} INFO - iteration 23, current learner catboost\n",
      "[flaml.automl: 08-19 14:20:15] {3193} INFO -  at 3.7s,\testimator catboost's best error=0.3190,\tbest estimator lgbm's best error=0.3103\n",
      "[flaml.automl: 08-19 14:20:15] {3013} INFO - iteration 24, current learner rf\n",
      "[flaml.automl: 08-19 14:20:15] {3193} INFO -  at 3.9s,\testimator rf's best error=0.3313,\tbest estimator lgbm's best error=0.3103\n",
      "[flaml.automl: 08-19 14:20:15] {3013} INFO - iteration 25, current learner xgboost\n",
      "[flaml.automl: 08-19 14:20:15] {3193} INFO -  at 4.0s,\testimator xgboost's best error=0.3448,\tbest estimator lgbm's best error=0.3103\n",
      "[flaml.automl: 08-19 14:20:15] {3013} INFO - iteration 26, current learner extra_tree\n",
      "[flaml.automl: 08-19 14:20:16] {3193} INFO -  at 4.0s,\testimator extra_tree's best error=0.3766,\tbest estimator lgbm's best error=0.3103\n",
      "[flaml.automl: 08-19 14:20:16] {3013} INFO - iteration 27, current learner catboost\n",
      "[flaml.automl: 08-19 14:20:16] {3193} INFO -  at 4.4s,\testimator catboost's best error=0.3190,\tbest estimator lgbm's best error=0.3103\n",
      "[flaml.automl: 08-19 14:20:16] {3013} INFO - iteration 28, current learner catboost\n",
      "[flaml.automl: 08-19 14:20:16] {3193} INFO -  at 4.8s,\testimator catboost's best error=0.3182,\tbest estimator lgbm's best error=0.3103\n",
      "[flaml.automl: 08-19 14:20:16] {3013} INFO - iteration 29, current learner extra_tree\n",
      "[flaml.automl: 08-19 14:20:16] {3193} INFO -  at 4.9s,\testimator extra_tree's best error=0.3443,\tbest estimator lgbm's best error=0.3103\n",
      "[flaml.automl: 08-19 14:20:16] {3013} INFO - iteration 30, current learner extra_tree\n",
      "[flaml.automl: 08-19 14:20:16] {3193} INFO -  at 5.0s,\testimator extra_tree's best error=0.3443,\tbest estimator lgbm's best error=0.3103\n",
      "[flaml.automl: 08-19 14:20:16] {3013} INFO - iteration 31, current learner lgbm\n",
      "[flaml.automl: 08-19 14:20:17] {3193} INFO -  at 5.3s,\testimator lgbm's best error=0.3103,\tbest estimator lgbm's best error=0.3103\n",
      "[flaml.automl: 08-19 14:20:17] {3013} INFO - iteration 32, current learner lgbm\n",
      "[flaml.automl: 08-19 14:20:17] {3193} INFO -  at 5.5s,\testimator lgbm's best error=0.3103,\tbest estimator lgbm's best error=0.3103\n",
      "[flaml.automl: 08-19 14:20:17] {3013} INFO - iteration 33, current learner lgbm\n",
      "[flaml.automl: 08-19 14:20:17] {3193} INFO -  at 5.9s,\testimator lgbm's best error=0.3090,\tbest estimator lgbm's best error=0.3090\n",
      "[flaml.automl: 08-19 14:20:17] {3013} INFO - iteration 34, current learner extra_tree\n",
      "[flaml.automl: 08-19 14:20:17] {3193} INFO -  at 6.0s,\testimator extra_tree's best error=0.3432,\tbest estimator lgbm's best error=0.3090\n",
      "[flaml.automl: 08-19 14:20:17] {3013} INFO - iteration 35, current learner lgbm\n",
      "[flaml.automl: 08-19 14:20:18] {3193} INFO -  at 6.3s,\testimator lgbm's best error=0.3087,\tbest estimator lgbm's best error=0.3087\n",
      "[flaml.automl: 08-19 14:20:18] {3013} INFO - iteration 36, current learner lgbm\n",
      "[flaml.automl: 08-19 14:20:18] {3193} INFO -  at 6.8s,\testimator lgbm's best error=0.3087,\tbest estimator lgbm's best error=0.3087\n",
      "[flaml.automl: 08-19 14:20:18] {3013} INFO - iteration 37, current learner xgboost\n",
      "[flaml.automl: 08-19 14:20:18] {3193} INFO -  at 6.9s,\testimator xgboost's best error=0.3405,\tbest estimator lgbm's best error=0.3087\n",
      "[flaml.automl: 08-19 14:20:18] {3013} INFO - iteration 38, current learner lgbm\n",
      "[flaml.automl: 08-19 14:20:19] {3193} INFO -  at 7.3s,\testimator lgbm's best error=0.3087,\tbest estimator lgbm's best error=0.3087\n",
      "[flaml.automl: 08-19 14:20:19] {3013} INFO - iteration 39, current learner xgboost\n",
      "[flaml.automl: 08-19 14:20:19] {3193} INFO -  at 7.4s,\testimator xgboost's best error=0.3377,\tbest estimator lgbm's best error=0.3087\n",
      "[flaml.automl: 08-19 14:20:19] {3013} INFO - iteration 40, current learner lgbm\n",
      "[flaml.automl: 08-19 14:20:19] {3193} INFO -  at 7.8s,\testimator lgbm's best error=0.3087,\tbest estimator lgbm's best error=0.3087\n",
      "[flaml.automl: 08-19 14:20:19] {3013} INFO - iteration 41, current learner xgboost\n",
      "[flaml.automl: 08-19 14:20:19] {3193} INFO -  at 7.9s,\testimator xgboost's best error=0.3306,\tbest estimator lgbm's best error=0.3087\n",
      "[flaml.automl: 08-19 14:20:19] {3013} INFO - iteration 42, current learner xgboost\n",
      "[flaml.automl: 08-19 14:20:20] {3193} INFO -  at 8.1s,\testimator xgboost's best error=0.3295,\tbest estimator lgbm's best error=0.3087\n",
      "[flaml.automl: 08-19 14:20:20] {3013} INFO - iteration 43, current learner lgbm\n",
      "[flaml.automl: 08-19 14:20:20] {3193} INFO -  at 8.5s,\testimator lgbm's best error=0.3063,\tbest estimator lgbm's best error=0.3063\n",
      "[flaml.automl: 08-19 14:20:20] {3013} INFO - iteration 44, current learner rf\n",
      "[flaml.automl: 08-19 14:20:20] {3193} INFO -  at 8.6s,\testimator rf's best error=0.3313,\tbest estimator lgbm's best error=0.3063\n",
      "[flaml.automl: 08-19 14:20:20] {3013} INFO - iteration 45, current learner extra_tree\n",
      "[flaml.automl: 08-19 14:20:20] {3193} INFO -  at 8.7s,\testimator extra_tree's best error=0.3302,\tbest estimator lgbm's best error=0.3063\n",
      "[flaml.automl: 08-19 14:20:20] {3013} INFO - iteration 46, current learner extra_tree\n",
      "[flaml.automl: 08-19 14:20:20] {3193} INFO -  at 8.8s,\testimator extra_tree's best error=0.3302,\tbest estimator lgbm's best error=0.3063\n",
      "[flaml.automl: 08-19 14:20:20] {3013} INFO - iteration 47, current learner lgbm\n",
      "[flaml.automl: 08-19 14:20:21] {3193} INFO -  at 9.1s,\testimator lgbm's best error=0.3063,\tbest estimator lgbm's best error=0.3063\n",
      "[flaml.automl: 08-19 14:20:21] {3013} INFO - iteration 48, current learner extra_tree\n",
      "[flaml.automl: 08-19 14:20:21] {3193} INFO -  at 9.2s,\testimator extra_tree's best error=0.3302,\tbest estimator lgbm's best error=0.3063\n",
      "[flaml.automl: 08-19 14:20:21] {3013} INFO - iteration 49, current learner lgbm\n",
      "[flaml.automl: 08-19 14:20:21] {3193} INFO -  at 10.0s,\testimator lgbm's best error=0.3027,\tbest estimator lgbm's best error=0.3027\n",
      "[flaml.automl: 08-19 14:20:21] {3013} INFO - iteration 50, current learner lgbm\n",
      "[flaml.automl: 08-19 14:20:23] {3193} INFO -  at 11.2s,\testimator lgbm's best error=0.3027,\tbest estimator lgbm's best error=0.3027\n",
      "[flaml.automl: 08-19 14:20:23] {3013} INFO - iteration 51, current learner extra_tree\n",
      "[flaml.automl: 08-19 14:20:23] {3193} INFO -  at 11.4s,\testimator extra_tree's best error=0.3302,\tbest estimator lgbm's best error=0.3027\n",
      "[flaml.automl: 08-19 14:20:23] {3013} INFO - iteration 52, current learner lgbm\n",
      "[flaml.automl: 08-19 14:20:23] {3193} INFO -  at 12.0s,\testimator lgbm's best error=0.3027,\tbest estimator lgbm's best error=0.3027\n",
      "[flaml.automl: 08-19 14:20:23] {3013} INFO - iteration 53, current learner lgbm\n",
      "[flaml.automl: 08-19 14:20:24] {3193} INFO -  at 13.0s,\testimator lgbm's best error=0.3027,\tbest estimator lgbm's best error=0.3027\n",
      "[flaml.automl: 08-19 14:20:24] {3013} INFO - iteration 54, current learner lgbm\n",
      "[flaml.automl: 08-19 14:20:25] {3193} INFO -  at 13.6s,\testimator lgbm's best error=0.3027,\tbest estimator lgbm's best error=0.3027\n",
      "[flaml.automl: 08-19 14:20:25] {3013} INFO - iteration 55, current learner lgbm\n",
      "[flaml.automl: 08-19 14:20:30] {3193} INFO -  at 18.2s,\testimator lgbm's best error=0.2927,\tbest estimator lgbm's best error=0.2927\n",
      "[flaml.automl: 08-19 14:20:30] {3013} INFO - iteration 56, current learner extra_tree\n",
      "[flaml.automl: 08-19 14:20:30] {3193} INFO -  at 18.3s,\testimator extra_tree's best error=0.3302,\tbest estimator lgbm's best error=0.2927\n",
      "[flaml.automl: 08-19 14:20:30] {3013} INFO - iteration 57, current learner xgb_limitdepth\n",
      "[flaml.automl: 08-19 14:20:30] {3193} INFO -  at 18.5s,\testimator xgb_limitdepth's best error=0.3245,\tbest estimator lgbm's best error=0.2927\n",
      "[flaml.automl: 08-19 14:20:30] {3013} INFO - iteration 58, current learner xgb_limitdepth\n",
      "[flaml.automl: 08-19 14:20:30] {3193} INFO -  at 18.7s,\testimator xgb_limitdepth's best error=0.3237,\tbest estimator lgbm's best error=0.2927\n",
      "[flaml.automl: 08-19 14:20:30] {3013} INFO - iteration 59, current learner rf\n",
      "[flaml.automl: 08-19 14:20:30] {3193} INFO -  at 18.9s,\testimator rf's best error=0.3297,\tbest estimator lgbm's best error=0.2927\n",
      "[flaml.automl: 08-19 14:20:30] {3013} INFO - iteration 60, current learner extra_tree\n",
      "[flaml.automl: 08-19 14:20:31] {3193} INFO -  at 19.1s,\testimator extra_tree's best error=0.3237,\tbest estimator lgbm's best error=0.2927\n",
      "[flaml.automl: 08-19 14:20:31] {3013} INFO - iteration 61, current learner lgbm\n",
      "[flaml.automl: 08-19 14:20:35] {3193} INFO -  at 23.8s,\testimator lgbm's best error=0.2841,\tbest estimator lgbm's best error=0.2841\n",
      "[flaml.automl: 08-19 14:20:35] {3013} INFO - iteration 62, current learner xgboost\n",
      "[flaml.automl: 08-19 14:20:35] {3193} INFO -  at 23.9s,\testimator xgboost's best error=0.3295,\tbest estimator lgbm's best error=0.2841\n",
      "[flaml.automl: 08-19 14:20:35] {3013} INFO - iteration 63, current learner lgbm\n",
      "[flaml.automl: 08-19 14:20:40] {3193} INFO -  at 28.6s,\testimator lgbm's best error=0.2841,\tbest estimator lgbm's best error=0.2841\n",
      "[flaml.automl: 08-19 14:20:40] {3013} INFO - iteration 64, current learner extra_tree\n",
      "[flaml.automl: 08-19 14:20:40] {3193} INFO -  at 28.7s,\testimator extra_tree's best error=0.3237,\tbest estimator lgbm's best error=0.2841\n",
      "[flaml.automl: 08-19 14:20:40] {3013} INFO - iteration 65, current learner lrl1\n",
      "/home/ec2-user/miniconda3/envs/myflaml/lib/python3.8/site-packages/sklearn/linear_model/_sag.py:328: ConvergenceWarning: The max_iter was reached which means the coef_ did not converge\n",
      "  warnings.warn(\"The max_iter was reached which means \"\n",
      "[flaml.automl: 08-19 14:20:40] {3193} INFO -  at 28.9s,\testimator lrl1's best error=0.4372,\tbest estimator lgbm's best error=0.2841\n",
      "[flaml.automl: 08-19 14:20:40] {3013} INFO - iteration 66, current learner lrl1\n",
      "/home/ec2-user/miniconda3/envs/myflaml/lib/python3.8/site-packages/sklearn/linear_model/_sag.py:328: ConvergenceWarning: The max_iter was reached which means the coef_ did not converge\n",
      "  warnings.warn(\"The max_iter was reached which means \"\n",
      "[flaml.automl: 08-19 14:20:41] {3193} INFO -  at 29.2s,\testimator lrl1's best error=0.4372,\tbest estimator lgbm's best error=0.2841\n",
      "[flaml.automl: 08-19 14:20:41] {3013} INFO - iteration 67, current learner rf\n",
      "[flaml.automl: 08-19 14:20:41] {3193} INFO -  at 29.3s,\testimator rf's best error=0.3297,\tbest estimator lgbm's best error=0.2841\n",
      "[flaml.automl: 08-19 14:20:41] {3013} INFO - iteration 68, current learner extra_tree\n",
      "[flaml.automl: 08-19 14:20:41] {3193} INFO -  at 29.3s,\testimator extra_tree's best error=0.3237,\tbest estimator lgbm's best error=0.2841\n",
      "[flaml.automl: 08-19 14:20:41] {3013} INFO - iteration 69, current learner extra_tree\n",
      "[flaml.automl: 08-19 14:20:41] {3193} INFO -  at 29.4s,\testimator extra_tree's best error=0.3237,\tbest estimator lgbm's best error=0.2841\n",
      "[flaml.automl: 08-19 14:20:41] {3013} INFO - iteration 70, current learner xgboost\n",
      "[flaml.automl: 08-19 14:20:41] {3193} INFO -  at 29.5s,\testimator xgboost's best error=0.3295,\tbest estimator lgbm's best error=0.2841\n",
      "[flaml.automl: 08-19 14:20:41] {3013} INFO - iteration 71, current learner rf\n",
      "[flaml.automl: 08-19 14:20:41] {3193} INFO -  at 29.5s,\testimator rf's best error=0.3297,\tbest estimator lgbm's best error=0.2841\n",
      "[flaml.automl: 08-19 14:20:41] {3013} INFO - iteration 72, current learner extra_tree\n",
      "[flaml.automl: 08-19 14:20:41] {3193} INFO -  at 29.6s,\testimator extra_tree's best error=0.3237,\tbest estimator lgbm's best error=0.2841\n",
      "[flaml.automl: 08-19 14:20:41] {3013} INFO - iteration 73, current learner extra_tree\n",
      "[flaml.automl: 08-19 14:20:41] {3193} INFO -  at 29.6s,\testimator extra_tree's best error=0.3237,\tbest estimator lgbm's best error=0.2841\n",
      "[flaml.automl: 08-19 14:20:41] {3013} INFO - iteration 74, current learner extra_tree\n",
      "[flaml.automl: 08-19 14:20:41] {3193} INFO -  at 29.7s,\testimator extra_tree's best error=0.3237,\tbest estimator lgbm's best error=0.2841\n",
      "[flaml.automl: 08-19 14:20:41] {3013} INFO - iteration 75, current learner xgb_limitdepth\n",
      "[flaml.automl: 08-19 14:20:41] {3193} INFO -  at 29.8s,\testimator xgb_limitdepth's best error=0.3237,\tbest estimator lgbm's best error=0.2841\n",
      "[flaml.automl: 08-19 14:20:41] {3013} INFO - iteration 76, current learner extra_tree\n",
      "[flaml.automl: 08-19 14:20:41] {3193} INFO -  at 29.8s,\testimator extra_tree's best error=0.3237,\tbest estimator lgbm's best error=0.2841\n",
      "[flaml.automl: 08-19 14:20:41] {3013} INFO - iteration 77, current learner xgboost\n",
      "[flaml.automl: 08-19 14:20:41] {3193} INFO -  at 29.9s,\testimator xgboost's best error=0.3295,\tbest estimator lgbm's best error=0.2841\n",
      "[flaml.automl: 08-19 14:20:46] {3457} INFO - retrain lgbm for 4.7s\n",
      "[flaml.automl: 08-19 14:20:46] {3464} INFO - retrained model: LGBMClassifier(colsample_bytree=0.5752865091833037,\n",
      "               learning_rate=0.09164446270166252, max_bin=127,\n",
      "               min_child_samples=4, n_estimators=106, num_leaves=63,\n",
      "               reg_alpha=0.003398055316311564, reg_lambda=0.20195662171557208,\n",
      "               verbose=-1)\n",
      "[flaml.automl: 08-19 14:20:46] {2742} INFO - fit succeeded\n",
      "[flaml.automl: 08-19 14:20:46] {2743} INFO - Time taken to find the best model: 23.80899739265442\n",
      "[flaml.automl: 08-19 14:20:46] {2754} WARNING - Time taken to find the best model is 79% of the provided time budget and not all estimators' hyperparameter search converged. Consider increasing the time budget.\n",
      "[flaml.automl: 08-19 14:20:46] {2447} INFO - task = classification\n",
      "[flaml.automl: 08-19 14:20:46] {2449} INFO - Data split method: stratified\n",
      "[flaml.automl: 08-19 14:20:46] {2452} INFO - Evaluation method: holdout\n",
      "[flaml.automl: 08-19 14:20:47] {2571} INFO - Minimizing error metric: 1-roc_auc\n",
      "[flaml.automl: 08-19 14:20:47] {145} WARNING - Starting point {'early_stopping_rounds': 11, 'learning_rate': 0.2, 'n_estimators': 21, 'FLAML_sample_size': 10000} removed because it is outside of the search space\n",
      "[flaml.automl: 08-19 14:20:47] {2711} INFO - List of ML learners in AutoML Run: ['lgbm', 'rf', 'catboost', 'xgboost', 'extra_tree', 'xgb_limitdepth', 'lrl1']\n",
      "[flaml.automl: 08-19 14:20:47] {3013} INFO - iteration 0, current learner lgbm\n",
      "[flaml.automl: 08-19 14:20:51] {3146} INFO - Estimated sufficient time budget=44688s. Estimated necessary time budget=1097s.\n",
      "[flaml.automl: 08-19 14:20:51] {3193} INFO -  at 5.2s,\testimator lgbm's best error=0.2841,\tbest estimator lgbm's best error=0.2841\n",
      "[flaml.automl: 08-19 14:20:51] {3013} INFO - iteration 1, current learner lgbm\n",
      "[flaml.automl: 08-19 14:20:56] {3193} INFO -  at 9.7s,\testimator lgbm's best error=0.2841,\tbest estimator lgbm's best error=0.2841\n",
      "[flaml.automl: 08-19 14:20:56] {3013} INFO - iteration 2, current learner lgbm\n",
      "[flaml.automl: 08-19 14:21:00] {3193} INFO -  at 13.5s,\testimator lgbm's best error=0.2784,\tbest estimator lgbm's best error=0.2784\n",
      "[flaml.automl: 08-19 14:21:00] {3013} INFO - iteration 3, current learner xgboost\n",
      "[flaml.automl: 08-19 14:21:00] {3193} INFO -  at 13.7s,\testimator xgboost's best error=0.3295,\tbest estimator lgbm's best error=0.2784\n",
      "[flaml.automl: 08-19 14:21:00] {3013} INFO - iteration 4, current learner lgbm\n",
      "[flaml.automl: 08-19 14:21:08] {3193} INFO -  at 21.9s,\testimator lgbm's best error=0.2784,\tbest estimator lgbm's best error=0.2784\n",
      "[flaml.automl: 08-19 14:21:08] {3013} INFO - iteration 5, current learner xgboost\n",
      "[flaml.automl: 08-19 14:21:08] {3193} INFO -  at 22.0s,\testimator xgboost's best error=0.3295,\tbest estimator lgbm's best error=0.2784\n",
      "[flaml.automl: 08-19 14:21:08] {3013} INFO - iteration 6, current learner xgboost\n",
      "[flaml.automl: 08-19 14:21:08] {3193} INFO -  at 22.3s,\testimator xgboost's best error=0.3193,\tbest estimator lgbm's best error=0.2784\n",
      "[flaml.automl: 08-19 14:21:08] {3013} INFO - iteration 7, current learner lgbm\n",
      "[flaml.automl: 08-19 14:21:11] {3193} INFO -  at 24.7s,\testimator lgbm's best error=0.2784,\tbest estimator lgbm's best error=0.2784\n",
      "[flaml.automl: 08-19 14:21:11] {3013} INFO - iteration 8, current learner lgbm\n",
      "[flaml.automl: 08-19 14:21:15] {3193} INFO -  at 29.0s,\testimator lgbm's best error=0.2784,\tbest estimator lgbm's best error=0.2784\n",
      "[flaml.automl: 08-19 14:21:15] {3013} INFO - iteration 9, current learner xgboost\n",
      "[flaml.automl: 08-19 14:21:15] {3193} INFO -  at 29.2s,\testimator xgboost's best error=0.3193,\tbest estimator lgbm's best error=0.2784\n",
      "[flaml.automl: 08-19 14:21:15] {3013} INFO - iteration 10, current learner xgboost\n",
      "[flaml.automl: 08-19 14:21:15] {3193} INFO -  at 29.4s,\testimator xgboost's best error=0.3193,\tbest estimator lgbm's best error=0.2784\n",
      "[flaml.automl: 08-19 14:21:15] {3013} INFO - iteration 11, current learner xgboost\n",
      "[flaml.automl: 08-19 14:21:16] {3193} INFO -  at 29.6s,\testimator xgboost's best error=0.3193,\tbest estimator lgbm's best error=0.2784\n",
      "[flaml.automl: 08-19 14:21:16] {3013} INFO - iteration 12, current learner xgboost\n",
      "[flaml.automl: 08-19 14:21:16] {3193} INFO -  at 30.0s,\testimator xgboost's best error=0.3193,\tbest estimator lgbm's best error=0.2784\n",
      "[flaml.automl: 08-19 14:21:16] {3013} INFO - iteration 13, current learner extra_tree\n",
      "[flaml.automl: 08-19 14:21:16] {3193} INFO -  at 30.2s,\testimator extra_tree's best error=0.3232,\tbest estimator lgbm's best error=0.2784\n",
      "[flaml.automl: 08-19 14:21:16] {3013} INFO - iteration 14, current learner extra_tree\n",
      "[flaml.automl: 08-19 14:21:16] {3193} INFO -  at 30.4s,\testimator extra_tree's best error=0.3232,\tbest estimator lgbm's best error=0.2784\n",
      "[flaml.automl: 08-19 14:21:16] {3013} INFO - iteration 15, current learner extra_tree\n",
      "[flaml.automl: 08-19 14:21:17] {3193} INFO -  at 30.6s,\testimator extra_tree's best error=0.3232,\tbest estimator lgbm's best error=0.2784\n",
      "[flaml.automl: 08-19 14:21:17] {3013} INFO - iteration 16, current learner extra_tree\n",
      "[flaml.automl: 08-19 14:21:17] {3193} INFO -  at 30.9s,\testimator extra_tree's best error=0.3232,\tbest estimator lgbm's best error=0.2784\n",
      "[flaml.automl: 08-19 14:21:17] {3013} INFO - iteration 17, current learner lgbm\n",
      "[flaml.automl: 08-19 14:21:21] {3193} INFO -  at 34.5s,\testimator lgbm's best error=0.2784,\tbest estimator lgbm's best error=0.2784\n",
      "[flaml.automl: 08-19 14:21:21] {3013} INFO - iteration 18, current learner extra_tree\n",
      "[flaml.automl: 08-19 14:21:21] {3193} INFO -  at 34.7s,\testimator extra_tree's best error=0.3232,\tbest estimator lgbm's best error=0.2784\n",
      "[flaml.automl: 08-19 14:21:21] {3013} INFO - iteration 19, current learner extra_tree\n",
      "[flaml.automl: 08-19 14:21:21] {3193} INFO -  at 35.1s,\testimator extra_tree's best error=0.3205,\tbest estimator lgbm's best error=0.2784\n",
      "[flaml.automl: 08-19 14:21:21] {3013} INFO - iteration 20, current learner rf\n",
      "[flaml.automl: 08-19 14:21:21] {3193} INFO -  at 35.4s,\testimator rf's best error=0.3274,\tbest estimator lgbm's best error=0.2784\n",
      "[flaml.automl: 08-19 14:21:21] {3013} INFO - iteration 21, current learner rf\n",
      "[flaml.automl: 08-19 14:21:22] {3193} INFO -  at 35.6s,\testimator rf's best error=0.3250,\tbest estimator lgbm's best error=0.2784\n",
      "[flaml.automl: 08-19 14:21:22] {3013} INFO - iteration 22, current learner lgbm\n",
      "[flaml.automl: 08-19 14:21:23] {3193} INFO -  at 37.2s,\testimator lgbm's best error=0.2784,\tbest estimator lgbm's best error=0.2784\n",
      "[flaml.automl: 08-19 14:21:23] {3013} INFO - iteration 23, current learner rf\n",
      "[flaml.automl: 08-19 14:21:23] {3193} INFO -  at 37.4s,\testimator rf's best error=0.3250,\tbest estimator lgbm's best error=0.2784\n",
      "[flaml.automl: 08-19 14:21:23] {3013} INFO - iteration 24, current learner xgboost\n",
      "[flaml.automl: 08-19 14:21:24] {3193} INFO -  at 38.0s,\testimator xgboost's best error=0.3154,\tbest estimator lgbm's best error=0.2784\n",
      "[flaml.automl: 08-19 14:21:24] {3013} INFO - iteration 25, current learner extra_tree\n",
      "[flaml.automl: 08-19 14:21:25] {3193} INFO -  at 38.6s,\testimator extra_tree's best error=0.3205,\tbest estimator lgbm's best error=0.2784\n",
      "[flaml.automl: 08-19 14:21:25] {3013} INFO - iteration 26, current learner lgbm\n",
      "[flaml.automl: 08-19 14:21:36] {3193} INFO -  at 49.9s,\testimator lgbm's best error=0.2752,\tbest estimator lgbm's best error=0.2752\n",
      "[flaml.automl: 08-19 14:21:36] {3013} INFO - iteration 27, current learner xgboost\n",
      "[flaml.automl: 08-19 14:21:36] {3193} INFO -  at 50.4s,\testimator xgboost's best error=0.3083,\tbest estimator lgbm's best error=0.2752\n",
      "[flaml.automl: 08-19 14:21:36] {3013} INFO - iteration 28, current learner xgboost\n",
      "[flaml.automl: 08-19 14:21:37] {3193} INFO -  at 51.0s,\testimator xgboost's best error=0.3083,\tbest estimator lgbm's best error=0.2752\n",
      "[flaml.automl: 08-19 14:21:37] {3013} INFO - iteration 29, current learner xgboost\n",
      "[flaml.automl: 08-19 14:21:38] {3193} INFO -  at 51.5s,\testimator xgboost's best error=0.3083,\tbest estimator lgbm's best error=0.2752\n",
      "[flaml.automl: 08-19 14:21:38] {3013} INFO - iteration 30, current learner rf\n",
      "[flaml.automl: 08-19 14:21:38] {3193} INFO -  at 51.7s,\testimator rf's best error=0.3250,\tbest estimator lgbm's best error=0.2752\n",
      "[flaml.automl: 08-19 14:21:38] {3013} INFO - iteration 31, current learner rf\n",
      "[flaml.automl: 08-19 14:21:38] {3193} INFO -  at 51.8s,\testimator rf's best error=0.3250,\tbest estimator lgbm's best error=0.2752\n",
      "[flaml.automl: 08-19 14:21:38] {3013} INFO - iteration 32, current learner rf\n",
      "[flaml.automl: 08-19 14:21:38] {3193} INFO -  at 51.9s,\testimator rf's best error=0.3250,\tbest estimator lgbm's best error=0.2752\n",
      "[flaml.automl: 08-19 14:21:38] {3013} INFO - iteration 33, current learner extra_tree\n",
      "[flaml.automl: 08-19 14:21:38] {3193} INFO -  at 52.2s,\testimator extra_tree's best error=0.3178,\tbest estimator lgbm's best error=0.2752\n",
      "[flaml.automl: 08-19 14:21:38] {3013} INFO - iteration 34, current learner rf\n",
      "[flaml.automl: 08-19 14:21:38] {3193} INFO -  at 52.3s,\testimator rf's best error=0.3250,\tbest estimator lgbm's best error=0.2752\n",
      "[flaml.automl: 08-19 14:21:38] {3013} INFO - iteration 35, current learner xgboost\n",
      "[flaml.automl: 08-19 14:21:39] {3193} INFO -  at 52.8s,\testimator xgboost's best error=0.3083,\tbest estimator lgbm's best error=0.2752\n",
      "[flaml.automl: 08-19 14:21:39] {3013} INFO - iteration 36, current learner extra_tree\n",
      "[flaml.automl: 08-19 14:21:39] {3193} INFO -  at 53.2s,\testimator extra_tree's best error=0.3147,\tbest estimator lgbm's best error=0.2752\n",
      "[flaml.automl: 08-19 14:21:39] {3013} INFO - iteration 37, current learner extra_tree\n",
      "[flaml.automl: 08-19 14:21:39] {3193} INFO -  at 53.5s,\testimator extra_tree's best error=0.3147,\tbest estimator lgbm's best error=0.2752\n",
      "[flaml.automl: 08-19 14:21:39] {3013} INFO - iteration 38, current learner extra_tree\n",
      "[flaml.automl: 08-19 14:21:40] {3193} INFO -  at 53.9s,\testimator extra_tree's best error=0.3147,\tbest estimator lgbm's best error=0.2752\n",
      "[flaml.automl: 08-19 14:21:40] {3013} INFO - iteration 39, current learner xgboost\n",
      "[flaml.automl: 08-19 14:21:40] {3193} INFO -  at 54.3s,\testimator xgboost's best error=0.3083,\tbest estimator lgbm's best error=0.2752\n",
      "[flaml.automl: 08-19 14:21:40] {3013} INFO - iteration 40, current learner extra_tree\n",
      "[flaml.automl: 08-19 14:21:40] {3193} INFO -  at 54.5s,\testimator extra_tree's best error=0.3147,\tbest estimator lgbm's best error=0.2752\n",
      "[flaml.automl: 08-19 14:21:40] {3013} INFO - iteration 41, current learner extra_tree\n",
      "[flaml.automl: 08-19 14:21:41] {3193} INFO -  at 54.7s,\testimator extra_tree's best error=0.3147,\tbest estimator lgbm's best error=0.2752\n",
      "[flaml.automl: 08-19 14:21:41] {3013} INFO - iteration 42, current learner rf\n",
      "[flaml.automl: 08-19 14:21:41] {3193} INFO -  at 54.8s,\testimator rf's best error=0.3250,\tbest estimator lgbm's best error=0.2752\n",
      "[flaml.automl: 08-19 14:21:41] {3013} INFO - iteration 43, current learner extra_tree\n",
      "[flaml.automl: 08-19 14:21:41] {3193} INFO -  at 55.1s,\testimator extra_tree's best error=0.3130,\tbest estimator lgbm's best error=0.2752\n",
      "[flaml.automl: 08-19 14:21:41] {3013} INFO - iteration 44, current learner extra_tree\n",
      "[flaml.automl: 08-19 14:21:42] {3193} INFO -  at 55.5s,\testimator extra_tree's best error=0.3130,\tbest estimator lgbm's best error=0.2752\n",
      "[flaml.automl: 08-19 14:21:42] {3013} INFO - iteration 45, current learner xgboost\n",
      "[flaml.automl: 08-19 14:21:42] {3193} INFO -  at 55.8s,\testimator xgboost's best error=0.3083,\tbest estimator lgbm's best error=0.2752\n",
      "[flaml.automl: 08-19 14:21:42] {3013} INFO - iteration 46, current learner rf\n",
      "[flaml.automl: 08-19 14:21:42] {3193} INFO -  at 55.9s,\testimator rf's best error=0.3250,\tbest estimator lgbm's best error=0.2752\n",
      "[flaml.automl: 08-19 14:21:42] {3013} INFO - iteration 47, current learner xgboost\n",
      "[flaml.automl: 08-19 14:21:45] {3193} INFO -  at 59.4s,\testimator xgboost's best error=0.3045,\tbest estimator lgbm's best error=0.2752\n",
      "[flaml.automl: 08-19 14:21:45] {3013} INFO - iteration 48, current learner rf\n",
      "[flaml.automl: 08-19 14:21:46] {3193} INFO -  at 59.5s,\testimator rf's best error=0.3250,\tbest estimator lgbm's best error=0.2752\n",
      "[flaml.automl: 08-19 14:21:46] {3013} INFO - iteration 49, current learner rf\n",
      "[flaml.automl: 08-19 14:21:46] {3193} INFO -  at 59.6s,\testimator rf's best error=0.3250,\tbest estimator lgbm's best error=0.2752\n",
      "[flaml.automl: 08-19 14:21:46] {3013} INFO - iteration 50, current learner extra_tree\n",
      "[flaml.automl: 08-19 14:21:46] {3193} INFO -  at 59.6s,\testimator extra_tree's best error=0.3130,\tbest estimator lgbm's best error=0.2752\n",
      "[flaml.automl: 08-19 14:21:46] {3013} INFO - iteration 51, current learner rf\n",
      "[flaml.automl: 08-19 14:21:46] {3193} INFO -  at 59.7s,\testimator rf's best error=0.3250,\tbest estimator lgbm's best error=0.2752\n",
      "[flaml.automl: 08-19 14:21:46] {3013} INFO - iteration 52, current learner rf\n",
      "[flaml.automl: 08-19 14:21:46] {3193} INFO -  at 59.8s,\testimator rf's best error=0.3250,\tbest estimator lgbm's best error=0.2752\n",
      "[flaml.automl: 08-19 14:21:46] {3013} INFO - iteration 53, current learner catboost\n",
      "[flaml.automl: 08-19 14:21:46] {3193} INFO -  at 59.9s,\testimator catboost's best error=0.3432,\tbest estimator lgbm's best error=0.2752\n",
      "[flaml.automl: 08-19 14:21:46] {3013} INFO - iteration 54, current learner xgb_limitdepth\n",
      "[flaml.automl: 08-19 14:21:46] {3193} INFO -  at 60.0s,\testimator xgb_limitdepth's best error=0.3514,\tbest estimator lgbm's best error=0.2752\n",
      "[flaml.automl: 08-19 14:21:58] {3457} INFO - retrain lgbm for 11.6s\n",
      "[flaml.automl: 08-19 14:21:58] {3464} INFO - retrained model: LGBMClassifier(colsample_bytree=0.6974195532971691,\n",
      "               learning_rate=0.13552188510215255, max_bin=63,\n",
      "               min_child_samples=2, n_estimators=426, num_leaves=58,\n",
      "               reg_alpha=0.0009765625, reg_lambda=0.056482589622439544,\n",
      "               verbose=-1)\n",
      "[flaml.automl: 08-19 14:21:58] {2742} INFO - fit succeeded\n",
      "[flaml.automl: 08-19 14:21:58] {2743} INFO - Time taken to find the best model: 49.91671013832092\n",
      "[flaml.automl: 08-19 14:21:58] {2754} WARNING - Time taken to find the best model is 83% of the provided time budget and not all estimators' hyperparameter search converged. Consider increasing the time budget.\n"
     ]
    }
   ],
   "source": [
    "from flaml import AutoML\n",
    "automl1 = AutoML()\n",
    "automl1.fit(X_train, y_train, time_budget=30)\n",
    "automl2 = AutoML()\n",
    "automl2.fit(X_train, y_train, time_budget=60, starting_points=automl1.best_config_per_estimator)"
   ]
  },
  {
   "cell_type": "markdown",
   "metadata": {},
   "source": [
    "## 8. Parallel tuning\n",
    "When you have parallel resources, you can either spend them in training and keep the model search sequential, or perform parallel search.\n",
    "\n",
    "To do parallel tuning, install the `ray` and `blendsearch` options:"
   ]
  },
  {
   "cell_type": "code",
   "execution_count": 54,
   "metadata": {},
   "outputs": [
    {
     "name": "stdout",
     "output_type": "stream",
     "text": [
      "Requirement already satisfied: flaml[blendsearch,ray] in /home/ec2-user/tutorial/FLAML (1.0.10)\n",
      "Requirement already satisfied: NumPy>=1.17.0rc1 in /home/ec2-user/miniconda3/envs/myflaml/lib/python3.8/site-packages (from flaml[blendsearch,ray]) (1.21.4)\n",
      "Requirement already satisfied: lightgbm>=2.3.1 in /home/ec2-user/miniconda3/envs/myflaml/lib/python3.8/site-packages (from flaml[blendsearch,ray]) (2.3.1)\n",
      "Requirement already satisfied: xgboost>=0.90 in /home/ec2-user/miniconda3/envs/myflaml/lib/python3.8/site-packages (from flaml[blendsearch,ray]) (0.90)\n",
      "Requirement already satisfied: scipy>=1.4.1 in /home/ec2-user/miniconda3/envs/myflaml/lib/python3.8/site-packages (from flaml[blendsearch,ray]) (1.5.4)\n",
      "Requirement already satisfied: pandas>=1.1.4 in /home/ec2-user/miniconda3/envs/myflaml/lib/python3.8/site-packages (from flaml[blendsearch,ray]) (1.3.0)\n",
      "Requirement already satisfied: scikit-learn>=0.24 in /home/ec2-user/miniconda3/envs/myflaml/lib/python3.8/site-packages (from flaml[blendsearch,ray]) (0.24.2)\n",
      "Requirement already satisfied: ray[tune]~=1.13 in /home/ec2-user/miniconda3/envs/myflaml/lib/python3.8/site-packages (from flaml[blendsearch,ray]) (1.13.0)\n",
      "Requirement already satisfied: optuna==2.8.0 in /home/ec2-user/miniconda3/envs/myflaml/lib/python3.8/site-packages (from flaml[blendsearch,ray]) (2.8.0)\n",
      "Requirement already satisfied: packaging>=20.0 in /home/ec2-user/miniconda3/envs/myflaml/lib/python3.8/site-packages (from optuna==2.8.0->flaml[blendsearch,ray]) (21.3)\n",
      "Requirement already satisfied: alembic in /home/ec2-user/miniconda3/envs/myflaml/lib/python3.8/site-packages (from optuna==2.8.0->flaml[blendsearch,ray]) (1.4.1)\n",
      "Requirement already satisfied: tqdm in /home/ec2-user/miniconda3/envs/myflaml/lib/python3.8/site-packages (from optuna==2.8.0->flaml[blendsearch,ray]) (4.63.1)\n",
      "Requirement already satisfied: cliff in /home/ec2-user/miniconda3/envs/myflaml/lib/python3.8/site-packages (from optuna==2.8.0->flaml[blendsearch,ray]) (3.10.0)\n",
      "Requirement already satisfied: sqlalchemy>=1.1.0 in /home/ec2-user/miniconda3/envs/myflaml/lib/python3.8/site-packages (from optuna==2.8.0->flaml[blendsearch,ray]) (1.4.27)\n",
      "Requirement already satisfied: cmaes>=0.8.2 in /home/ec2-user/miniconda3/envs/myflaml/lib/python3.8/site-packages (from optuna==2.8.0->flaml[blendsearch,ray]) (0.8.2)\n",
      "Requirement already satisfied: colorlog in /home/ec2-user/miniconda3/envs/myflaml/lib/python3.8/site-packages (from optuna==2.8.0->flaml[blendsearch,ray]) (6.6.0)\n",
      "Requirement already satisfied: pyparsing!=3.0.5,>=2.0.2 in /home/ec2-user/miniconda3/envs/myflaml/lib/python3.8/site-packages (from packaging>=20.0->optuna==2.8.0->flaml[blendsearch,ray]) (3.0.7)\n",
      "Requirement already satisfied: python-dateutil>=2.7.3 in /home/ec2-user/miniconda3/envs/myflaml/lib/python3.8/site-packages (from pandas>=1.1.4->flaml[blendsearch,ray]) (2.8.1)\n",
      "Requirement already satisfied: pytz>=2017.3 in /home/ec2-user/miniconda3/envs/myflaml/lib/python3.8/site-packages (from pandas>=1.1.4->flaml[blendsearch,ray]) (2022.1)\n",
      "Requirement already satisfied: six>=1.5 in /home/ec2-user/miniconda3/envs/myflaml/lib/python3.8/site-packages (from python-dateutil>=2.7.3->pandas>=1.1.4->flaml[blendsearch,ray]) (1.15.0)\n",
      "Requirement already satisfied: pyyaml in /home/ec2-user/miniconda3/envs/myflaml/lib/python3.8/site-packages (from ray[tune]~=1.13->flaml[blendsearch,ray]) (5.3)\n",
      "Requirement already satisfied: aiosignal in /home/ec2-user/miniconda3/envs/myflaml/lib/python3.8/site-packages (from ray[tune]~=1.13->flaml[blendsearch,ray]) (1.2.0)\n",
      "Requirement already satisfied: virtualenv in /home/ec2-user/miniconda3/envs/myflaml/lib/python3.8/site-packages (from ray[tune]~=1.13->flaml[blendsearch,ray]) (20.10.0)\n",
      "Requirement already satisfied: click<=8.0.4,>=7.0 in /home/ec2-user/miniconda3/envs/myflaml/lib/python3.8/site-packages (from ray[tune]~=1.13->flaml[blendsearch,ray]) (8.0.3)\n",
      "Requirement already satisfied: protobuf<4.0.0,>=3.15.3 in /home/ec2-user/miniconda3/envs/myflaml/lib/python3.8/site-packages (from ray[tune]~=1.13->flaml[blendsearch,ray]) (3.19.1)\n",
      "Requirement already satisfied: grpcio<=1.43.0,>=1.28.1 in /home/ec2-user/miniconda3/envs/myflaml/lib/python3.8/site-packages (from ray[tune]~=1.13->flaml[blendsearch,ray]) (1.42.0)\n",
      "Requirement already satisfied: msgpack<2.0.0,>=1.0.0 in /home/ec2-user/miniconda3/envs/myflaml/lib/python3.8/site-packages (from ray[tune]~=1.13->flaml[blendsearch,ray]) (1.0.3)\n",
      "Requirement already satisfied: filelock in /home/ec2-user/miniconda3/envs/myflaml/lib/python3.8/site-packages (from ray[tune]~=1.13->flaml[blendsearch,ray]) (3.4.0)\n",
      "Requirement already satisfied: jsonschema in /home/ec2-user/miniconda3/envs/myflaml/lib/python3.8/site-packages (from ray[tune]~=1.13->flaml[blendsearch,ray]) (4.2.1)\n",
      "Requirement already satisfied: requests in /home/ec2-user/miniconda3/envs/myflaml/lib/python3.8/site-packages (from ray[tune]~=1.13->flaml[blendsearch,ray]) (2.26.0)\n",
      "Requirement already satisfied: frozenlist in /home/ec2-user/miniconda3/envs/myflaml/lib/python3.8/site-packages (from ray[tune]~=1.13->flaml[blendsearch,ray]) (1.2.0)\n",
      "Requirement already satisfied: attrs in /home/ec2-user/miniconda3/envs/myflaml/lib/python3.8/site-packages (from ray[tune]~=1.13->flaml[blendsearch,ray]) (21.2.0)\n",
      "Requirement already satisfied: tensorboardX>=1.9 in /home/ec2-user/miniconda3/envs/myflaml/lib/python3.8/site-packages (from ray[tune]~=1.13->flaml[blendsearch,ray]) (2.4.1)\n",
      "Requirement already satisfied: tabulate in /home/ec2-user/miniconda3/envs/myflaml/lib/python3.8/site-packages (from ray[tune]~=1.13->flaml[blendsearch,ray]) (0.8.9)\n",
      "Requirement already satisfied: threadpoolctl>=2.0.0 in /home/ec2-user/miniconda3/envs/myflaml/lib/python3.8/site-packages (from scikit-learn>=0.24->flaml[blendsearch,ray]) (3.0.0)\n",
      "Requirement already satisfied: joblib>=0.11 in /home/ec2-user/miniconda3/envs/myflaml/lib/python3.8/site-packages (from scikit-learn>=0.24->flaml[blendsearch,ray]) (1.1.0)\n",
      "Requirement already satisfied: greenlet!=0.4.17 in /home/ec2-user/miniconda3/envs/myflaml/lib/python3.8/site-packages (from sqlalchemy>=1.1.0->optuna==2.8.0->flaml[blendsearch,ray]) (1.1.2)\n",
      "Requirement already satisfied: Mako in /home/ec2-user/miniconda3/envs/myflaml/lib/python3.8/site-packages (from alembic->optuna==2.8.0->flaml[blendsearch,ray]) (1.1.6)\n",
      "Requirement already satisfied: python-editor>=0.3 in /home/ec2-user/miniconda3/envs/myflaml/lib/python3.8/site-packages (from alembic->optuna==2.8.0->flaml[blendsearch,ray]) (1.0.4)\n",
      "Requirement already satisfied: cmd2>=1.0.0 in /home/ec2-user/miniconda3/envs/myflaml/lib/python3.8/site-packages (from cliff->optuna==2.8.0->flaml[blendsearch,ray]) (2.3.3)\n",
      "Requirement already satisfied: pbr!=2.1.0,>=2.0.0 in /home/ec2-user/miniconda3/envs/myflaml/lib/python3.8/site-packages (from cliff->optuna==2.8.0->flaml[blendsearch,ray]) (5.8.0)\n",
      "Requirement already satisfied: autopage>=0.4.0 in /home/ec2-user/miniconda3/envs/myflaml/lib/python3.8/site-packages (from cliff->optuna==2.8.0->flaml[blendsearch,ray]) (0.4.0)\n",
      "Requirement already satisfied: PrettyTable>=0.7.2 in /home/ec2-user/miniconda3/envs/myflaml/lib/python3.8/site-packages (from cliff->optuna==2.8.0->flaml[blendsearch,ray]) (2.4.0)\n",
      "Requirement already satisfied: stevedore>=2.0.1 in /home/ec2-user/miniconda3/envs/myflaml/lib/python3.8/site-packages (from cliff->optuna==2.8.0->flaml[blendsearch,ray]) (3.5.0)\n",
      "Requirement already satisfied: wcwidth>=0.1.7 in /home/ec2-user/miniconda3/envs/myflaml/lib/python3.8/site-packages (from cmd2>=1.0.0->cliff->optuna==2.8.0->flaml[blendsearch,ray]) (0.2.5)\n",
      "Requirement already satisfied: pyperclip>=1.6 in /home/ec2-user/miniconda3/envs/myflaml/lib/python3.8/site-packages (from cmd2>=1.0.0->cliff->optuna==2.8.0->flaml[blendsearch,ray]) (1.8.2)\n",
      "Requirement already satisfied: pyrsistent!=0.17.0,!=0.17.1,!=0.17.2,>=0.14.0 in /home/ec2-user/miniconda3/envs/myflaml/lib/python3.8/site-packages (from jsonschema->ray[tune]~=1.13->flaml[blendsearch,ray]) (0.18.0)\n",
      "Requirement already satisfied: importlib-resources>=1.4.0 in /home/ec2-user/miniconda3/envs/myflaml/lib/python3.8/site-packages (from jsonschema->ray[tune]~=1.13->flaml[blendsearch,ray]) (5.4.0)\n",
      "Requirement already satisfied: zipp>=3.1.0 in /home/ec2-user/miniconda3/envs/myflaml/lib/python3.8/site-packages (from importlib-resources>=1.4.0->jsonschema->ray[tune]~=1.13->flaml[blendsearch,ray]) (3.7.0)\n",
      "Requirement already satisfied: MarkupSafe>=0.9.2 in /home/ec2-user/miniconda3/envs/myflaml/lib/python3.8/site-packages (from Mako->alembic->optuna==2.8.0->flaml[blendsearch,ray]) (2.0.1)\n",
      "Requirement already satisfied: idna<4,>=2.5 in /home/ec2-user/miniconda3/envs/myflaml/lib/python3.8/site-packages (from requests->ray[tune]~=1.13->flaml[blendsearch,ray]) (3.3)\n",
      "Requirement already satisfied: certifi>=2017.4.17 in /home/ec2-user/miniconda3/envs/myflaml/lib/python3.8/site-packages (from requests->ray[tune]~=1.13->flaml[blendsearch,ray]) (2021.10.8)\n",
      "Requirement already satisfied: charset-normalizer~=2.0.0 in /home/ec2-user/miniconda3/envs/myflaml/lib/python3.8/site-packages (from requests->ray[tune]~=1.13->flaml[blendsearch,ray]) (2.0.8)\n",
      "Requirement already satisfied: urllib3<1.27,>=1.21.1 in /home/ec2-user/miniconda3/envs/myflaml/lib/python3.8/site-packages (from requests->ray[tune]~=1.13->flaml[blendsearch,ray]) (1.26.7)\n",
      "Requirement already satisfied: backports.entry-points-selectable>=1.0.4 in /home/ec2-user/miniconda3/envs/myflaml/lib/python3.8/site-packages (from virtualenv->ray[tune]~=1.13->flaml[blendsearch,ray]) (1.1.1)\n",
      "Requirement already satisfied: distlib<1,>=0.3.1 in /home/ec2-user/miniconda3/envs/myflaml/lib/python3.8/site-packages (from virtualenv->ray[tune]~=1.13->flaml[blendsearch,ray]) (0.3.3)\n",
      "Requirement already satisfied: platformdirs<3,>=2 in /home/ec2-user/miniconda3/envs/myflaml/lib/python3.8/site-packages (from virtualenv->ray[tune]~=1.13->flaml[blendsearch,ray]) (2.4.0)\n",
      "Note: you may need to restart the kernel to use updated packages.\n"
     ]
    }
   ],
   "source": [
    "%pip install flaml[ray,blendsearch]"
   ]
  },
  {
   "cell_type": "code",
   "execution_count": 56,
   "metadata": {},
   "outputs": [
    {
     "data": {
      "text/html": [
       "== Status ==<br>Current time: 2022-08-19 14:25:06 (running for 00:00:34.20)<br>Memory usage on this node: 4.7/7.7 GiB<br>Using FIFO scheduling algorithm.<br>Resources requested: 0/4 CPUs, 0/0 GPUs, 0.0/2.1 GiB heap, 0.0/1.05 GiB objects<br>Current best trial: b11f6a96 with val_loss=0.3118658799374163 and parameters={'ml': {'n_estimators': 10, 'max_depth': 6, 'min_child_weight': 0.9999999999999993, 'learning_rate': 0.29999999999999993, 'subsample': 1.0, 'colsample_bylevel': 1.0, 'colsample_bytree': 1.0, 'reg_alpha': 0.0009765625, 'reg_lambda': 1.0, 'learner': 'xgb_limitdepth'}, 'FLAML_sample_size': 40000}<br>Result logdir: /home/ec2-user/ray_results/train_2022-08-19_14-24-31<br>Number of trials: 17/1000000 (17 TERMINATED)<br><br>"
      ],
      "text/plain": [
       "<IPython.core.display.HTML object>"
      ]
     },
     "metadata": {},
     "output_type": "display_data"
    },
    {
     "name": "stderr",
     "output_type": "stream",
     "text": [
      "2022-08-19 14:25:07,072\tINFO tune.py:747 -- Total run time: 35.26 seconds (34.16 seconds for the tuning loop).\n",
      "[flaml.automl: 08-19 14:25:07] {3314} INFO - selected model: None\n",
      "[flaml.automl: 08-19 14:25:13] {3457} INFO - retrain xgb_limitdepth for 6.2s\n",
      "[flaml.automl: 08-19 14:25:13] {3464} INFO - retrained model: XGBClassifier(colsample_bylevel=1.0, colsample_bytree=1.0,\n",
      "              learning_rate=0.29999999999999993, max_depth=6,\n",
      "              min_child_weight=0.9999999999999993, n_estimators=10, n_jobs=2,\n",
      "              reg_alpha=0.0009765625, reg_lambda=1.0, subsample=1.0,\n",
      "              use_label_encoder=False, verbosity=0)\n",
      "[flaml.automl: 08-19 14:25:13] {2742} INFO - fit succeeded\n",
      "[flaml.automl: 08-19 14:25:13] {2743} INFO - Time taken to find the best model: 29.89594602584839\n",
      "[flaml.automl: 08-19 14:25:13] {2754} WARNING - Time taken to find the best model is 100% of the provided time budget and not all estimators' hyperparameter search converged. Consider increasing the time budget.\n"
     ]
    }
   ],
   "source": [
    "import ray\n",
    "from flaml import AutoML\n",
    "ray.init(num_cpus=4)\n",
    "automl = AutoML()\n",
    "automl.fit(X_train, y_train, time_budget=30, n_jobs=2, n_concurrent_trials=2)"
   ]
  }
 ],
 "metadata": {
  "interpreter": {
   "hash": "5432eb6463ddd46aaa76ccf859b1fa421ab98224a755661a6688060ed6e23d59"
  },
  "kernelspec": {
   "display_name": "flaml",
   "language": "python",
   "name": "flaml"
  },
  "language_info": {
   "codemirror_mode": {
    "name": "ipython",
    "version": 3
   },
   "file_extension": ".py",
   "mimetype": "text/x-python",
   "name": "python",
   "nbconvert_exporter": "python",
   "pygments_lexer": "ipython3",
   "version": "3.11.3"
  }
 },
 "nbformat": 4,
 "nbformat_minor": 2
}
